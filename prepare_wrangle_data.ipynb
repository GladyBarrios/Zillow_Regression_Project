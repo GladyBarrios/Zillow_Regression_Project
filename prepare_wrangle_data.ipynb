{
 "cells": [
  {
   "cell_type": "code",
   "execution_count": 20,
   "id": "71568fe2",
   "metadata": {},
   "outputs": [],
   "source": [
    "import pandas as pd\n",
    "import numpy as np\n",
    "import seaborn as sns\n",
    "import matplotlib.pyplot as plt\n",
    "from env import user, password, host"
   ]
  },
  {
   "cell_type": "code",
   "execution_count": 21,
   "id": "719a2977",
   "metadata": {},
   "outputs": [],
   "source": [
    "# just to note everything is a mess atm "
   ]
  },
  {
   "cell_type": "code",
   "execution_count": null,
   "id": "8e12071d",
   "metadata": {},
   "outputs": [],
   "source": [
    "def get_connection(db, user=env.user, host=env.host, password=env.password):\n",
    "    return f'mysql+pymysql://{user}:{password}@{host}/{db}'"
   ]
  },
  {
   "cell_type": "code",
   "execution_count": null,
   "id": "ffaf4c15",
   "metadata": {},
   "outputs": [],
   "source": [
    "def get_new_zillow_data():\n",
    "    \"\"\"Returns a dataframe of all 2017 properties that are Single Family Residential\"\"\"\n",
    "\n",
    "    sql = '''Select bathroomcnt, bedroomcnt, calculatedfinishedsquarefeet, taxvaluedollarcnt, yearbuilt, taxamount, fips, transactiondate from properties_2017\n",
    "join propertylandusetype using (propertylandusetypeid)\n",
    "join predictions_2017 using (parcelid)\n",
    "where propertylandusedesc = \"Single Family Residential\"\n",
    "AND predictions_2017.transactiondate like '2017%%'\n",
    "'''\n",
    "    return pd.read_sql(sql, get_connection(\"zillow\"))\n"
   ]
  },
  {
   "cell_type": "code",
   "execution_count": null,
   "id": "deebbb9f",
   "metadata": {
    "scrolled": true
   },
   "outputs": [],
   "source": [
    "get_new_zillow_data()"
   ]
  },
  {
   "cell_type": "code",
   "execution_count": null,
   "id": "c1112919",
   "metadata": {},
   "outputs": [],
   "source": []
  },
  {
   "cell_type": "markdown",
   "id": "4beef880",
   "metadata": {},
   "source": [
    "- DATA Wrangling aquireing the data "
   ]
  },
  {
   "cell_type": "code",
   "execution_count": null,
   "id": "76ec956b",
   "metadata": {},
   "outputs": [],
   "source": [
    "sql = '''Select bathroomcnt, bedroomcnt, calculatedfinishedsquarefeet, taxvaluedollarcnt, yearbuilt, taxamount, fips, transactiondate from properties_2017\n",
    "join propertylandusetype using (propertylandusetypeid)\n",
    "join predictions_2017 using (parcelid)\n",
    "where propertylandusedesc = \"Single Family Residential\"\n",
    "AND predictions_2017.transactiondate like '2017%%'\n",
    "'''\n",
    "\n",
    "df = pd.read_sql(sql, get_connection(\"zillow\"))\n",
    "df.head()"
   ]
  },
  {
   "cell_type": "code",
   "execution_count": null,
   "id": "d35cd48b",
   "metadata": {},
   "outputs": [],
   "source": [
    "df.shape"
   ]
  },
  {
   "cell_type": "code",
   "execution_count": null,
   "id": "fda02ca9",
   "metadata": {},
   "outputs": [],
   "source": [
    "df.info()"
   ]
  },
  {
   "cell_type": "code",
   "execution_count": null,
   "id": "de23e5d7",
   "metadata": {},
   "outputs": [],
   "source": [
    "df.describe()"
   ]
  },
  {
   "cell_type": "code",
   "execution_count": null,
   "id": "e0645d92",
   "metadata": {
    "scrolled": true
   },
   "outputs": [],
   "source": [
    "df.isnull().sum()"
   ]
  },
  {
   "cell_type": "code",
   "execution_count": null,
   "id": "d47a0dda",
   "metadata": {
    "scrolled": true
   },
   "outputs": [],
   "source": [
    "df.columns[df.isnull().any()]"
   ]
  },
  {
   "cell_type": "code",
   "execution_count": null,
   "id": "d3d7bca9",
   "metadata": {},
   "outputs": [],
   "source": [
    "df = df.dropna()"
   ]
  },
  {
   "cell_type": "markdown",
   "id": "e44847de",
   "metadata": {},
   "source": [
    "- there is 52k people in this dataset i think losing like 200 is okay :)"
   ]
  },
  {
   "cell_type": "code",
   "execution_count": null,
   "id": "ea1b874a",
   "metadata": {
    "scrolled": true
   },
   "outputs": [],
   "source": [
    "df.info()"
   ]
  },
  {
   "cell_type": "code",
   "execution_count": null,
   "id": "236b77bf",
   "metadata": {},
   "outputs": [],
   "source": []
  },
  {
   "cell_type": "code",
   "execution_count": null,
   "id": "e0bf43b7",
   "metadata": {},
   "outputs": [],
   "source": [
    "def optimize_types(df):\n",
    "    # Convert some columns to integers\n",
    "    # fips, yearbuilt, and bedrooms can be integers\n",
    "    df[\"fips\"] = df[\"fips\"].astype(int)\n",
    "    df[\"yearbuilt\"] = df[\"yearbuilt\"].astype(int)\n",
    "    df[\"bedroomcnt\"] = df[\"bedroomcnt\"].astype(int)    \n",
    "    df[\"taxvaluedollarcnt\"] = df[\"taxvaluedollarcnt\"].astype(int)\n",
    "    df[\"calculatedfinishedsquarefeet\"] = df[\"calculatedfinishedsquarefeet\"].astype(int)\n",
    "    return df"
   ]
  },
  {
   "cell_type": "code",
   "execution_count": null,
   "id": "4967b2a6",
   "metadata": {},
   "outputs": [],
   "source": [
    "optimize_types(df)"
   ]
  },
  {
   "cell_type": "code",
   "execution_count": null,
   "id": "3a713522",
   "metadata": {},
   "outputs": [],
   "source": [
    "df.info()"
   ]
  },
  {
   "cell_type": "code",
   "execution_count": null,
   "id": "d7f56e84",
   "metadata": {},
   "outputs": [],
   "source": [
    "df.isnull().sum()"
   ]
  },
  {
   "cell_type": "code",
   "execution_count": 29,
   "id": "524dc154",
   "metadata": {},
   "outputs": [
    {
     "data": {
      "image/png": "[encoded data removed]",
      "text/plain": [
       "<Figure size 1152x216 with 3 Axes>"
      ]
     },
     "metadata": {
      "needs_background": "light"
     },
     "output_type": "display_data"
    }
   ],
   "source": [
    "plt.figure(figsize=(16, 3))\n",
    "\n",
    "# List of columns\n",
    "cols = ['bathroomcnt', 'bedroomcnt', 'calculatedfinishedsquarefeet',]\n",
    "\n",
    "for i, col in enumerate(cols):\n",
    "    \n",
    "    # i starts at 0, but plot nos should start at 1\n",
    "    plot_number = i + 1 \n",
    "    \n",
    "    # Create subplot.\n",
    "    plt.subplot(1,4, plot_number)\n",
    "    \n",
    "    # Title with column name.\n",
    "    plt.title(col)\n",
    "    \n",
    "    # Display histogram for column.\n",
    "    df[col].hist(bins=5, edgecolor='black')\n",
    "    \n",
    "    # Hide gridlines.\n",
    "    plt.grid(False)"
   ]
  },
  {
   "cell_type": "code",
   "execution_count": null,
   "id": "0ebfda71",
   "metadata": {},
   "outputs": [],
   "source": []
  },
  {
   "cell_type": "code",
   "execution_count": null,
   "id": "9b55bdb1",
   "metadata": {},
   "outputs": [],
   "source": [
    "df.fips.value_counts()"
   ]
  },
  {
   "cell_type": "code",
   "execution_count": null,
   "id": "06502dc7",
   "metadata": {},
   "outputs": [],
   "source": []
  },
  {
   "cell_type": "code",
   "execution_count": null,
   "id": "6a4bd3d7",
   "metadata": {},
   "outputs": [],
   "source": [
    "df['County'] = df.fips.map({6037:'LA', 6059:'Orange', 6111:'Ventura'})\n",
    "\n",
    "df.head()"
   ]
  },
  {
   "cell_type": "code",
   "execution_count": null,
   "id": "5d237503",
   "metadata": {
    "scrolled": true
   },
   "outputs": [],
   "source": [
    "def fix_fips(df):\n",
    "    df['County'] = df.fips.map({6037:'Los Angeles County', 6059:'Orange County', 6111:'Ventura County'})\n",
    "    return df\n"
   ]
  },
  {
   "cell_type": "code",
   "execution_count": null,
   "id": "45e3e1d8",
   "metadata": {},
   "outputs": [],
   "source": [
    "fix_fips(df)"
   ]
  },
  {
   "cell_type": "code",
   "execution_count": null,
   "id": "6d9cc3d2",
   "metadata": {
    "scrolled": false
   },
   "outputs": [],
   "source": [
    "for column in df.columns:\n",
    "    print(column)\n",
    "    print(df[column].value_counts())\n",
    "    print(\"-------------------------------\")"
   ]
  },
  {
   "cell_type": "code",
   "execution_count": null,
   "id": "b4000fb2",
   "metadata": {},
   "outputs": [],
   "source": [
    "#im just going to look and everything and see what i can remove as outliers "
   ]
  },
  {
   "cell_type": "code",
   "execution_count": null,
   "id": "69ff7e4a",
   "metadata": {},
   "outputs": [],
   "source": [
    "sns.countplot(x='bedroomcnt', data = df)"
   ]
  },
  {
   "cell_type": "code",
   "execution_count": null,
   "id": "724a58cc",
   "metadata": {},
   "outputs": [],
   "source": [
    "df.bedroomcnt.value_counts()"
   ]
  },
  {
   "cell_type": "code",
   "execution_count": null,
   "id": "3d809a82",
   "metadata": {},
   "outputs": [],
   "source": [
    "df.bedroomcnt.sort_values(ascending=False).head(30)"
   ]
  },
  {
   "cell_type": "code",
   "execution_count": null,
   "id": "ee937c17",
   "metadata": {},
   "outputs": [],
   "source": [
    "# What percentage of properties have 6 or less bedrooms?\n",
    "#so i could drop anything less than 6 \n",
    "df[df.bedroomcnt <= 6].shape[0] / df.shape[0]"
   ]
  },
  {
   "cell_type": "code",
   "execution_count": null,
   "id": "f268191c",
   "metadata": {},
   "outputs": [],
   "source": [
    "df = df[df.bedroomcnt <= 6]"
   ]
  },
  {
   "cell_type": "code",
   "execution_count": null,
   "id": "08165c1f",
   "metadata": {},
   "outputs": [],
   "source": [
    "df.shape"
   ]
  },
  {
   "cell_type": "code",
   "execution_count": null,
   "id": "1a873123",
   "metadata": {},
   "outputs": [],
   "source": [
    "#now imma look at the bathrooms "
   ]
  },
  {
   "cell_type": "code",
   "execution_count": null,
   "id": "fd657a42",
   "metadata": {},
   "outputs": [],
   "source": [
    "sns.countplot(x='bathroomcnt', data = df)"
   ]
  },
  {
   "cell_type": "code",
   "execution_count": null,
   "id": "1a859335",
   "metadata": {
    "scrolled": false
   },
   "outputs": [],
   "source": [
    "df.bathroomcnt.sort_values(ascending=False).head(30)\n",
    "#10 Bathrooms LOL "
   ]
  },
  {
   "cell_type": "code",
   "execution_count": null,
   "id": "ad900a0e",
   "metadata": {},
   "outputs": [],
   "source": [
    "df[df.bathroomcnt <= 6].shape[0] / df.shape[0]"
   ]
  },
  {
   "cell_type": "code",
   "execution_count": null,
   "id": "b5b4ecdc",
   "metadata": {},
   "outputs": [],
   "source": [
    "df = df[df.bathroomcnt <= 6]"
   ]
  },
  {
   "cell_type": "code",
   "execution_count": null,
   "id": "a3bf1fed",
   "metadata": {},
   "outputs": [],
   "source": [
    "df.shape"
   ]
  },
  {
   "cell_type": "code",
   "execution_count": null,
   "id": "3af0fdb9",
   "metadata": {},
   "outputs": [],
   "source": [
    "#okay recap bathroom and bedrrom have been rehsaped \n",
    "#bathroom all the ones greater than 6 \n",
    "#bedroom all the ones greater than 6 "
   ]
  },
  {
   "cell_type": "code",
   "execution_count": null,
   "id": "2ef5ae91",
   "metadata": {},
   "outputs": [],
   "source": [
    "# What percentage of properties are less than $1.5m in tax value?\n",
    "df[df.taxvaluedollarcnt < 1_500_000].shape[0] / df.shape[0]\n"
   ]
  },
  {
   "cell_type": "code",
   "execution_count": null,
   "id": "dba01ede",
   "metadata": {},
   "outputs": [],
   "source": [
    "df = df[df.taxvaluedollarcnt < 1_500_000]"
   ]
  },
  {
   "cell_type": "code",
   "execution_count": null,
   "id": "8290e5dc",
   "metadata": {},
   "outputs": [],
   "source": [
    "df.shape"
   ]
  },
  {
   "cell_type": "code",
   "execution_count": null,
   "id": "c7c7e3b5",
   "metadata": {},
   "outputs": [],
   "source": [
    "df.head()"
   ]
  },
  {
   "cell_type": "code",
   "execution_count": null,
   "id": "1a1fd032",
   "metadata": {},
   "outputs": [],
   "source": [
    "sns.countplot(x='bathroomcnt', data = df)"
   ]
  },
  {
   "cell_type": "code",
   "execution_count": null,
   "id": "3bc279c8",
   "metadata": {},
   "outputs": [],
   "source": [
    "sns.countplot(x='bedroomcnt', data = df)"
   ]
  },
  {
   "cell_type": "code",
   "execution_count": null,
   "id": "d8edfb22",
   "metadata": {},
   "outputs": [],
   "source": [
    "#sns.countplot(x='taxvaluedollarcnt', data = df)\n",
    "#LOL ignore this plz "
   ]
  },
  {
   "cell_type": "code",
   "execution_count": null,
   "id": "474d98df",
   "metadata": {},
   "outputs": [],
   "source": [
    "# think removing the zero bedrrom and maybe zero bathroom would be good "
   ]
  },
  {
   "cell_type": "code",
   "execution_count": null,
   "id": "5f0d92cb",
   "metadata": {},
   "outputs": [],
   "source": [
    "df[df.bathroomcnt != 0].shape[0] / df.shape[0]\n",
    "#still keep 99 of recrods :] "
   ]
  },
  {
   "cell_type": "code",
   "execution_count": null,
   "id": "ab11b212",
   "metadata": {},
   "outputs": [],
   "source": [
    "df = df[df.bathroomcnt != 0]"
   ]
  },
  {
   "cell_type": "code",
   "execution_count": null,
   "id": "33563f1b",
   "metadata": {},
   "outputs": [],
   "source": [
    "df.shape"
   ]
  },
  {
   "cell_type": "code",
   "execution_count": null,
   "id": "0728ff37",
   "metadata": {},
   "outputs": [],
   "source": [
    "df[df.bedroomcnt != 0].shape[0] / df.shape[0]"
   ]
  },
  {
   "cell_type": "code",
   "execution_count": null,
   "id": "f6b0dcf3",
   "metadata": {},
   "outputs": [],
   "source": [
    "df = df[df.bedroomcnt != 0]"
   ]
  },
  {
   "cell_type": "code",
   "execution_count": null,
   "id": "d9d1d6d6",
   "metadata": {},
   "outputs": [],
   "source": [
    "df.shape"
   ]
  },
  {
   "cell_type": "code",
   "execution_count": 22,
   "id": "6de7fa15",
   "metadata": {},
   "outputs": [],
   "source": [
    "from wrangle import wrangle_zillow"
   ]
  },
  {
   "cell_type": "code",
   "execution_count": 23,
   "id": "da0378ba",
   "metadata": {},
   "outputs": [
    {
     "data": {
      "text/html": [
       "<div>\n",
       "<style scoped>\n",
       "    .dataframe tbody tr th:only-of-type {\n",
       "        vertical-align: middle;\n",
       "    }\n",
       "\n",
       "    .dataframe tbody tr th {\n",
       "        vertical-align: top;\n",
       "    }\n",
       "\n",
       "    .dataframe thead th {\n",
       "        text-align: right;\n",
       "    }\n",
       "</style>\n",
       "<table border=\"1\" class=\"dataframe\">\n",
       "  <thead>\n",
       "    <tr style=\"text-align: right;\">\n",
       "      <th></th>\n",
       "      <th>bathroomcnt</th>\n",
       "      <th>bedroomcnt</th>\n",
       "      <th>calculatedfinishedsquarefeet</th>\n",
       "      <th>taxvaluedollarcnt</th>\n",
       "      <th>yearbuilt</th>\n",
       "      <th>taxamount</th>\n",
       "      <th>fips</th>\n",
       "      <th>transactiondate</th>\n",
       "      <th>County</th>\n",
       "    </tr>\n",
       "  </thead>\n",
       "  <tbody>\n",
       "    <tr>\n",
       "      <th>0</th>\n",
       "      <td>2.5</td>\n",
       "      <td>2</td>\n",
       "      <td>1348</td>\n",
       "      <td>343967</td>\n",
       "      <td>1979</td>\n",
       "      <td>3628.14</td>\n",
       "      <td>6059</td>\n",
       "      <td>2017-01-12</td>\n",
       "      <td>Orange County</td>\n",
       "    </tr>\n",
       "    <tr>\n",
       "      <th>1</th>\n",
       "      <td>2.0</td>\n",
       "      <td>3</td>\n",
       "      <td>1221</td>\n",
       "      <td>367034</td>\n",
       "      <td>1955</td>\n",
       "      <td>4589.60</td>\n",
       "      <td>6059</td>\n",
       "      <td>2017-01-12</td>\n",
       "      <td>Orange County</td>\n",
       "    </tr>\n",
       "    <tr>\n",
       "      <th>2</th>\n",
       "      <td>2.0</td>\n",
       "      <td>3</td>\n",
       "      <td>1462</td>\n",
       "      <td>79713</td>\n",
       "      <td>1950</td>\n",
       "      <td>1269.65</td>\n",
       "      <td>6037</td>\n",
       "      <td>2017-01-12</td>\n",
       "      <td>Los Angeles County</td>\n",
       "    </tr>\n",
       "    <tr>\n",
       "      <th>3</th>\n",
       "      <td>1.0</td>\n",
       "      <td>2</td>\n",
       "      <td>768</td>\n",
       "      <td>270458</td>\n",
       "      <td>1926</td>\n",
       "      <td>3373.09</td>\n",
       "      <td>6037</td>\n",
       "      <td>2017-01-12</td>\n",
       "      <td>Los Angeles County</td>\n",
       "    </tr>\n",
       "    <tr>\n",
       "      <th>4</th>\n",
       "      <td>4.0</td>\n",
       "      <td>4</td>\n",
       "      <td>3696</td>\n",
       "      <td>940251</td>\n",
       "      <td>1989</td>\n",
       "      <td>10313.18</td>\n",
       "      <td>6037</td>\n",
       "      <td>2017-01-12</td>\n",
       "      <td>Los Angeles County</td>\n",
       "    </tr>\n",
       "  </tbody>\n",
       "</table>\n",
       "</div>"
      ],
      "text/plain": [
       "   bathroomcnt  bedroomcnt  calculatedfinishedsquarefeet  taxvaluedollarcnt  \\\n",
       "0          2.5           2                          1348             343967   \n",
       "1          2.0           3                          1221             367034   \n",
       "2          2.0           3                          1462              79713   \n",
       "3          1.0           2                           768             270458   \n",
       "4          4.0           4                          3696             940251   \n",
       "\n",
       "   yearbuilt  taxamount  fips transactiondate              County  \n",
       "0       1979    3628.14  6059      2017-01-12       Orange County  \n",
       "1       1955    4589.60  6059      2017-01-12       Orange County  \n",
       "2       1950    1269.65  6037      2017-01-12  Los Angeles County  \n",
       "3       1926    3373.09  6037      2017-01-12  Los Angeles County  \n",
       "4       1989   10313.18  6037      2017-01-12  Los Angeles County  "
      ]
     },
     "execution_count": 23,
     "metadata": {},
     "output_type": "execute_result"
    }
   ],
   "source": [
    "df = wrangle_zillow()\n",
    "\n",
    "df.head()"
   ]
  },
  {
   "cell_type": "code",
   "execution_count": 24,
   "id": "d5b3e286",
   "metadata": {
    "scrolled": true
   },
   "outputs": [
    {
     "data": {
      "text/plain": [
       "(49593, 9)"
      ]
     },
     "execution_count": 24,
     "metadata": {},
     "output_type": "execute_result"
    }
   ],
   "source": [
    "df.shape"
   ]
  },
  {
   "cell_type": "code",
   "execution_count": 9,
   "id": "d345fc82",
   "metadata": {
    "scrolled": true
   },
   "outputs": [
    {
     "name": "stdout",
     "output_type": "stream",
     "text": [
      "<class 'pandas.core.frame.DataFrame'>\n",
      "Int64Index: 49593 entries, 0 to 49592\n",
      "Data columns (total 9 columns):\n",
      " #   Column                        Non-Null Count  Dtype  \n",
      "---  ------                        --------------  -----  \n",
      " 0   bathroomcnt                   49593 non-null  float64\n",
      " 1   bedroomcnt                    49593 non-null  int64  \n",
      " 2   calculatedfinishedsquarefeet  49593 non-null  int64  \n",
      " 3   taxvaluedollarcnt             49593 non-null  int64  \n",
      " 4   yearbuilt                     49593 non-null  int64  \n",
      " 5   taxamount                     49593 non-null  float64\n",
      " 6   fips                          49593 non-null  int64  \n",
      " 7   transactiondate               49593 non-null  object \n",
      " 8   County                        49593 non-null  object \n",
      "dtypes: float64(2), int64(5), object(2)\n",
      "memory usage: 3.8+ MB\n"
     ]
    }
   ],
   "source": [
    "df.info()"
   ]
  },
  {
   "cell_type": "code",
   "execution_count": 10,
   "id": "541aea81",
   "metadata": {},
   "outputs": [
    {
     "data": {
      "text/plain": [
       "bathroomcnt                     0\n",
       "bedroomcnt                      0\n",
       "calculatedfinishedsquarefeet    0\n",
       "taxvaluedollarcnt               0\n",
       "yearbuilt                       0\n",
       "taxamount                       0\n",
       "fips                            0\n",
       "transactiondate                 0\n",
       "County                          0\n",
       "dtype: int64"
      ]
     },
     "execution_count": 10,
     "metadata": {},
     "output_type": "execute_result"
    }
   ],
   "source": [
    "df.isnull().sum()"
   ]
  },
  {
   "cell_type": "markdown",
   "id": "b2824c8d",
   "metadata": {},
   "source": [
    "the wrangling of the data in the kalpana dataset is good too go all i would need to do is add the edits to aquire the data, "
   ]
  },
  {
   "cell_type": "code",
   "execution_count": null,
   "id": "dd01c502",
   "metadata": {},
   "outputs": [],
   "source": [
    "# def handle_outliers(df):\n",
    "#     \"\"\"Manually handle outliers that do not represent properties likely for 99% of buyers and zillow visitors\"\"\"\n",
    "#     df = df[df.bathroomcnt <= 6]\n",
    "    \n",
    "#     df = df[df.bedroomcnt <= 6]\n",
    "\n",
    "#     df = df[df.taxvaluedollarcnt < 1_500_000]\n",
    "\n",
    "#     return df"
   ]
  },
  {
   "cell_type": "code",
   "execution_count": 26,
   "id": "76a799ae",
   "metadata": {},
   "outputs": [],
   "source": [
    "from sklearn.model_selection import train_test_split"
   ]
  },
  {
   "cell_type": "code",
   "execution_count": 25,
   "id": "70f4aa84",
   "metadata": {},
   "outputs": [],
   "source": [
    "import prepare"
   ]
  },
  {
   "cell_type": "code",
   "execution_count": 8,
   "id": "bb142696",
   "metadata": {
    "scrolled": true
   },
   "outputs": [
    {
     "ename": "AttributeError",
     "evalue": "'str' object has no attribute 'fips'",
     "output_type": "error",
     "traceback": [
      "\u001b[0;31m---------------------------------------------------------------------------\u001b[0m",
      "\u001b[0;31mAttributeError\u001b[0m                            Traceback (most recent call last)",
      "Input \u001b[0;32mIn [8]\u001b[0m, in \u001b[0;36m<cell line: 1>\u001b[0;34m()\u001b[0m\n\u001b[0;32m----> 1\u001b[0m train, validate, test \u001b[38;5;241m=\u001b[39m \u001b[43mprepare\u001b[49m\u001b[38;5;241;43m.\u001b[39;49m\u001b[43mtrain_validate_test_split\u001b[49m\u001b[43m(\u001b[49m\u001b[38;5;124;43m'\u001b[39;49m\u001b[38;5;124;43mdf\u001b[39;49m\u001b[38;5;124;43m'\u001b[39;49m\u001b[43m)\u001b[49m\n",
      "File \u001b[0;32m~/codeup-data-science/Zillow_Regression_Project/prepare.py:13\u001b[0m, in \u001b[0;36mtrain_validate_test_split\u001b[0;34m(df)\u001b[0m\n\u001b[1;32m      7\u001b[0m \u001b[38;5;28;01mdef\u001b[39;00m \u001b[38;5;21mtrain_validate_test_split\u001b[39m(df):\n\u001b[1;32m      8\u001b[0m     \u001b[38;5;124;03m'''\u001b[39;00m\n\u001b[1;32m      9\u001b[0m \u001b[38;5;124;03m    This function performs split on telco data, stratify churn.\u001b[39;00m\n\u001b[1;32m     10\u001b[0m \u001b[38;5;124;03m    Returns train, validate, and test dfs.\u001b[39;00m\n\u001b[1;32m     11\u001b[0m \u001b[38;5;124;03m    '''\u001b[39;00m\n\u001b[1;32m     12\u001b[0m     train_validate, test \u001b[38;5;241m=\u001b[39m train_test_split(df, test_size\u001b[38;5;241m=\u001b[39m\u001b[38;5;241m.3\u001b[39m, \n\u001b[0;32m---> 13\u001b[0m                                         random_state\u001b[38;5;241m=\u001b[39m\u001b[38;5;241m123\u001b[39m, stratify\u001b[38;5;241m=\u001b[39m\u001b[43mdf\u001b[49m\u001b[38;5;241;43m.\u001b[39;49m\u001b[43mfips\u001b[49m)\n\u001b[1;32m     14\u001b[0m     train, validate \u001b[38;5;241m=\u001b[39m train_test_split(train_validate, test_size\u001b[38;5;241m=\u001b[39m\u001b[38;5;241m.5\u001b[39m, \n\u001b[1;32m     15\u001b[0m                                    random_state\u001b[38;5;241m=\u001b[39m\u001b[38;5;241m123\u001b[39m,  stratify\u001b[38;5;241m=\u001b[39mtrain_validate\u001b[38;5;241m.\u001b[39mfips)\n\u001b[1;32m     17\u001b[0m     \u001b[38;5;28;01mreturn\u001b[39;00m train, validate, test\n",
      "\u001b[0;31mAttributeError\u001b[0m: 'str' object has no attribute 'fips'"
     ]
    }
   ],
   "source": [
    "#train, validate, test = prepare.train_validate_test_split('df')\n",
    "\n",
    "#this is not the right way to call the function "
   ]
  },
  {
   "cell_type": "code",
   "execution_count": 27,
   "id": "29dfcf90",
   "metadata": {},
   "outputs": [
    {
     "data": {
      "text/plain": [
       "((17357, 9), (17358, 9), (14878, 9))"
      ]
     },
     "execution_count": 27,
     "metadata": {},
     "output_type": "execute_result"
    }
   ],
   "source": [
    "train, validate, test = train_validate_test_split(df)\n",
    "\n",
    "train.shape, validate.shape, test.shape"
   ]
  },
  {
   "cell_type": "code",
   "execution_count": 28,
   "id": "9c94080d",
   "metadata": {},
   "outputs": [
    {
     "data": {
      "image/png": "[encoded data removed]",
      "text/plain": [
       "<Figure size 1152x216 with 3 Axes>"
      ]
     },
     "metadata": {
      "needs_background": "light"
     },
     "output_type": "display_data"
    }
   ],
   "source": [
    "plt.figure(figsize=(16, 3))\n",
    "\n",
    "# List of columns\n",
    "cols = ['bathroomcnt', 'bedroomcnt', 'calculatedfinishedsquarefeet',]\n",
    "\n",
    "for i, col in enumerate(cols):\n",
    "    \n",
    "    # i starts at 0, but plot nos should start at 1\n",
    "    plot_number = i + 1 \n",
    "    \n",
    "    # Create subplot.\n",
    "    plt.subplot(1,4, plot_number)\n",
    "    \n",
    "    # Title with column name.\n",
    "    plt.title(col)\n",
    "    \n",
    "    # Display histogram for column.\n",
    "    train[col].hist(bins=5, edgecolor='black')\n",
    "    \n",
    "    # Hide gridlines.\n",
    "    plt.grid(False)"
   ]
  },
  {
   "cell_type": "code",
   "execution_count": null,
   "id": "3c10affb",
   "metadata": {},
   "outputs": [],
   "source": []
  },
  {
   "cell_type": "code",
   "execution_count": null,
   "id": "0c8d02c2",
   "metadata": {},
   "outputs": [],
   "source": []
  },
  {
   "cell_type": "code",
   "execution_count": null,
   "id": "101746a2",
   "metadata": {},
   "outputs": [],
   "source": []
  },
  {
   "cell_type": "code",
   "execution_count": null,
   "id": "ae9daff9",
   "metadata": {},
   "outputs": [],
   "source": []
  },
  {
   "cell_type": "code",
   "execution_count": null,
   "id": "b89a5537",
   "metadata": {},
   "outputs": [],
   "source": []
  },
  {
   "cell_type": "code",
   "execution_count": null,
   "id": "f7a378a2",
   "metadata": {},
   "outputs": [],
   "source": []
  },
  {
   "cell_type": "code",
   "execution_count": null,
   "id": "56ec6d24",
   "metadata": {},
   "outputs": [],
   "source": []
  }
 ],
 "metadata": {
  "kernelspec": {
   "display_name": "Python 3 (ipykernel)",
   "language": "python",
   "name": "python3"
  },
  "language_info": {
   "codemirror_mode": {
    "name": "ipython",
    "version": 3
   },
   "file_extension": ".py",
   "mimetype": "text/x-python",
   "name": "python",
   "nbconvert_exporter": "python",
   "pygments_lexer": "ipython3",
   "version": "3.9.12"
  }
 },
 "nbformat": 4,
 "nbformat_minor": 5
}
