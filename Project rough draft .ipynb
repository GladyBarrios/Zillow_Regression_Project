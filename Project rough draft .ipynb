{
 "cells": [
  {
   "cell_type": "code",
   "execution_count": 1,
   "id": "71568fe2",
   "metadata": {},
   "outputs": [],
   "source": [
    "import pandas as pd\n",
    "import numpy as np\n",
    "import seaborn as sns\n",
    "import matplotlib.pyplot as plt\n",
    "from env import user, password, host"
   ]
  },
  {
   "cell_type": "code",
   "execution_count": null,
   "id": "719a2977",
   "metadata": {},
   "outputs": [],
   "source": [
    "# just to note everything is a mess atm "
   ]
  },
  {
   "cell_type": "code",
   "execution_count": null,
   "id": "8e12071d",
   "metadata": {},
   "outputs": [],
   "source": [
    "def get_connection(db, user=env.user, host=env.host, password=env.password):\n",
    "    return f'mysql+pymysql://{user}:{password}@{host}/{db}'"
   ]
  },
  {
   "cell_type": "code",
   "execution_count": null,
   "id": "ffaf4c15",
   "metadata": {},
   "outputs": [],
   "source": [
    "def get_new_zillow_data():\n",
    "    \"\"\"Returns a dataframe of all 2017 properties that are Single Family Residential\"\"\"\n",
    "\n",
    "    sql = '''Select bathroomcnt, bedroomcnt, calculatedfinishedsquarefeet, taxvaluedollarcnt, yearbuilt, taxamount, fips, transactiondate from properties_2017\n",
    "join propertylandusetype using (propertylandusetypeid)\n",
    "join predictions_2017 using (parcelid)\n",
    "where propertylandusedesc = \"Single Family Residential\"\n",
    "AND predictions_2017.transactiondate like '2017%%'\n",
    "'''\n",
    "    return pd.read_sql(sql, get_connection(\"zillow\"))\n"
   ]
  },
  {
   "cell_type": "code",
   "execution_count": null,
   "id": "deebbb9f",
   "metadata": {
    "scrolled": true
   },
   "outputs": [],
   "source": [
    "get_new_zillow_data()"
   ]
  },
  {
   "cell_type": "code",
   "execution_count": null,
   "id": "b53d8e84",
   "metadata": {},
   "outputs": [],
   "source": []
  },
  {
   "cell_type": "markdown",
   "id": "4beef880",
   "metadata": {},
   "source": [
    "- DATA Wrangling aquireing the data "
   ]
  },
  {
   "cell_type": "code",
   "execution_count": null,
   "id": "76ec956b",
   "metadata": {},
   "outputs": [],
   "source": [
    "sql = '''Select bathroomcnt, bedroomcnt, calculatedfinishedsquarefeet, taxvaluedollarcnt, yearbuilt, taxamount, fips, transactiondate from properties_2017\n",
    "join propertylandusetype using (propertylandusetypeid)\n",
    "join predictions_2017 using (parcelid)\n",
    "where propertylandusedesc = \"Single Family Residential\"\n",
    "AND predictions_2017.transactiondate like '2017%%'\n",
    "'''\n",
    "\n",
    "df = pd.read_sql(sql, get_connection(\"zillow\"))\n",
    "df.head()"
   ]
  },
  {
   "cell_type": "code",
   "execution_count": null,
   "id": "d35cd48b",
   "metadata": {},
   "outputs": [],
   "source": [
    "df.shape"
   ]
  },
  {
   "cell_type": "code",
   "execution_count": null,
   "id": "fda02ca9",
   "metadata": {},
   "outputs": [],
   "source": [
    "df.info()"
   ]
  },
  {
   "cell_type": "code",
   "execution_count": null,
   "id": "de23e5d7",
   "metadata": {},
   "outputs": [],
   "source": [
    "df.describe()"
   ]
  },
  {
   "cell_type": "code",
   "execution_count": null,
   "id": "e0645d92",
   "metadata": {
    "scrolled": true
   },
   "outputs": [],
   "source": [
    "df.isnull().sum()"
   ]
  },
  {
   "cell_type": "code",
   "execution_count": null,
   "id": "d47a0dda",
   "metadata": {
    "scrolled": true
   },
   "outputs": [],
   "source": [
    "df.columns[df.isnull().any()]"
   ]
  },
  {
   "cell_type": "code",
   "execution_count": null,
   "id": "d3d7bca9",
   "metadata": {},
   "outputs": [],
   "source": [
    "df = df.dropna()"
   ]
  },
  {
   "cell_type": "markdown",
   "id": "e44847de",
   "metadata": {},
   "source": [
    "- there is 52k people in this dataset i think losing like 200 is okay :)"
   ]
  },
  {
   "cell_type": "code",
   "execution_count": null,
   "id": "ea1b874a",
   "metadata": {
    "scrolled": true
   },
   "outputs": [],
   "source": [
    "df.info()"
   ]
  },
  {
   "cell_type": "code",
   "execution_count": null,
   "id": "bdc7f528",
   "metadata": {},
   "outputs": [],
   "source": []
  },
  {
   "cell_type": "code",
   "execution_count": null,
   "id": "e0bf43b7",
   "metadata": {},
   "outputs": [],
   "source": [
    "def optimize_types(df):\n",
    "    # Convert some columns to integers\n",
    "    # fips, yearbuilt, and bedrooms can be integers\n",
    "    df[\"fips\"] = df[\"fips\"].astype(int)\n",
    "    df[\"yearbuilt\"] = df[\"yearbuilt\"].astype(int)\n",
    "    df[\"bedroomcnt\"] = df[\"bedroomcnt\"].astype(int)    \n",
    "    df[\"taxvaluedollarcnt\"] = df[\"taxvaluedollarcnt\"].astype(int)\n",
    "    df[\"calculatedfinishedsquarefeet\"] = df[\"calculatedfinishedsquarefeet\"].astype(int)\n",
    "    return df"
   ]
  },
  {
   "cell_type": "code",
   "execution_count": null,
   "id": "a3d0e80d",
   "metadata": {},
   "outputs": [],
   "source": [
    "optimize_types(df)"
   ]
  },
  {
   "cell_type": "code",
   "execution_count": null,
   "id": "303491f2",
   "metadata": {},
   "outputs": [],
   "source": [
    "df.info()"
   ]
  },
  {
   "cell_type": "code",
   "execution_count": null,
   "id": "d7f56e84",
   "metadata": {},
   "outputs": [],
   "source": [
    "df.isnull().sum()"
   ]
  },
  {
   "cell_type": "code",
   "execution_count": null,
   "id": "524dc154",
   "metadata": {},
   "outputs": [],
   "source": [
    "plt.figure(figsize=(16, 3))\n",
    "\n",
    "# List of columns\n",
    "cols = ['bathroomcnt', 'bedroomcnt', 'calculatedfinishedsquarefeet',]\n",
    "\n",
    "for i, col in enumerate(cols):\n",
    "    \n",
    "    # i starts at 0, but plot nos should start at 1\n",
    "    plot_number = i + 1 \n",
    "    \n",
    "    # Create subplot.\n",
    "    plt.subplot(1,4, plot_number)\n",
    "    \n",
    "    # Title with column name.\n",
    "    plt.title(col)\n",
    "    \n",
    "    # Display histogram for column.\n",
    "    df[col].hist(bins=5, edgecolor='black')\n",
    "    \n",
    "    # Hide gridlines.\n",
    "    plt.grid(False)"
   ]
  },
  {
   "cell_type": "code",
   "execution_count": null,
   "id": "0ebfda71",
   "metadata": {},
   "outputs": [],
   "source": []
  },
  {
   "cell_type": "code",
   "execution_count": null,
   "id": "9b55bdb1",
   "metadata": {},
   "outputs": [],
   "source": [
    "df.fips.value_counts()"
   ]
  },
  {
   "cell_type": "code",
   "execution_count": null,
   "id": "06502dc7",
   "metadata": {},
   "outputs": [],
   "source": []
  },
  {
   "cell_type": "code",
   "execution_count": null,
   "id": "6a4bd3d7",
   "metadata": {},
   "outputs": [],
   "source": [
    "df['County'] = df.fips.map({6037:'LA', 6059:'Orange', 6111:'Ventura'})\n",
    "\n",
    "df.head()"
   ]
  },
  {
   "cell_type": "code",
   "execution_count": null,
   "id": "5d237503",
   "metadata": {
    "scrolled": true
   },
   "outputs": [],
   "source": [
    "def fix_fips(df):\n",
    "    df['County'] = df.fips.map({6037:'Los Angeles County', 6059:'Orange County', 6111:'Ventura County'})\n",
    "    return df\n"
   ]
  },
  {
   "cell_type": "code",
   "execution_count": null,
   "id": "45e3e1d8",
   "metadata": {},
   "outputs": [],
   "source": [
    "fix_fips(df)"
   ]
  },
  {
   "cell_type": "code",
   "execution_count": null,
   "id": "6d9cc3d2",
   "metadata": {
    "scrolled": false
   },
   "outputs": [],
   "source": [
    "for column in df.columns:\n",
    "    print(column)\n",
    "    print(df[column].value_counts())\n",
    "    print(\"-------------------------------\")"
   ]
  },
  {
   "cell_type": "code",
   "execution_count": null,
   "id": "73d38a4a",
   "metadata": {},
   "outputs": [],
   "source": [
    "#im just going to look and everything and see what i can remove as outliers "
   ]
  },
  {
   "cell_type": "code",
   "execution_count": null,
   "id": "15323f69",
   "metadata": {},
   "outputs": [],
   "source": [
    "sns.countplot(x='bedroomcnt', data = df)"
   ]
  },
  {
   "cell_type": "code",
   "execution_count": null,
   "id": "0615aaa5",
   "metadata": {},
   "outputs": [],
   "source": [
    "df.bedroomcnt.value_counts()"
   ]
  },
  {
   "cell_type": "code",
   "execution_count": null,
   "id": "adf95aed",
   "metadata": {},
   "outputs": [],
   "source": [
    "df.bedroomcnt.sort_values(ascending=False).head(30)"
   ]
  },
  {
   "cell_type": "code",
   "execution_count": null,
   "id": "76e93cd2",
   "metadata": {},
   "outputs": [],
   "source": [
    "# What percentage of properties have 6 or less bedrooms?\n",
    "#so i could drop anything less than 6 \n",
    "df[df.bedroomcnt <= 6].shape[0] / df.shape[0]"
   ]
  },
  {
   "cell_type": "code",
   "execution_count": null,
   "id": "a1807e3e",
   "metadata": {},
   "outputs": [],
   "source": [
    "df = df[df.bedroomcnt <= 6]"
   ]
  },
  {
   "cell_type": "code",
   "execution_count": null,
   "id": "0a22c6be",
   "metadata": {},
   "outputs": [],
   "source": [
    "df.shape"
   ]
  },
  {
   "cell_type": "code",
   "execution_count": null,
   "id": "c7e68b18",
   "metadata": {},
   "outputs": [],
   "source": [
    "#now imma look at the bathrooms "
   ]
  },
  {
   "cell_type": "code",
   "execution_count": null,
   "id": "a880b6b1",
   "metadata": {},
   "outputs": [],
   "source": [
    "sns.countplot(x='bathroomcnt', data = df)"
   ]
  },
  {
   "cell_type": "code",
   "execution_count": null,
   "id": "60627050",
   "metadata": {
    "scrolled": false
   },
   "outputs": [],
   "source": [
    "df.bathroomcnt.sort_values(ascending=False).head(30)\n",
    "#10 Bathrooms LOL "
   ]
  },
  {
   "cell_type": "code",
   "execution_count": null,
   "id": "c8f3d111",
   "metadata": {},
   "outputs": [],
   "source": [
    "df[df.bathroomcnt <= 6].shape[0] / df.shape[0]"
   ]
  },
  {
   "cell_type": "code",
   "execution_count": null,
   "id": "24502d2b",
   "metadata": {},
   "outputs": [],
   "source": [
    "df = df[df.bathroomcnt <= 6]"
   ]
  },
  {
   "cell_type": "code",
   "execution_count": null,
   "id": "fcdb272e",
   "metadata": {},
   "outputs": [],
   "source": [
    "df.shape"
   ]
  },
  {
   "cell_type": "code",
   "execution_count": null,
   "id": "bcd50395",
   "metadata": {},
   "outputs": [],
   "source": [
    "#okay recap bathroom and bedrrom have been rehsaped \n",
    "#bathroom all the ones greater than 6 \n",
    "#bedroom all the ones greater than 6 "
   ]
  },
  {
   "cell_type": "code",
   "execution_count": null,
   "id": "df992315",
   "metadata": {},
   "outputs": [],
   "source": [
    "# What percentage of properties are less than $1.5m in tax value?\n",
    "df[df.taxvaluedollarcnt < 1_500_000].shape[0] / df.shape[0]\n"
   ]
  },
  {
   "cell_type": "code",
   "execution_count": null,
   "id": "8b82765f",
   "metadata": {},
   "outputs": [],
   "source": [
    "df = df[df.taxvaluedollarcnt < 1_500_000]"
   ]
  },
  {
   "cell_type": "code",
   "execution_count": null,
   "id": "0bf0876d",
   "metadata": {},
   "outputs": [],
   "source": [
    "df.shape"
   ]
  },
  {
   "cell_type": "code",
   "execution_count": null,
   "id": "363b2eb3",
   "metadata": {},
   "outputs": [],
   "source": [
    "df.head()"
   ]
  },
  {
   "cell_type": "code",
   "execution_count": null,
   "id": "cf64fc69",
   "metadata": {},
   "outputs": [],
   "source": [
    "sns.countplot(x='bathroomcnt', data = df)"
   ]
  },
  {
   "cell_type": "code",
   "execution_count": null,
   "id": "3c38dd6e",
   "metadata": {},
   "outputs": [],
   "source": [
    "sns.countplot(x='bedroomcnt', data = df)"
   ]
  },
  {
   "cell_type": "code",
   "execution_count": null,
   "id": "1c15cbb0",
   "metadata": {},
   "outputs": [],
   "source": [
    "#sns.countplot(x='taxvaluedollarcnt', data = df)\n",
    "#LOL ignore this plz "
   ]
  },
  {
   "cell_type": "code",
   "execution_count": null,
   "id": "24fc58b4",
   "metadata": {},
   "outputs": [],
   "source": [
    "# think removing the zero bedrrom and maybe zero bathroom would be good "
   ]
  },
  {
   "cell_type": "code",
   "execution_count": null,
   "id": "d1cfbc66",
   "metadata": {},
   "outputs": [],
   "source": [
    "df[df.bathroomcnt != 0].shape[0] / df.shape[0]\n",
    "#still keep 99 of recrods :] "
   ]
  },
  {
   "cell_type": "code",
   "execution_count": null,
   "id": "1676b90e",
   "metadata": {},
   "outputs": [],
   "source": [
    "df = df[df.bathroomcnt != 0]"
   ]
  },
  {
   "cell_type": "code",
   "execution_count": null,
   "id": "2906e4f3",
   "metadata": {},
   "outputs": [],
   "source": [
    "df.shape"
   ]
  },
  {
   "cell_type": "code",
   "execution_count": null,
   "id": "75bcd47e",
   "metadata": {},
   "outputs": [],
   "source": [
    "df[df.bedroomcnt != 0].shape[0] / df.shape[0]"
   ]
  },
  {
   "cell_type": "code",
   "execution_count": null,
   "id": "032735cf",
   "metadata": {},
   "outputs": [],
   "source": [
    "df = df[df.bedroomcnt != 0]"
   ]
  },
  {
   "cell_type": "code",
   "execution_count": null,
   "id": "d3101e86",
   "metadata": {},
   "outputs": [],
   "source": [
    "df.shape"
   ]
  },
  {
   "cell_type": "code",
   "execution_count": 2,
   "id": "aa18c3a8",
   "metadata": {},
   "outputs": [],
   "source": [
    "from wrangle import wrangle_zillow"
   ]
  },
  {
   "cell_type": "code",
   "execution_count": 3,
   "id": "4dce843e",
   "metadata": {},
   "outputs": [
    {
     "data": {
      "text/html": [
       "<div>\n",
       "<style scoped>\n",
       "    .dataframe tbody tr th:only-of-type {\n",
       "        vertical-align: middle;\n",
       "    }\n",
       "\n",
       "    .dataframe tbody tr th {\n",
       "        vertical-align: top;\n",
       "    }\n",
       "\n",
       "    .dataframe thead th {\n",
       "        text-align: right;\n",
       "    }\n",
       "</style>\n",
       "<table border=\"1\" class=\"dataframe\">\n",
       "  <thead>\n",
       "    <tr style=\"text-align: right;\">\n",
       "      <th></th>\n",
       "      <th>bathroomcnt</th>\n",
       "      <th>bedroomcnt</th>\n",
       "      <th>calculatedfinishedsquarefeet</th>\n",
       "      <th>taxvaluedollarcnt</th>\n",
       "      <th>yearbuilt</th>\n",
       "      <th>taxamount</th>\n",
       "      <th>fips</th>\n",
       "      <th>transactiondate</th>\n",
       "      <th>County</th>\n",
       "    </tr>\n",
       "  </thead>\n",
       "  <tbody>\n",
       "    <tr>\n",
       "      <th>0</th>\n",
       "      <td>2.5</td>\n",
       "      <td>2</td>\n",
       "      <td>1348</td>\n",
       "      <td>343967</td>\n",
       "      <td>1979</td>\n",
       "      <td>3628.14</td>\n",
       "      <td>6059</td>\n",
       "      <td>2017-01-12</td>\n",
       "      <td>Orange County</td>\n",
       "    </tr>\n",
       "    <tr>\n",
       "      <th>1</th>\n",
       "      <td>2.0</td>\n",
       "      <td>3</td>\n",
       "      <td>1221</td>\n",
       "      <td>367034</td>\n",
       "      <td>1955</td>\n",
       "      <td>4589.60</td>\n",
       "      <td>6059</td>\n",
       "      <td>2017-01-12</td>\n",
       "      <td>Orange County</td>\n",
       "    </tr>\n",
       "    <tr>\n",
       "      <th>2</th>\n",
       "      <td>2.0</td>\n",
       "      <td>3</td>\n",
       "      <td>1462</td>\n",
       "      <td>79713</td>\n",
       "      <td>1950</td>\n",
       "      <td>1269.65</td>\n",
       "      <td>6037</td>\n",
       "      <td>2017-01-12</td>\n",
       "      <td>Los Angeles County</td>\n",
       "    </tr>\n",
       "    <tr>\n",
       "      <th>3</th>\n",
       "      <td>1.0</td>\n",
       "      <td>2</td>\n",
       "      <td>768</td>\n",
       "      <td>270458</td>\n",
       "      <td>1926</td>\n",
       "      <td>3373.09</td>\n",
       "      <td>6037</td>\n",
       "      <td>2017-01-12</td>\n",
       "      <td>Los Angeles County</td>\n",
       "    </tr>\n",
       "    <tr>\n",
       "      <th>4</th>\n",
       "      <td>4.0</td>\n",
       "      <td>4</td>\n",
       "      <td>3696</td>\n",
       "      <td>940251</td>\n",
       "      <td>1989</td>\n",
       "      <td>10313.18</td>\n",
       "      <td>6037</td>\n",
       "      <td>2017-01-12</td>\n",
       "      <td>Los Angeles County</td>\n",
       "    </tr>\n",
       "  </tbody>\n",
       "</table>\n",
       "</div>"
      ],
      "text/plain": [
       "   bathroomcnt  bedroomcnt  calculatedfinishedsquarefeet  taxvaluedollarcnt  \\\n",
       "0          2.5           2                          1348             343967   \n",
       "1          2.0           3                          1221             367034   \n",
       "2          2.0           3                          1462              79713   \n",
       "3          1.0           2                           768             270458   \n",
       "4          4.0           4                          3696             940251   \n",
       "\n",
       "   yearbuilt  taxamount  fips transactiondate              County  \n",
       "0       1979    3628.14  6059      2017-01-12       Orange County  \n",
       "1       1955    4589.60  6059      2017-01-12       Orange County  \n",
       "2       1950    1269.65  6037      2017-01-12  Los Angeles County  \n",
       "3       1926    3373.09  6037      2017-01-12  Los Angeles County  \n",
       "4       1989   10313.18  6037      2017-01-12  Los Angeles County  "
      ]
     },
     "execution_count": 3,
     "metadata": {},
     "output_type": "execute_result"
    }
   ],
   "source": [
    "df = wrangle_zillow()\n",
    "\n",
    "df.head()"
   ]
  },
  {
   "cell_type": "code",
   "execution_count": 4,
   "id": "b166e167",
   "metadata": {},
   "outputs": [
    {
     "data": {
      "text/plain": [
       "(49593, 9)"
      ]
     },
     "execution_count": 4,
     "metadata": {},
     "output_type": "execute_result"
    }
   ],
   "source": [
    "df.shape"
   ]
  },
  {
   "cell_type": "markdown",
   "id": "3f01ccc9",
   "metadata": {},
   "source": [
    "the wrangling of the data in the kalpana dataset is good too go all i would need to do is add the edits to aquire the data, "
   ]
  },
  {
   "cell_type": "code",
   "execution_count": null,
   "id": "dd01c502",
   "metadata": {},
   "outputs": [],
   "source": [
    "# def handle_outliers(df):\n",
    "#     \"\"\"Manually handle outliers that do not represent properties likely for 99% of buyers and zillow visitors\"\"\"\n",
    "#     df = df[df.bathroomcnt <= 6]\n",
    "    \n",
    "#     df = df[df.bedroomcnt <= 6]\n",
    "\n",
    "#     df = df[df.taxvaluedollarcnt < 1_500_000]\n",
    "\n",
    "#     return df"
   ]
  },
  {
   "cell_type": "code",
   "execution_count": 5,
   "id": "3c9d6fb0",
   "metadata": {},
   "outputs": [],
   "source": [
    "from sklearn.model_selection import train_test_split"
   ]
  },
  {
   "cell_type": "code",
   "execution_count": 10,
   "id": "b76beb49",
   "metadata": {},
   "outputs": [
    {
     "data": {
      "text/plain": [
       "((17357, 9), (17358, 9), (14878, 9))"
      ]
     },
     "execution_count": 10,
     "metadata": {},
     "output_type": "execute_result"
    }
   ],
   "source": [
    "\n",
    "train_validate, test = train_test_split(df, test_size=0.3, \n",
    "                                        random_state=123, \n",
    "                                        stratify=df.fips)\n",
    "train, validate = train_test_split(train_validate, test_size=0.5, \n",
    "                                   random_state=123, \n",
    "                                   stratify=train_validate.fips)\n",
    "\n",
    "train.shape, validate.shape, test.shape"
   ]
  },
  {
   "cell_type": "code",
   "execution_count": null,
   "id": "3c10affb",
   "metadata": {},
   "outputs": [],
   "source": []
  },
  {
   "cell_type": "code",
   "execution_count": null,
   "id": "0c8d02c2",
   "metadata": {},
   "outputs": [],
   "source": []
  },
  {
   "cell_type": "code",
   "execution_count": null,
   "id": "101746a2",
   "metadata": {},
   "outputs": [],
   "source": []
  },
  {
   "cell_type": "code",
   "execution_count": null,
   "id": "ae9daff9",
   "metadata": {},
   "outputs": [],
   "source": []
  },
  {
   "cell_type": "code",
   "execution_count": null,
   "id": "b89a5537",
   "metadata": {},
   "outputs": [],
   "source": []
  },
  {
   "cell_type": "code",
   "execution_count": null,
   "id": "f7a378a2",
   "metadata": {},
   "outputs": [],
   "source": []
  },
  {
   "cell_type": "code",
   "execution_count": null,
   "id": "56ec6d24",
   "metadata": {},
   "outputs": [],
   "source": []
  }
 ],
 "metadata": {
  "kernelspec": {
   "display_name": "Python 3 (ipykernel)",
   "language": "python",
   "name": "python3"
  },
  "language_info": {
   "codemirror_mode": {
    "name": "ipython",
    "version": 3
   },
   "file_extension": ".py",
   "mimetype": "text/x-python",
   "name": "python",
   "nbconvert_exporter": "python",
   "pygments_lexer": "ipython3",
   "version": "3.9.12"
  }
 },
 "nbformat": 4,
 "nbformat_minor": 5
}
