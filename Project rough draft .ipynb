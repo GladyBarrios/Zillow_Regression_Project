{
 "cells": [
  {
   "cell_type": "code",
   "execution_count": 2,
   "id": "fb0f0887",
   "metadata": {},
   "outputs": [],
   "source": [
    "import pandas as pd\n",
    "import numpy as np\n",
    "import seaborn as sns\n",
    "import matplotlib.pyplot as plt\n",
    "import env"
   ]
  },
  {
   "cell_type": "code",
   "execution_count": 4,
   "id": "c724c21a",
   "metadata": {},
   "outputs": [],
   "source": [
    "def get_connection(db, user=env.user, host=env.host, password=env.password):\n",
    "    return f'mysql+pymysql://{user}:{password}@{host}/{db}'"
   ]
  },
  {
   "cell_type": "code",
   "execution_count": null,
   "id": "8db84a44",
   "metadata": {},
   "outputs": [],
   "source": []
  },
  {
   "cell_type": "code",
   "execution_count": null,
   "id": "ebd4ae7a",
   "metadata": {},
   "outputs": [],
   "source": []
  },
  {
   "cell_type": "markdown",
   "id": "62a4ecd2",
   "metadata": {},
   "source": [
    "- DATA Wrangling aquireing the data "
   ]
  },
  {
   "cell_type": "code",
   "execution_count": 5,
   "id": "338e5fab",
   "metadata": {},
   "outputs": [
    {
     "data": {
      "text/html": [
       "<div>\n",
       "<style scoped>\n",
       "    .dataframe tbody tr th:only-of-type {\n",
       "        vertical-align: middle;\n",
       "    }\n",
       "\n",
       "    .dataframe tbody tr th {\n",
       "        vertical-align: top;\n",
       "    }\n",
       "\n",
       "    .dataframe thead th {\n",
       "        text-align: right;\n",
       "    }\n",
       "</style>\n",
       "<table border=\"1\" class=\"dataframe\">\n",
       "  <thead>\n",
       "    <tr style=\"text-align: right;\">\n",
       "      <th></th>\n",
       "      <th>bathroomcnt</th>\n",
       "      <th>bedroomcnt</th>\n",
       "      <th>calculatedfinishedsquarefeet</th>\n",
       "      <th>taxvaluedollarcnt</th>\n",
       "      <th>yearbuilt</th>\n",
       "      <th>taxamount</th>\n",
       "      <th>fips</th>\n",
       "    </tr>\n",
       "  </thead>\n",
       "  <tbody>\n",
       "    <tr>\n",
       "      <th>0</th>\n",
       "      <td>2.5</td>\n",
       "      <td>2.0</td>\n",
       "      <td>1348.0</td>\n",
       "      <td>343967.0</td>\n",
       "      <td>1979.0</td>\n",
       "      <td>3628.14</td>\n",
       "      <td>6059.0</td>\n",
       "    </tr>\n",
       "    <tr>\n",
       "      <th>1</th>\n",
       "      <td>2.0</td>\n",
       "      <td>3.0</td>\n",
       "      <td>1221.0</td>\n",
       "      <td>367034.0</td>\n",
       "      <td>1955.0</td>\n",
       "      <td>4589.60</td>\n",
       "      <td>6059.0</td>\n",
       "    </tr>\n",
       "    <tr>\n",
       "      <th>2</th>\n",
       "      <td>2.0</td>\n",
       "      <td>3.0</td>\n",
       "      <td>1462.0</td>\n",
       "      <td>79713.0</td>\n",
       "      <td>1950.0</td>\n",
       "      <td>1269.65</td>\n",
       "      <td>6037.0</td>\n",
       "    </tr>\n",
       "    <tr>\n",
       "      <th>3</th>\n",
       "      <td>1.0</td>\n",
       "      <td>2.0</td>\n",
       "      <td>768.0</td>\n",
       "      <td>270458.0</td>\n",
       "      <td>1926.0</td>\n",
       "      <td>3373.09</td>\n",
       "      <td>6037.0</td>\n",
       "    </tr>\n",
       "    <tr>\n",
       "      <th>4</th>\n",
       "      <td>4.0</td>\n",
       "      <td>4.0</td>\n",
       "      <td>3696.0</td>\n",
       "      <td>940251.0</td>\n",
       "      <td>1989.0</td>\n",
       "      <td>10313.18</td>\n",
       "      <td>6037.0</td>\n",
       "    </tr>\n",
       "  </tbody>\n",
       "</table>\n",
       "</div>"
      ],
      "text/plain": [
       "   bathroomcnt  bedroomcnt  calculatedfinishedsquarefeet  taxvaluedollarcnt  \\\n",
       "0          2.5         2.0                        1348.0           343967.0   \n",
       "1          2.0         3.0                        1221.0           367034.0   \n",
       "2          2.0         3.0                        1462.0            79713.0   \n",
       "3          1.0         2.0                         768.0           270458.0   \n",
       "4          4.0         4.0                        3696.0           940251.0   \n",
       "\n",
       "   yearbuilt  taxamount    fips  \n",
       "0     1979.0    3628.14  6059.0  \n",
       "1     1955.0    4589.60  6059.0  \n",
       "2     1950.0    1269.65  6037.0  \n",
       "3     1926.0    3373.09  6037.0  \n",
       "4     1989.0   10313.18  6037.0  "
      ]
     },
     "execution_count": 5,
     "metadata": {},
     "output_type": "execute_result"
    }
   ],
   "source": [
    "sql = '''Select bathroomcnt, bedroomcnt, calculatedfinishedsquarefeet, taxvaluedollarcnt, yearbuilt, taxamount, fips from properties_2017\n",
    "join propertylandusetype using (propertylandusetypeid)\n",
    "join predictions_2017 using (parcelid)\n",
    "where propertylandusedesc = \"Single Family Residential\"\n",
    "AND predictions_2017.transactiondate like '2017%%'\n",
    "'''\n",
    "\n",
    "df = pd.read_sql(sql, get_connection(\"zillow\"))\n",
    "df.head()"
   ]
  },
  {
   "cell_type": "code",
   "execution_count": 6,
   "id": "e707be81",
   "metadata": {},
   "outputs": [
    {
     "data": {
      "text/plain": [
       "(52441, 7)"
      ]
     },
     "execution_count": 6,
     "metadata": {},
     "output_type": "execute_result"
    }
   ],
   "source": [
    "df.shape"
   ]
  },
  {
   "cell_type": "code",
   "execution_count": 7,
   "id": "194d040b",
   "metadata": {},
   "outputs": [
    {
     "name": "stdout",
     "output_type": "stream",
     "text": [
      "<class 'pandas.core.frame.DataFrame'>\n",
      "RangeIndex: 52441 entries, 0 to 52440\n",
      "Data columns (total 7 columns):\n",
      " #   Column                        Non-Null Count  Dtype  \n",
      "---  ------                        --------------  -----  \n",
      " 0   bathroomcnt                   52441 non-null  float64\n",
      " 1   bedroomcnt                    52441 non-null  float64\n",
      " 2   calculatedfinishedsquarefeet  52359 non-null  float64\n",
      " 3   taxvaluedollarcnt             52440 non-null  float64\n",
      " 4   yearbuilt                     52325 non-null  float64\n",
      " 5   taxamount                     52437 non-null  float64\n",
      " 6   fips                          52441 non-null  float64\n",
      "dtypes: float64(7)\n",
      "memory usage: 2.8 MB\n"
     ]
    }
   ],
   "source": [
    "df.info()"
   ]
  },
  {
   "cell_type": "code",
   "execution_count": 8,
   "id": "7da356a5",
   "metadata": {},
   "outputs": [
    {
     "data": {
      "text/html": [
       "<div>\n",
       "<style scoped>\n",
       "    .dataframe tbody tr th:only-of-type {\n",
       "        vertical-align: middle;\n",
       "    }\n",
       "\n",
       "    .dataframe tbody tr th {\n",
       "        vertical-align: top;\n",
       "    }\n",
       "\n",
       "    .dataframe thead th {\n",
       "        text-align: right;\n",
       "    }\n",
       "</style>\n",
       "<table border=\"1\" class=\"dataframe\">\n",
       "  <thead>\n",
       "    <tr style=\"text-align: right;\">\n",
       "      <th></th>\n",
       "      <th>bathroomcnt</th>\n",
       "      <th>bedroomcnt</th>\n",
       "      <th>calculatedfinishedsquarefeet</th>\n",
       "      <th>taxvaluedollarcnt</th>\n",
       "      <th>yearbuilt</th>\n",
       "      <th>taxamount</th>\n",
       "      <th>fips</th>\n",
       "    </tr>\n",
       "  </thead>\n",
       "  <tbody>\n",
       "    <tr>\n",
       "      <th>count</th>\n",
       "      <td>52441.000000</td>\n",
       "      <td>52441.000000</td>\n",
       "      <td>52359.000000</td>\n",
       "      <td>5.244000e+04</td>\n",
       "      <td>52325.000000</td>\n",
       "      <td>52437.000000</td>\n",
       "      <td>52441.000000</td>\n",
       "    </tr>\n",
       "    <tr>\n",
       "      <th>mean</th>\n",
       "      <td>2.299403</td>\n",
       "      <td>3.300681</td>\n",
       "      <td>1922.890754</td>\n",
       "      <td>5.296882e+05</td>\n",
       "      <td>1963.393884</td>\n",
       "      <td>6453.511209</td>\n",
       "      <td>6049.132149</td>\n",
       "    </tr>\n",
       "    <tr>\n",
       "      <th>std</th>\n",
       "      <td>1.022772</td>\n",
       "      <td>0.949094</td>\n",
       "      <td>1004.365838</td>\n",
       "      <td>7.518946e+05</td>\n",
       "      <td>23.133571</td>\n",
       "      <td>8755.568452</td>\n",
       "      <td>21.029067</td>\n",
       "    </tr>\n",
       "    <tr>\n",
       "      <th>min</th>\n",
       "      <td>0.000000</td>\n",
       "      <td>0.000000</td>\n",
       "      <td>128.000000</td>\n",
       "      <td>1.000000e+03</td>\n",
       "      <td>1878.000000</td>\n",
       "      <td>49.180000</td>\n",
       "      <td>6037.000000</td>\n",
       "    </tr>\n",
       "    <tr>\n",
       "      <th>25%</th>\n",
       "      <td>2.000000</td>\n",
       "      <td>3.000000</td>\n",
       "      <td>1268.000000</td>\n",
       "      <td>1.937475e+05</td>\n",
       "      <td>1950.000000</td>\n",
       "      <td>2656.220000</td>\n",
       "      <td>6037.000000</td>\n",
       "    </tr>\n",
       "    <tr>\n",
       "      <th>50%</th>\n",
       "      <td>2.000000</td>\n",
       "      <td>3.000000</td>\n",
       "      <td>1659.000000</td>\n",
       "      <td>3.736120e+05</td>\n",
       "      <td>1961.000000</td>\n",
       "      <td>4647.740000</td>\n",
       "      <td>6037.000000</td>\n",
       "    </tr>\n",
       "    <tr>\n",
       "      <th>75%</th>\n",
       "      <td>3.000000</td>\n",
       "      <td>4.000000</td>\n",
       "      <td>2306.000000</td>\n",
       "      <td>6.193012e+05</td>\n",
       "      <td>1979.000000</td>\n",
       "      <td>7377.500000</td>\n",
       "      <td>6059.000000</td>\n",
       "    </tr>\n",
       "    <tr>\n",
       "      <th>max</th>\n",
       "      <td>18.000000</td>\n",
       "      <td>14.000000</td>\n",
       "      <td>21929.000000</td>\n",
       "      <td>4.906124e+07</td>\n",
       "      <td>2016.000000</td>\n",
       "      <td>586639.300000</td>\n",
       "      <td>6111.000000</td>\n",
       "    </tr>\n",
       "  </tbody>\n",
       "</table>\n",
       "</div>"
      ],
      "text/plain": [
       "        bathroomcnt    bedroomcnt  calculatedfinishedsquarefeet  \\\n",
       "count  52441.000000  52441.000000                  52359.000000   \n",
       "mean       2.299403      3.300681                   1922.890754   \n",
       "std        1.022772      0.949094                   1004.365838   \n",
       "min        0.000000      0.000000                    128.000000   \n",
       "25%        2.000000      3.000000                   1268.000000   \n",
       "50%        2.000000      3.000000                   1659.000000   \n",
       "75%        3.000000      4.000000                   2306.000000   \n",
       "max       18.000000     14.000000                  21929.000000   \n",
       "\n",
       "       taxvaluedollarcnt     yearbuilt      taxamount          fips  \n",
       "count       5.244000e+04  52325.000000   52437.000000  52441.000000  \n",
       "mean        5.296882e+05   1963.393884    6453.511209   6049.132149  \n",
       "std         7.518946e+05     23.133571    8755.568452     21.029067  \n",
       "min         1.000000e+03   1878.000000      49.180000   6037.000000  \n",
       "25%         1.937475e+05   1950.000000    2656.220000   6037.000000  \n",
       "50%         3.736120e+05   1961.000000    4647.740000   6037.000000  \n",
       "75%         6.193012e+05   1979.000000    7377.500000   6059.000000  \n",
       "max         4.906124e+07   2016.000000  586639.300000   6111.000000  "
      ]
     },
     "execution_count": 8,
     "metadata": {},
     "output_type": "execute_result"
    }
   ],
   "source": [
    "df.describe()"
   ]
  },
  {
   "cell_type": "code",
   "execution_count": 9,
   "id": "33b8a265",
   "metadata": {
    "scrolled": true
   },
   "outputs": [
    {
     "data": {
      "text/plain": [
       "bathroomcnt                       0\n",
       "bedroomcnt                        0\n",
       "calculatedfinishedsquarefeet     82\n",
       "taxvaluedollarcnt                 1\n",
       "yearbuilt                       116\n",
       "taxamount                         4\n",
       "fips                              0\n",
       "dtype: int64"
      ]
     },
     "execution_count": 9,
     "metadata": {},
     "output_type": "execute_result"
    }
   ],
   "source": [
    "df.isnull().sum()"
   ]
  },
  {
   "cell_type": "code",
   "execution_count": 10,
   "id": "ee2c6a06",
   "metadata": {
    "scrolled": true
   },
   "outputs": [
    {
     "data": {
      "text/plain": [
       "Index(['calculatedfinishedsquarefeet', 'taxvaluedollarcnt', 'yearbuilt',\n",
       "       'taxamount'],\n",
       "      dtype='object')"
      ]
     },
     "execution_count": 10,
     "metadata": {},
     "output_type": "execute_result"
    }
   ],
   "source": [
    "df.columns[df.isnull().any()]"
   ]
  },
  {
   "cell_type": "code",
   "execution_count": 11,
   "id": "41a486ba",
   "metadata": {},
   "outputs": [],
   "source": [
    "df = df.dropna()"
   ]
  },
  {
   "cell_type": "markdown",
   "id": "03b833fb",
   "metadata": {},
   "source": [
    "- there is 52k people in this dataset i think losing like 200 is okay :)"
   ]
  },
  {
   "cell_type": "code",
   "execution_count": 12,
   "id": "a1cebfe9",
   "metadata": {},
   "outputs": [
    {
     "name": "stdout",
     "output_type": "stream",
     "text": [
      "<class 'pandas.core.frame.DataFrame'>\n",
      "Int64Index: 52315 entries, 0 to 52440\n",
      "Data columns (total 7 columns):\n",
      " #   Column                        Non-Null Count  Dtype  \n",
      "---  ------                        --------------  -----  \n",
      " 0   bathroomcnt                   52315 non-null  float64\n",
      " 1   bedroomcnt                    52315 non-null  float64\n",
      " 2   calculatedfinishedsquarefeet  52315 non-null  float64\n",
      " 3   taxvaluedollarcnt             52315 non-null  float64\n",
      " 4   yearbuilt                     52315 non-null  float64\n",
      " 5   taxamount                     52315 non-null  float64\n",
      " 6   fips                          52315 non-null  float64\n",
      "dtypes: float64(7)\n",
      "memory usage: 3.2 MB\n"
     ]
    }
   ],
   "source": [
    "df.info()"
   ]
  },
  {
   "cell_type": "code",
   "execution_count": 13,
   "id": "bb12b004",
   "metadata": {},
   "outputs": [
    {
     "name": "stdout",
     "output_type": "stream",
     "text": [
      "<class 'pandas.core.frame.DataFrame'>\n",
      "Int64Index: 52315 entries, 0 to 52440\n",
      "Data columns (total 7 columns):\n",
      " #   Column                        Non-Null Count  Dtype\n",
      "---  ------                        --------------  -----\n",
      " 0   bathroomcnt                   52315 non-null  int64\n",
      " 1   bedroomcnt                    52315 non-null  int64\n",
      " 2   calculatedfinishedsquarefeet  52315 non-null  int64\n",
      " 3   taxvaluedollarcnt             52315 non-null  int64\n",
      " 4   yearbuilt                     52315 non-null  int64\n",
      " 5   taxamount                     52315 non-null  int64\n",
      " 6   fips                          52315 non-null  int64\n",
      "dtypes: int64(7)\n",
      "memory usage: 3.2 MB\n"
     ]
    }
   ],
   "source": [
    "df = df.astype('int')\n",
    "df.info()"
   ]
  },
  {
   "cell_type": "code",
   "execution_count": null,
   "id": "a74bb4db",
   "metadata": {},
   "outputs": [],
   "source": []
  },
  {
   "cell_type": "code",
   "execution_count": null,
   "id": "0636a7ce",
   "metadata": {},
   "outputs": [],
   "source": [
    "plt.figure(figsize=(16, 3))\n",
    "\n",
    "# List of columns\n",
    "cols = ['bathroomcnt', 'bedroomcnt', 'calculatedfinishedsquarefeet', 'taxvaluedollarcnt']\n",
    "\n",
    "for i, col in enumerate(cols):\n",
    "    \n",
    "    # i starts at 0, but plot nos should start at 1\n",
    "    plot_number = i + 1 \n",
    "    \n",
    "    # Create subplot.\n",
    "    plt.subplot(1,4, plot_number)\n",
    "    \n",
    "    # Title with column name.\n",
    "    plt.title(col)\n",
    "    \n",
    "    # Display histogram for column.\n",
    "    df[col].hist(bins=5, edgecolor='black')\n",
    "    \n",
    "    # Hide gridlines.\n",
    "    plt.grid(False)"
   ]
  },
  {
   "cell_type": "code",
   "execution_count": null,
   "id": "2d832fe4",
   "metadata": {},
   "outputs": [],
   "source": []
  },
  {
   "cell_type": "code",
   "execution_count": 14,
   "id": "7fff05c3",
   "metadata": {},
   "outputs": [
    {
     "data": {
      "text/plain": [
       "6037    33875\n",
       "6059    14082\n",
       "6111     4358\n",
       "Name: fips, dtype: int64"
      ]
     },
     "execution_count": 14,
     "metadata": {},
     "output_type": "execute_result"
    }
   ],
   "source": [
    "df.fips.value_counts()"
   ]
  },
  {
   "cell_type": "code",
   "execution_count": null,
   "id": "ee3713c8",
   "metadata": {},
   "outputs": [],
   "source": []
  },
  {
   "cell_type": "code",
   "execution_count": null,
   "id": "daa9f7a5",
   "metadata": {},
   "outputs": [],
   "source": [
    "df['County'] = df.fips.map({6037:'LA', 6059:'Orange', 6111:'Ventura'})\n",
    "\n",
    "df.head()"
   ]
  },
  {
   "cell_type": "code",
   "execution_count": 18,
   "id": "fad9ef0a",
   "metadata": {
    "scrolled": true
   },
   "outputs": [],
   "source": [
    "def fix_fips(df):\n",
    "    df['County'] = df.fips.map({6037:'LA', 6059:'Orange', 6111:'Ventura'})\n",
    "    return df\n"
   ]
  },
  {
   "cell_type": "code",
   "execution_count": 16,
   "id": "f9c95f06",
   "metadata": {},
   "outputs": [
    {
     "data": {
      "text/html": [
       "<div>\n",
       "<style scoped>\n",
       "    .dataframe tbody tr th:only-of-type {\n",
       "        vertical-align: middle;\n",
       "    }\n",
       "\n",
       "    .dataframe tbody tr th {\n",
       "        vertical-align: top;\n",
       "    }\n",
       "\n",
       "    .dataframe thead th {\n",
       "        text-align: right;\n",
       "    }\n",
       "</style>\n",
       "<table border=\"1\" class=\"dataframe\">\n",
       "  <thead>\n",
       "    <tr style=\"text-align: right;\">\n",
       "      <th></th>\n",
       "      <th>bathroomcnt</th>\n",
       "      <th>bedroomcnt</th>\n",
       "      <th>calculatedfinishedsquarefeet</th>\n",
       "      <th>taxvaluedollarcnt</th>\n",
       "      <th>yearbuilt</th>\n",
       "      <th>taxamount</th>\n",
       "      <th>fips</th>\n",
       "      <th>County</th>\n",
       "    </tr>\n",
       "  </thead>\n",
       "  <tbody>\n",
       "    <tr>\n",
       "      <th>0</th>\n",
       "      <td>2</td>\n",
       "      <td>2</td>\n",
       "      <td>1348</td>\n",
       "      <td>343967</td>\n",
       "      <td>1979</td>\n",
       "      <td>3628</td>\n",
       "      <td>6059</td>\n",
       "      <td>Orange</td>\n",
       "    </tr>\n",
       "    <tr>\n",
       "      <th>1</th>\n",
       "      <td>2</td>\n",
       "      <td>3</td>\n",
       "      <td>1221</td>\n",
       "      <td>367034</td>\n",
       "      <td>1955</td>\n",
       "      <td>4589</td>\n",
       "      <td>6059</td>\n",
       "      <td>Orange</td>\n",
       "    </tr>\n",
       "    <tr>\n",
       "      <th>2</th>\n",
       "      <td>2</td>\n",
       "      <td>3</td>\n",
       "      <td>1462</td>\n",
       "      <td>79713</td>\n",
       "      <td>1950</td>\n",
       "      <td>1269</td>\n",
       "      <td>6037</td>\n",
       "      <td>LA</td>\n",
       "    </tr>\n",
       "    <tr>\n",
       "      <th>3</th>\n",
       "      <td>1</td>\n",
       "      <td>2</td>\n",
       "      <td>768</td>\n",
       "      <td>270458</td>\n",
       "      <td>1926</td>\n",
       "      <td>3373</td>\n",
       "      <td>6037</td>\n",
       "      <td>LA</td>\n",
       "    </tr>\n",
       "    <tr>\n",
       "      <th>4</th>\n",
       "      <td>4</td>\n",
       "      <td>4</td>\n",
       "      <td>3696</td>\n",
       "      <td>940251</td>\n",
       "      <td>1989</td>\n",
       "      <td>10313</td>\n",
       "      <td>6037</td>\n",
       "      <td>LA</td>\n",
       "    </tr>\n",
       "    <tr>\n",
       "      <th>...</th>\n",
       "      <td>...</td>\n",
       "      <td>...</td>\n",
       "      <td>...</td>\n",
       "      <td>...</td>\n",
       "      <td>...</td>\n",
       "      <td>...</td>\n",
       "      <td>...</td>\n",
       "      <td>...</td>\n",
       "    </tr>\n",
       "    <tr>\n",
       "      <th>52436</th>\n",
       "      <td>3</td>\n",
       "      <td>3</td>\n",
       "      <td>1874</td>\n",
       "      <td>1055000</td>\n",
       "      <td>1964</td>\n",
       "      <td>12068</td>\n",
       "      <td>6037</td>\n",
       "      <td>LA</td>\n",
       "    </tr>\n",
       "    <tr>\n",
       "      <th>52437</th>\n",
       "      <td>1</td>\n",
       "      <td>3</td>\n",
       "      <td>876</td>\n",
       "      <td>148393</td>\n",
       "      <td>1913</td>\n",
       "      <td>1866</td>\n",
       "      <td>6037</td>\n",
       "      <td>LA</td>\n",
       "    </tr>\n",
       "    <tr>\n",
       "      <th>52438</th>\n",
       "      <td>6</td>\n",
       "      <td>3</td>\n",
       "      <td>4892</td>\n",
       "      <td>3984381</td>\n",
       "      <td>1953</td>\n",
       "      <td>48135</td>\n",
       "      <td>6037</td>\n",
       "      <td>LA</td>\n",
       "    </tr>\n",
       "    <tr>\n",
       "      <th>52439</th>\n",
       "      <td>2</td>\n",
       "      <td>4</td>\n",
       "      <td>2544</td>\n",
       "      <td>149688</td>\n",
       "      <td>1925</td>\n",
       "      <td>1802</td>\n",
       "      <td>6037</td>\n",
       "      <td>LA</td>\n",
       "    </tr>\n",
       "    <tr>\n",
       "      <th>52440</th>\n",
       "      <td>5</td>\n",
       "      <td>4</td>\n",
       "      <td>4660</td>\n",
       "      <td>2597425</td>\n",
       "      <td>1954</td>\n",
       "      <td>31499</td>\n",
       "      <td>6037</td>\n",
       "      <td>LA</td>\n",
       "    </tr>\n",
       "  </tbody>\n",
       "</table>\n",
       "<p>52315 rows × 8 columns</p>\n",
       "</div>"
      ],
      "text/plain": [
       "       bathroomcnt  bedroomcnt  calculatedfinishedsquarefeet  \\\n",
       "0                2           2                          1348   \n",
       "1                2           3                          1221   \n",
       "2                2           3                          1462   \n",
       "3                1           2                           768   \n",
       "4                4           4                          3696   \n",
       "...            ...         ...                           ...   \n",
       "52436            3           3                          1874   \n",
       "52437            1           3                           876   \n",
       "52438            6           3                          4892   \n",
       "52439            2           4                          2544   \n",
       "52440            5           4                          4660   \n",
       "\n",
       "       taxvaluedollarcnt  yearbuilt  taxamount  fips  County  \n",
       "0                 343967       1979       3628  6059  Orange  \n",
       "1                 367034       1955       4589  6059  Orange  \n",
       "2                  79713       1950       1269  6037      LA  \n",
       "3                 270458       1926       3373  6037      LA  \n",
       "4                 940251       1989      10313  6037      LA  \n",
       "...                  ...        ...        ...   ...     ...  \n",
       "52436            1055000       1964      12068  6037      LA  \n",
       "52437             148393       1913       1866  6037      LA  \n",
       "52438            3984381       1953      48135  6037      LA  \n",
       "52439             149688       1925       1802  6037      LA  \n",
       "52440            2597425       1954      31499  6037      LA  \n",
       "\n",
       "[52315 rows x 8 columns]"
      ]
     },
     "execution_count": 16,
     "metadata": {},
     "output_type": "execute_result"
    }
   ],
   "source": [
    "fix_fips(df)"
   ]
  },
  {
   "cell_type": "code",
   "execution_count": 17,
   "id": "b2907d9e",
   "metadata": {},
   "outputs": [
    {
     "name": "stdout",
     "output_type": "stream",
     "text": [
      "bathroomcnt\n",
      "2     25818\n",
      "3     11577\n",
      "1     10392\n",
      "4      2909\n",
      "5      1027\n",
      "6       369\n",
      "7       104\n",
      "8        55\n",
      "0        41\n",
      "9        13\n",
      "10        5\n",
      "11        3\n",
      "18        1\n",
      "13        1\n",
      "Name: bathroomcnt, dtype: int64\n",
      "-------------------------------\n",
      "bedroomcnt\n",
      "3     23346\n",
      "4     15226\n",
      "2      8333\n",
      "5      3970\n",
      "6       633\n",
      "1       605\n",
      "7       106\n",
      "0        57\n",
      "8        24\n",
      "9         8\n",
      "12        3\n",
      "10        2\n",
      "14        1\n",
      "11        1\n",
      "Name: bedroomcnt, dtype: int64\n",
      "-------------------------------\n",
      "calculatedfinishedsquarefeet\n",
      "1120    128\n",
      "1200    119\n",
      "1080    102\n",
      "1040     86\n",
      "936      86\n",
      "       ... \n",
      "5781      1\n",
      "4573      1\n",
      "5683      1\n",
      "5707      1\n",
      "4660      1\n",
      "Name: calculatedfinishedsquarefeet, Length: 4720, dtype: int64\n",
      "-------------------------------\n",
      "taxvaluedollarcnt\n",
      "455000     34\n",
      "600000     30\n",
      "450000     24\n",
      "500000     24\n",
      "550000     24\n",
      "           ..\n",
      "4112590     1\n",
      "797358      1\n",
      "379955      1\n",
      "1421827     1\n",
      "2597425     1\n",
      "Name: taxvaluedollarcnt, Length: 38846, dtype: int64\n",
      "-------------------------------\n",
      "yearbuilt\n",
      "1955    1898\n",
      "1950    1608\n",
      "1954    1517\n",
      "1953    1484\n",
      "1956    1387\n",
      "        ... \n",
      "1892       1\n",
      "1878       1\n",
      "1894       1\n",
      "1882       1\n",
      "1880       1\n",
      "Name: yearbuilt, Length: 133, dtype: int64\n",
      "-------------------------------\n",
      "taxamount\n",
      "1170     20\n",
      "3287     20\n",
      "999      18\n",
      "1096     17\n",
      "1002     16\n",
      "         ..\n",
      "15707     1\n",
      "7843      1\n",
      "42850     1\n",
      "11613     1\n",
      "31499     1\n",
      "Name: taxamount, Length: 15109, dtype: int64\n",
      "-------------------------------\n",
      "fips\n",
      "6037    33875\n",
      "6059    14082\n",
      "6111     4358\n",
      "Name: fips, dtype: int64\n",
      "-------------------------------\n",
      "County\n",
      "LA         33875\n",
      "Orange     14082\n",
      "Ventura     4358\n",
      "Name: County, dtype: int64\n",
      "-------------------------------\n"
     ]
    }
   ],
   "source": [
    "for column in df.columns:\n",
    "    print(column)\n",
    "    print(df[column].value_counts())\n",
    "    print(\"-------------------------------\")"
   ]
  },
  {
   "cell_type": "code",
   "execution_count": null,
   "id": "381ee37d",
   "metadata": {},
   "outputs": [],
   "source": [
    "df.taxamount."
   ]
  },
  {
   "cell_type": "code",
   "execution_count": null,
   "id": "b4ae407a",
   "metadata": {},
   "outputs": [],
   "source": [
    "the wrangling of the data in the kalpana dataset is good too go all i would need to do is add the edits to aquire the data, "
   ]
  },
  {
   "cell_type": "code",
   "execution_count": null,
   "id": "91c67d81",
   "metadata": {},
   "outputs": [],
   "source": [
    "def handle_outliers(df):\n",
    "    \"\"\"Manually handle outliers that do not represent properties likely for 99% of buyers and zillow visitors\"\"\"\n",
    "    df = df[df.bathroomcnt <= 6]\n",
    "    \n",
    "    df = df[df.bedroomcnt <= 6]\n",
    "\n",
    "    df = df[df.taxvaluedollarcnt < 2_000_000]\n",
    "\n",
    "    return df"
   ]
  },
  {
   "cell_type": "code",
   "execution_count": null,
   "id": "5f882c39",
   "metadata": {},
   "outputs": [],
   "source": []
  },
  {
   "cell_type": "code",
   "execution_count": null,
   "id": "3a6cdaf8",
   "metadata": {},
   "outputs": [],
   "source": []
  },
  {
   "cell_type": "code",
   "execution_count": null,
   "id": "8f33a48e",
   "metadata": {},
   "outputs": [],
   "source": []
  },
  {
   "cell_type": "code",
   "execution_count": null,
   "id": "18604592",
   "metadata": {},
   "outputs": [],
   "source": []
  },
  {
   "cell_type": "code",
   "execution_count": null,
   "id": "c7fcfc05",
   "metadata": {},
   "outputs": [],
   "source": []
  },
  {
   "cell_type": "code",
   "execution_count": null,
   "id": "46e0a6ad",
   "metadata": {},
   "outputs": [],
   "source": []
  },
  {
   "cell_type": "code",
   "execution_count": null,
   "id": "624757a0",
   "metadata": {},
   "outputs": [],
   "source": []
  },
  {
   "cell_type": "code",
   "execution_count": null,
   "id": "78c38d1d",
   "metadata": {},
   "outputs": [],
   "source": []
  }
 ],
 "metadata": {
  "kernelspec": {
   "display_name": "Python 3 (ipykernel)",
   "language": "python",
   "name": "python3"
  },
  "language_info": {
   "codemirror_mode": {
    "name": "ipython",
    "version": 3
   },
   "file_extension": ".py",
   "mimetype": "text/x-python",
   "name": "python",
   "nbconvert_exporter": "python",
   "pygments_lexer": "ipython3",
   "version": "3.9.12"
  }
 },
 "nbformat": 4,
 "nbformat_minor": 5
}
