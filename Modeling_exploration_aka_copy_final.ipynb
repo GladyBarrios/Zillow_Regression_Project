{
 "cells": [
  {
   "cell_type": "markdown",
   "id": "c4f8de5a",
   "metadata": {},
   "source": [
    "# Zillow 2017 Report\n",
    "\n",
    "Glady Barrios \n",
    "July, 27, 2022"
   ]
  },
  {
   "cell_type": "markdown",
   "id": "92ac7c92",
   "metadata": {},
   "source": [
    "## Project Goal"
   ]
  },
  {
   "cell_type": "markdown",
   "id": "d1cd60da",
   "metadata": {},
   "source": [
    "Goals for this project are to proved insights on the housing market in three area codes in southern California and to find the key drivers of property value for single family properties in 2017.\n",
    "\n"
   ]
  },
  {
   "cell_type": "markdown",
   "id": "87319627",
   "metadata": {},
   "source": [
    "## Project Description"
   ]
  },
  {
   "cell_type": "markdown",
   "id": "c80c4b87",
   "metadata": {},
   "source": [
    "The main goal for this project is to use Machine learning models to help predict the home values using a home report of 2017 and using single family Residendials.With this project we will wrangle raw zillow data, explore the data, run statistical test, and end it off with predicting home values with our machine learning models. This prediction is important for not only zillow as a company but our future customers and familys who are looking for afordable housing in California. At the end of the presentation We will discover the best model for prediction of housing cost out of all the models tested. "
   ]
  },
  {
   "cell_type": "markdown",
   "id": "0a562405",
   "metadata": {},
   "source": [
    "### Mini - Data dictionary"
   ]
  },
  {
   "cell_type": "markdown",
   "id": "ed7a8361",
   "metadata": {},
   "source": [
    "- bathroomcnt- this displays a bathroom count of 1-6\n",
    "\n",
    "- bedroomcnt- this displays a bedroom count of 1-6\t\n",
    "\n",
    "- calculatedfinishedsquarefeet- The Number of sqarefeet per property\n",
    "\n",
    "- taxvaluedollarcnt- The cost of the property  \n",
    "\n",
    "- yearbuilt- Year the property was built \n",
    "\n",
    "- fips- this is the area code the property resides \n",
    "\n",
    "- County- The name of the county the property is in, three properties include Los Angeles County, Ventura County, Orange \n"
   ]
  },
  {
   "cell_type": "code",
   "execution_count": 1,
   "id": "2c856ae9",
   "metadata": {},
   "outputs": [],
   "source": [
    "import warnings\n",
    "warnings.filterwarnings(\"ignore\")\n",
    "\n",
    "import pandas as pd\n",
    "import numpy as np\n",
    "import seaborn as sns\n",
    "import matplotlib.pyplot as plt\n",
    "import sklearn.preprocessing\n",
    "\n",
    "\n",
    "from wrangle import wrangle_zillow\n",
    "from prepare import train_validate_test_split, scale_data\n",
    "\n",
    "from scipy import stats\n",
    "from math import sqrt\n",
    "\n",
    "\n",
    "from sklearn.model_selection import train_test_split\n",
    "from sklearn.linear_model import LinearRegression, LassoLars, TweedieRegressor\n",
    "from sklearn.feature_selection import SelectKBest, RFE, f_regression, SequentialFeatureSelector\n",
    "from sklearn.preprocessing import MinMaxScaler\n",
    "from sklearn.preprocessing import PolynomialFeatures\n",
    "from sklearn.metrics import mean_squared_error"
   ]
  },
  {
   "cell_type": "markdown",
   "id": "df777d3c",
   "metadata": {},
   "source": [
    "### Wrangle the Zillow data "
   ]
  },
  {
   "cell_type": "code",
   "execution_count": 2,
   "id": "3552ecce",
   "metadata": {},
   "outputs": [
    {
     "data": {
      "text/html": [
       "<div>\n",
       "<style scoped>\n",
       "    .dataframe tbody tr th:only-of-type {\n",
       "        vertical-align: middle;\n",
       "    }\n",
       "\n",
       "    .dataframe tbody tr th {\n",
       "        vertical-align: top;\n",
       "    }\n",
       "\n",
       "    .dataframe thead th {\n",
       "        text-align: right;\n",
       "    }\n",
       "</style>\n",
       "<table border=\"1\" class=\"dataframe\">\n",
       "  <thead>\n",
       "    <tr style=\"text-align: right;\">\n",
       "      <th></th>\n",
       "      <th>bathroomcnt</th>\n",
       "      <th>bedroomcnt</th>\n",
       "      <th>calculatedfinishedsquarefeet</th>\n",
       "      <th>taxvaluedollarcnt</th>\n",
       "      <th>yearbuilt</th>\n",
       "      <th>fips</th>\n",
       "      <th>transactiondate</th>\n",
       "      <th>County</th>\n",
       "    </tr>\n",
       "  </thead>\n",
       "  <tbody>\n",
       "    <tr>\n",
       "      <th>0</th>\n",
       "      <td>2.0</td>\n",
       "      <td>3</td>\n",
       "      <td>1048</td>\n",
       "      <td>380118</td>\n",
       "      <td>1952</td>\n",
       "      <td>6037</td>\n",
       "      <td>2017-01-13</td>\n",
       "      <td>Los Angeles County</td>\n",
       "    </tr>\n",
       "    <tr>\n",
       "      <th>1</th>\n",
       "      <td>2.0</td>\n",
       "      <td>3</td>\n",
       "      <td>1324</td>\n",
       "      <td>518089</td>\n",
       "      <td>1963</td>\n",
       "      <td>6037</td>\n",
       "      <td>2017-01-13</td>\n",
       "      <td>Los Angeles County</td>\n",
       "    </tr>\n",
       "    <tr>\n",
       "      <th>3</th>\n",
       "      <td>3.0</td>\n",
       "      <td>4</td>\n",
       "      <td>2519</td>\n",
       "      <td>106406</td>\n",
       "      <td>1965</td>\n",
       "      <td>6037</td>\n",
       "      <td>2017-01-13</td>\n",
       "      <td>Los Angeles County</td>\n",
       "    </tr>\n",
       "  </tbody>\n",
       "</table>\n",
       "</div>"
      ],
      "text/plain": [
       "   bathroomcnt  bedroomcnt  calculatedfinishedsquarefeet  taxvaluedollarcnt  \\\n",
       "0          2.0           3                          1048             380118   \n",
       "1          2.0           3                          1324             518089   \n",
       "3          3.0           4                          2519             106406   \n",
       "\n",
       "   yearbuilt  fips transactiondate              County  \n",
       "0       1952  6037      2017-01-13  Los Angeles County  \n",
       "1       1963  6037      2017-01-13  Los Angeles County  \n",
       "3       1965  6037      2017-01-13  Los Angeles County  "
      ]
     },
     "execution_count": 2,
     "metadata": {},
     "output_type": "execute_result"
    }
   ],
   "source": [
    "df = wrangle_zillow()\n",
    "\n",
    "df.head(3)"
   ]
  },
  {
   "cell_type": "markdown",
   "id": "baf8a573",
   "metadata": {},
   "source": [
    "Quick recap on the Zillow  wrangling\n",
    "- when hadeling nulls, I did drop them which left me with more than enough data (99%) to continue my project \n",
    "- removed outliers such as Properties with 6+ bathrooms and bedrooms as well as 0 bathrooms and bedrooms\n",
    "- Created a new column that shows the counties the property is in "
   ]
  },
  {
   "cell_type": "code",
   "execution_count": 3,
   "id": "d9984f9f",
   "metadata": {},
   "outputs": [
    {
     "data": {
      "text/plain": [
       "((27773, 8), (11903, 8), (9920, 8))"
      ]
     },
     "execution_count": 3,
     "metadata": {},
     "output_type": "execute_result"
    }
   ],
   "source": [
    "#we will now explore using the train, this will be used as well to predict on the \n",
    "train, validate, test = train_validate_test_split(df)\n",
    "\n",
    "train.shape, validate.shape, test.shape"
   ]
  },
  {
   "cell_type": "code",
   "execution_count": 4,
   "id": "6bd6dfe0",
   "metadata": {},
   "outputs": [],
   "source": [
    "#Scaled data will help our models have a well balaced data to make better and more accurate predictions \n",
    "train_s, valid_s, test_s = scale_data(train, validate, test)"
   ]
  },
  {
   "cell_type": "code",
   "execution_count": 5,
   "id": "81e4148d",
   "metadata": {},
   "outputs": [
    {
     "data": {
      "text/html": [
       "<div>\n",
       "<style scoped>\n",
       "    .dataframe tbody tr th:only-of-type {\n",
       "        vertical-align: middle;\n",
       "    }\n",
       "\n",
       "    .dataframe tbody tr th {\n",
       "        vertical-align: top;\n",
       "    }\n",
       "\n",
       "    .dataframe thead th {\n",
       "        text-align: right;\n",
       "    }\n",
       "</style>\n",
       "<table border=\"1\" class=\"dataframe\">\n",
       "  <thead>\n",
       "    <tr style=\"text-align: right;\">\n",
       "      <th></th>\n",
       "      <th>bathroomcnt</th>\n",
       "      <th>bedroomcnt</th>\n",
       "      <th>calculatedfinishedsquarefeet</th>\n",
       "      <th>taxvaluedollarcnt</th>\n",
       "      <th>yearbuilt</th>\n",
       "      <th>fips</th>\n",
       "      <th>transactiondate</th>\n",
       "      <th>County</th>\n",
       "    </tr>\n",
       "  </thead>\n",
       "  <tbody>\n",
       "    <tr>\n",
       "      <th>51278</th>\n",
       "      <td>0.0</td>\n",
       "      <td>0.4</td>\n",
       "      <td>0.108761</td>\n",
       "      <td>119668</td>\n",
       "      <td>1960</td>\n",
       "      <td>6111</td>\n",
       "      <td>2017-08-31</td>\n",
       "      <td>Ventura County</td>\n",
       "    </tr>\n",
       "    <tr>\n",
       "      <th>30633</th>\n",
       "      <td>0.2</td>\n",
       "      <td>0.6</td>\n",
       "      <td>0.308020</td>\n",
       "      <td>919553</td>\n",
       "      <td>1922</td>\n",
       "      <td>6037</td>\n",
       "      <td>2017-06-13</td>\n",
       "      <td>Los Angeles County</td>\n",
       "    </tr>\n",
       "    <tr>\n",
       "      <th>1069</th>\n",
       "      <td>0.3</td>\n",
       "      <td>0.4</td>\n",
       "      <td>0.176600</td>\n",
       "      <td>390871</td>\n",
       "      <td>1964</td>\n",
       "      <td>6059</td>\n",
       "      <td>2017-01-06</td>\n",
       "      <td>Orange County</td>\n",
       "    </tr>\n",
       "  </tbody>\n",
       "</table>\n",
       "</div>"
      ],
      "text/plain": [
       "       bathroomcnt  bedroomcnt  calculatedfinishedsquarefeet  \\\n",
       "51278          0.0         0.4                      0.108761   \n",
       "30633          0.2         0.6                      0.308020   \n",
       "1069           0.3         0.4                      0.176600   \n",
       "\n",
       "       taxvaluedollarcnt  yearbuilt  fips transactiondate              County  \n",
       "51278             119668       1960  6111      2017-08-31      Ventura County  \n",
       "30633             919553       1922  6037      2017-06-13  Los Angeles County  \n",
       "1069              390871       1964  6059      2017-01-06       Orange County  "
      ]
     },
     "execution_count": 5,
     "metadata": {},
     "output_type": "execute_result"
    }
   ],
   "source": [
    "train_s.head(3)"
   ]
  },
  {
   "cell_type": "markdown",
   "id": "bcea87cf",
   "metadata": {},
   "source": [
    "____________________"
   ]
  },
  {
   "cell_type": "markdown",
   "id": "c35d9162",
   "metadata": {},
   "source": [
    "# Exploring the Data "
   ]
  },
  {
   "cell_type": "markdown",
   "id": "ff4656b3",
   "metadata": {},
   "source": [
    "Lets take a quick look at the data "
   ]
  },
  {
   "cell_type": "code",
   "execution_count": null,
   "id": "b9488572",
   "metadata": {
    "scrolled": false
   },
   "outputs": [],
   "source": [
    "fig, ax =plt.subplots(1,2, figsize=(12,6))\n",
    "sns.countplot(train['bathroomcnt'], ax=ax[0])\n",
    "sns.countplot(train['bedroomcnt'], ax=ax[1])\n",
    "fig.show()"
   ]
  },
  {
   "cell_type": "markdown",
   "id": "0f662e42",
   "metadata": {},
   "source": [
    "Takeaways- many of the properties in our dataset have 2 bathrooms and the majority of the properties have 3 bedrooms"
   ]
  },
  {
   "cell_type": "code",
   "execution_count": null,
   "id": "5b3c0602",
   "metadata": {
    "scrolled": true
   },
   "outputs": [],
   "source": [
    "sns.histplot(data=train, x= 'calculatedfinishedsquarefeet')"
   ]
  },
  {
   "cell_type": "markdown",
   "id": "77b3ece5",
   "metadata": {},
   "source": [
    "Takeaways- many of the properties are within 1,000 sqft and 3,000 sqft "
   ]
  },
  {
   "cell_type": "code",
   "execution_count": null,
   "id": "2d5abd5e",
   "metadata": {
    "scrolled": false
   },
   "outputs": [],
   "source": [
    "sns.histplot(data=train, x= 'County')"
   ]
  },
  {
   "cell_type": "markdown",
   "id": "ef152bfa",
   "metadata": {},
   "source": [
    "Recap\n",
    "- many of the properties in this train dataset are in Los Angeles County \n",
    "- many of the properties in our dataset have 2 bathrooms and the majority of the properties have 3 bedrooms\n",
    "- many of the properties are within 1,000 sqft and 3,000 sqft "
   ]
  },
  {
   "cell_type": "markdown",
   "id": "581f5673",
   "metadata": {},
   "source": [
    "##  Question 1- Is there a relationship with the number of bathrroms a property has and the county the property is in ?"
   ]
  },
  {
   "cell_type": "code",
   "execution_count": null,
   "id": "5fa0d080",
   "metadata": {},
   "outputs": [],
   "source": [
    "sns.countplot(x= 'bathroomcnt', hue = \"County\", data=train)\n",
    "fig.show()"
   ]
  },
  {
   "cell_type": "code",
   "execution_count": null,
   "id": "23e72a0e",
   "metadata": {},
   "outputs": [],
   "source": [
    "# Let's run a chi squared to compare proportions, to have more confidence\n",
    "alpha = 0.05\n",
    "# Setup a crosstab of bathroom count and County  \n",
    "#This is the best statistical test becasue we are looking at two categorical variables \n",
    "observed = pd.crosstab(train.bathroomcnt, train.County)\n",
    "\n",
    "chi2, p, degf, expected = stats.chi2_contingency(observed)\n",
    "\n",
    "if p < alpha:\n",
    "    print(\"Reject the null hypothesis\")\n",
    "else:\n",
    "    print(\"Fail to reject the null\")\n",
    "p"
   ]
  },
  {
   "cell_type": "markdown",
   "id": "877a794a",
   "metadata": {},
   "source": [
    "Main takeaways- \n",
    "- There is a realtionship between the number of bathrooms and the area it is in\n",
    "- Looks like many of the 2 bathrooms properties are located in LA county and orange county \n",
    "- Overall we can see from the graph that the majority f properties no matter the county have 2 bathrooms \n",
    "\n",
    "Remember from earlier majority of all countly propertys seem to have 2 bathrooms."
   ]
  },
  {
   "cell_type": "markdown",
   "id": "cb58b9a4",
   "metadata": {},
   "source": [
    "## Question 2- Does a property with a certain number of bathrooms cause an increase in property value?"
   ]
  },
  {
   "cell_type": "code",
   "execution_count": null,
   "id": "eac5afc6",
   "metadata": {},
   "outputs": [],
   "source": [
    "sns.barplot(x= 'bathroomcnt', y='taxvaluedollarcnt', data=train, palette=\"rocket\")"
   ]
  },
  {
   "cell_type": "markdown",
   "id": "61c1b131",
   "metadata": {},
   "source": [
    "## Question 3- Does a property with a certain number of bedrooms cause an increase in property value?\n"
   ]
  },
  {
   "cell_type": "markdown",
   "id": "66797d8f",
   "metadata": {},
   "source": [
    "$H_o$- There is no linear correlation between bedroom count and property value \n",
    "\n",
    "$H_a$ - there is a linear realtionship between bedrrom and property value"
   ]
  },
  {
   "cell_type": "code",
   "execution_count": null,
   "id": "61543577",
   "metadata": {},
   "outputs": [],
   "source": [
    "sns.barplot(x= 'bedroomcnt', y='taxvaluedollarcnt', data=train, palette=\"rocket\")"
   ]
  },
  {
   "cell_type": "code",
   "execution_count": null,
   "id": "f9e0d3c4",
   "metadata": {},
   "outputs": [],
   "source": [
    "corr, p = stats.pearsonr(train.bedroomcnt, train.taxvaluedollarcnt)\n",
    "\n",
    "if p < alpha:\n",
    "    print(\"We reject the null hypothesis\")\n",
    "else:\n",
    "    print(\"We fail to reject the null hypothesis\")\n",
    "    \n"
   ]
  },
  {
   "cell_type": "markdown",
   "id": "1e6bb8cb",
   "metadata": {},
   "source": [
    "Takeaways so far\n",
    "- For the number of bedrooms there is a reationship with the value of the property as we can see on the graph above the more bedroom the higher the value of the property."
   ]
  },
  {
   "cell_type": "markdown",
   "id": "983f17ef",
   "metadata": {},
   "source": [
    " ## Question 4- Is there a relationship with the number of bedrooms a property has to the county it is in ?"
   ]
  },
  {
   "cell_type": "code",
   "execution_count": null,
   "id": "f9cc53f1",
   "metadata": {},
   "outputs": [],
   "source": [
    " sns.countplot(x= 'bedroomcnt', hue = \"County\", data=train)"
   ]
  },
  {
   "cell_type": "markdown",
   "id": "71dde02b",
   "metadata": {},
   "source": [
    "$H_o$ : Bedroom count and county are independent \n",
    "\n",
    "$H_a$ : There is a relationship between bathroom count and County "
   ]
  },
  {
   "cell_type": "code",
   "execution_count": null,
   "id": "30b948df",
   "metadata": {},
   "outputs": [],
   "source": [
    "# Let's run a chi squared to compare proportions, to have more confidence\n",
    "alpha = 0.05\n",
    "# Setup a crosstab of observed bedroom count and county\n",
    "#This is the best statistical test becasue we are looking at two categorical variables \n",
    "observed = pd.crosstab(train.bedroomcnt, train.County)\n",
    "\n",
    "chi2, p, degf, expected = stats.chi2_contingency(observed)\n",
    "\n",
    "if p < alpha:\n",
    "    print(\"Reject the null hypothesis\")\n",
    "else:\n",
    "    print(\"Fail to reject the null\")\n",
    "    \n"
   ]
  },
  {
   "cell_type": "markdown",
   "id": "db1532eb",
   "metadata": {},
   "source": [
    "Main takeaways\n",
    "- from the looks of or our graph and our statisticl test there is a relationhsip  with the number of bedrooms and the county the property is located \n",
    "- for all the counties the many of the properties have 2 to 4 bedrooms, majority being 3 or 4 bedrooms\n"
   ]
  },
  {
   "cell_type": "markdown",
   "id": "87b7342a",
   "metadata": {},
   "source": [
    "### Exploration Summary "
   ]
  },
  {
   "cell_type": "markdown",
   "id": "6b19b08a",
   "metadata": {},
   "source": [
    "- Overall we can see from the graph that the majority of properties no matter the county have 2 bathrooms \n",
    "- For the number of bedrooms there is a reationship with the value of the property as we can see on the graph above the more bedroom the higher the value of the property.\n",
    "- For all the counties the many of the properties have 2 to 4 bedrooms, majority being 3 or 4 bedrooms\n",
    "- From our bedroom and bathroom exploration there seems to be a much larger correlation with property value with bathrooms rather than the number of bedrooms \n"
   ]
  },
  {
   "cell_type": "markdown",
   "id": "f97422c3",
   "metadata": {},
   "source": [
    "-------------------------"
   ]
  },
  {
   "cell_type": "markdown",
   "id": "7bb8260a",
   "metadata": {},
   "source": [
    "# Lets Start Modeling!"
   ]
  },
  {
   "cell_type": "markdown",
   "id": "828a65b6",
   "metadata": {},
   "source": [
    "### establishing the baseline "
   ]
  },
  {
   "cell_type": "markdown",
   "id": "c39b0272",
   "metadata": {},
   "source": [
    "We are now going to use scaled data from earlier \n",
    "- I used linear scaling to create normality in the data\n",
    "- Unscaled data can inpact some of our models negatively and give us inaccurate predictions "
   ]
  },
  {
   "cell_type": "code",
   "execution_count": 6,
   "id": "c441b3be",
   "metadata": {},
   "outputs": [],
   "source": [
    "# I decided to use these three factors\n",
    "X_train = train_s[['bathroomcnt', 'calculatedfinishedsquarefeet']]\n",
    "y_train = train[['taxvaluedollarcnt']]\n",
    "X_validate = valid_s[['bathroomcnt', 'calculatedfinishedsquarefeet']]\n",
    "y_validate = validate[['taxvaluedollarcnt']]\n",
    "X_test = test_s[['bathroomcnt', 'calculatedfinishedsquarefeet']]\n",
    "y_test = test[['taxvaluedollarcnt']]"
   ]
  },
  {
   "cell_type": "code",
   "execution_count": 7,
   "id": "9f4aa8ff",
   "metadata": {
    "scrolled": true
   },
   "outputs": [
    {
     "name": "stdout",
     "output_type": "stream",
     "text": [
      "Train baseline RMSE: 298182.01227437635.\n",
      "Validation baseline RMSE: 302522.8095888484.\n"
     ]
    }
   ],
   "source": [
    "baseline = train.taxvaluedollarcnt.mean()\n",
    "\n",
    "train['baseline'] = baseline\n",
    "validate['baseline'] = baseline\n",
    "\n",
    "train_rmse = sqrt(mean_squared_error(train.taxvaluedollarcnt, train.baseline))\n",
    "valid_rmse = sqrt(mean_squared_error(validate.taxvaluedollarcnt, validate.baseline))\n",
    "\n",
    "print('Train baseline RMSE: {}.'.format(train_rmse))\n",
    "print('Validation baseline RMSE: {}.'.format(valid_rmse))"
   ]
  },
  {
   "cell_type": "markdown",
   "id": "21a12a8b",
   "metadata": {},
   "source": [
    "Our end goal for modeling is to find a model that has the lowest RMSE (Root Mean Squared Error) and beat that baseline!\n",
    " - RMSE is an evaluation metric, that will measure \"how good a model is\" and measure how well a model predicts the target variable, which is the value of a property\n",
    " - In our models, RMSE is already in dollar value, perfect for comparison\n",
    "    "
   ]
  },
  {
   "cell_type": "markdown",
   "id": "7f62bea2",
   "metadata": {},
   "source": [
    "-----------------------"
   ]
  },
  {
   "cell_type": "markdown",
   "id": "d3ba2e88",
   "metadata": {},
   "source": [
    "I went ahead and did four ML models\n",
    "\n",
    "- OLS- (Ordiary Least Squares)\n",
    "\n",
    "- LassoLars \n",
    "\n",
    "- GLM- (Generalized Linear Model)\n",
    "\n",
    "- Polyniomial Model- This model had the lowest RMSE"
   ]
  },
  {
   "cell_type": "markdown",
   "id": "81b3e7b2",
   "metadata": {},
   "source": [
    "## OLS model "
   ]
  },
  {
   "cell_type": "markdown",
   "id": "ad699fd2",
   "metadata": {},
   "source": [
    "Our goal is to find a model with the least ammount of error when using our multiple variables "
   ]
  },
  {
   "cell_type": "code",
   "execution_count": 8,
   "id": "6c2f67a3",
   "metadata": {
    "scrolled": true
   },
   "outputs": [
    {
     "name": "stdout",
     "output_type": "stream",
     "text": [
      "RMSE for OLS using LinearRegression\n",
      "Training/In-Sample:  250715.05044390244 \n",
      "Validation/Out-of-Sample:  252479.33407779186\n"
     ]
    }
   ],
   "source": [
    "# create the model object\n",
    "lm = LinearRegression(normalize=True)\n",
    "\n",
    "# fit the model to our training data. We must specify the column in y_train, \n",
    "# since we have converted it to a dataframe from a series! \n",
    "lm.fit(X_train, y_train.taxvaluedollarcnt)\n",
    "\n",
    "# predict train\n",
    "y_train['tax_pred_lm'] = lm.predict(X_train)\n",
    "\n",
    "# evaluate: rmse\n",
    "rmse_train = mean_squared_error(y_train.taxvaluedollarcnt, y_train.tax_pred_lm)**(1/2)\n",
    "\n",
    "# predict validate\n",
    "y_validate['tax_pred_lm'] = lm.predict(X_validate)\n",
    "\n",
    "# evaluate: rmse\n",
    "rmse_validate = mean_squared_error(y_validate.taxvaluedollarcnt, y_validate.tax_pred_lm)**(1/2)\n",
    "\n",
    "print(\"RMSE for OLS using LinearRegression\\nTraining/In-Sample: \", rmse_train, \n",
    "      \"\\nValidation/Out-of-Sample: \", rmse_validate)"
   ]
  },
  {
   "cell_type": "markdown",
   "id": "9709db1a",
   "metadata": {},
   "source": [
    "--------------------"
   ]
  },
  {
   "cell_type": "markdown",
   "id": "41690484",
   "metadata": {},
   "source": [
    "## LassoLars"
   ]
  },
  {
   "cell_type": "code",
   "execution_count": 9,
   "id": "1e28be0a",
   "metadata": {
    "scrolled": false
   },
   "outputs": [
    {
     "name": "stdout",
     "output_type": "stream",
     "text": [
      "RMSE for Lasso + Lars\n",
      "Training/In-Sample:  250715.1113067819 \n",
      "Validation/Out-of-Sample:  252479.86932253823\n"
     ]
    }
   ],
   "source": [
    "# create the model object\n",
    "lars = LassoLars(alpha=1.0)\n",
    "\n",
    "# fit the model to our training data. We must specify the column in y_train, \n",
    "# since we have converted it to a dataframe from a series! \n",
    "lars.fit(X_train, y_train.taxvaluedollarcnt)\n",
    "\n",
    "# predict train\n",
    "y_train['tax_pred_lars'] = lars.predict(X_train)\n",
    "\n",
    "# evaluate: rmse\n",
    "rmse_train = mean_squared_error(y_train.taxvaluedollarcnt, y_train.tax_pred_lars)**(1/2)\n",
    "\n",
    "# predict validate\n",
    "y_validate['tax_pred_lars'] = lars.predict(X_validate)\n",
    "\n",
    "# evaluate: rmse\n",
    "rmse_validate = mean_squared_error(y_validate.taxvaluedollarcnt, y_validate.tax_pred_lars)**(1/2)\n",
    "\n",
    "print(\"RMSE for Lasso + Lars\\nTraining/In-Sample: \", rmse_train, \n",
    "      \"\\nValidation/Out-of-Sample: \", rmse_validate)"
   ]
  },
  {
   "cell_type": "markdown",
   "id": "2283db18",
   "metadata": {},
   "source": [
    "-------------------"
   ]
  },
  {
   "cell_type": "markdown",
   "id": "7a2ff67e",
   "metadata": {},
   "source": [
    "## GLM Model "
   ]
  },
  {
   "cell_type": "code",
   "execution_count": 10,
   "id": "31cbfb66",
   "metadata": {
    "scrolled": true
   },
   "outputs": [
    {
     "name": "stdout",
     "output_type": "stream",
     "text": [
      "RMSE for GLM using Tweedie, power=1 & alpha=0\n",
      "Training/In-Sample:  254269.73751587025 \n",
      "Validation/Out-of-Sample:  257590.14434118292\n"
     ]
    }
   ],
   "source": [
    "# create the model object\n",
    "glm = TweedieRegressor(power=1, alpha=0)\n",
    "\n",
    "# fit the model to our training data. We must specify the column in y_train, \n",
    "# since we have converted it to a dataframe from a series! \n",
    "glm.fit(X_train, y_train.taxvaluedollarcnt)\n",
    "\n",
    "# predict train\n",
    "y_train['tax_pred_glm'] = glm.predict(X_train)\n",
    "\n",
    "# evaluate: rmse\n",
    "rmse_train = mean_squared_error(y_train.taxvaluedollarcnt, y_train.tax_pred_glm)**(1/2)\n",
    "\n",
    "# predict validate\n",
    "y_validate['tax_pred_glm'] = glm.predict(X_validate)\n",
    "\n",
    "# evaluate: rmse\n",
    "rmse_validate = mean_squared_error(y_validate.taxvaluedollarcnt, y_validate.tax_pred_glm)**(1/2)\n",
    "\n",
    "print(\"RMSE for GLM using Tweedie, power=1 & alpha=0\\nTraining/In-Sample: \", rmse_train, \n",
    "      \"\\nValidation/Out-of-Sample: \", rmse_validate)\n"
   ]
  },
  {
   "cell_type": "markdown",
   "id": "7a957fc1",
   "metadata": {},
   "source": [
    "---------------------------------------"
   ]
  },
  {
   "cell_type": "markdown",
   "id": "8bdec739",
   "metadata": {},
   "source": [
    "## Polynomial Model"
   ]
  },
  {
   "cell_type": "code",
   "execution_count": 11,
   "id": "e2dc1843",
   "metadata": {},
   "outputs": [],
   "source": [
    "# make the polynomial features to get a new set of features\n",
    "pf = PolynomialFeatures(degree=2)\n",
    "\n",
    "# fit and transform X_train_scaled\n",
    "X_train_degree2 = pf.fit_transform(X_train)\n",
    "\n",
    "# transform X_validate_scaled & X_test_scaled\n",
    "X_validate_degree2 = pf.transform(X_validate)\n",
    "X_test_degree2 = pf.transform(X_test)\n"
   ]
  },
  {
   "cell_type": "code",
   "execution_count": 12,
   "id": "08a048d7",
   "metadata": {
    "scrolled": true
   },
   "outputs": [
    {
     "name": "stdout",
     "output_type": "stream",
     "text": [
      "RMSE for Polynomial Model, degrees=2\n",
      "Training/In-Sample:  250081.39204286167 \n",
      "Validation/Out-of-Sample:  252119.60223339367\n"
     ]
    }
   ],
   "source": [
    "# create the model object\n",
    "lm2 = LinearRegression(normalize=True)\n",
    "\n",
    "# fit the model to our training data. We must specify the column in y_train, \n",
    "# since we have converted it to a dataframe from a series! \n",
    "lm2.fit(X_train_degree2, y_train.taxvaluedollarcnt)\n",
    "\n",
    "# predict train\n",
    "y_train['tax_pred_lm2'] = lm2.predict(X_train_degree2)\n",
    "\n",
    "# evaluate: rmse\n",
    "rmse_train = mean_squared_error(y_train.taxvaluedollarcnt, y_train.tax_pred_lm2)**(1/2)\n",
    "\n",
    "# predict validate\n",
    "y_validate['tax_pred_lm2'] = lm2.predict(X_validate_degree2)\n",
    "\n",
    "# evaluate: rmse\n",
    "rmse_validate = mean_squared_error(y_validate.taxvaluedollarcnt, y_validate.tax_pred_lm2)**(1/2)\n",
    "\n",
    "print(\"RMSE for Polynomial Model, degrees=2\\nTraining/In-Sample: \", rmse_train, \n",
    "      \"\\nValidation/Out-of-Sample: \", rmse_validate)\n"
   ]
  },
  {
   "cell_type": "markdown",
   "id": "42a99fa5",
   "metadata": {},
   "source": [
    "-----------------------"
   ]
  },
  {
   "cell_type": "markdown",
   "id": "a4123c72",
   "metadata": {
    "scrolled": true
   },
   "source": [
    "### Lets take a look"
   ]
  },
  {
   "cell_type": "code",
   "execution_count": 13,
   "id": "71b9db2a",
   "metadata": {},
   "outputs": [
    {
     "data": {
      "image/png": "[encoded data removed]",
      "text/plain": [
       "<Figure size 1152x576 with 1 Axes>"
      ]
     },
     "metadata": {
      "needs_background": "light"
     },
     "output_type": "display_data"
    }
   ],
   "source": [
    "# plot to visualize actual vs predicted. \n",
    "plt.figure(figsize=(16,8))\n",
    "plt.hist(y_validate.taxvaluedollarcnt, color='blue', alpha=.5, label=\"Actual taxvaluedollarcnt\")\n",
    "plt.hist(y_validate.tax_pred_lm, color='black', alpha=.5, label=\"Model: LinearRegression\")\n",
    "plt.hist(y_validate.tax_pred_glm, color='yellow', alpha=.5, label=\"Model: TweedieRegressor\")\n",
    "plt.hist(y_validate.tax_pred_lm2, color='purple', alpha=.5, label=\"Model 2nd degree Polynomial\")\n",
    "plt.hist(y_validate.tax_pred_lars, color='orange', alpha=.5, label=\"lassoLars\")\n",
    "plt.xlabel(\"Final Grade (G3)\")\n",
    "plt.ylabel(\"Number of Students\")\n",
    "plt.title(\"Comparing the Distribution of Actual Grades to Distributions of Predicted Grades for the Top Models\")\n",
    "plt.legend()\n",
    "plt.show()"
   ]
  },
  {
   "cell_type": "markdown",
   "id": "f271749c",
   "metadata": {},
   "source": [
    "###  Lets train on test "
   ]
  },
  {
   "cell_type": "code",
   "execution_count": 14,
   "id": "72f3a370",
   "metadata": {
    "scrolled": true
   },
   "outputs": [
    {
     "name": "stdout",
     "output_type": "stream",
     "text": [
      "RMSE for 2nd Degree Polynomial Model using LinearRegression\n",
      "Out-of-Sample Performance:  256779.34542650112\n"
     ]
    }
   ],
   "source": [
    "y_test = pd.DataFrame(y_test)\n",
    "\n",
    "# predict on test\n",
    "y_test['tax_pred_lm2'] = lm2.predict(X_test_degree2)\n",
    "\n",
    "# evaluate: rmse\n",
    "rmse_test = mean_squared_error(y_test.taxvaluedollarcnt, y_test.tax_pred_lm2)**(1/2)\n",
    "\n",
    "print(\"RMSE for 2nd Degree Polynomial Model using LinearRegression\\nOut-of-Sample Performance: \", rmse_test)\n"
   ]
  },
  {
   "cell_type": "code",
   "execution_count": null,
   "id": "b9a61ea5",
   "metadata": {},
   "outputs": [],
   "source": [
    "def calculate_mse(y_predicted):\n",
    "    return mean_squared_error(y_train.taxvaluedollarcnt, y_predicted)\n",
    "\n",
    "y_train.apply(calculate_mse).sort_values()"
   ]
  },
  {
   "cell_type": "code",
   "execution_count": 15,
   "id": "67b920cb",
   "metadata": {},
   "outputs": [
    {
     "data": {
      "text/html": [
       "<div>\n",
       "<style scoped>\n",
       "    .dataframe tbody tr th:only-of-type {\n",
       "        vertical-align: middle;\n",
       "    }\n",
       "\n",
       "    .dataframe tbody tr th {\n",
       "        vertical-align: top;\n",
       "    }\n",
       "\n",
       "    .dataframe thead th {\n",
       "        text-align: right;\n",
       "    }\n",
       "</style>\n",
       "<table border=\"1\" class=\"dataframe\">\n",
       "  <thead>\n",
       "    <tr style=\"text-align: right;\">\n",
       "      <th></th>\n",
       "      <th>taxvaluedollarcnt</th>\n",
       "      <th>tax_pred_lm</th>\n",
       "      <th>tax_pred_lars</th>\n",
       "      <th>tax_pred_glm</th>\n",
       "      <th>tax_pred_lm2</th>\n",
       "    </tr>\n",
       "  </thead>\n",
       "  <tbody>\n",
       "    <tr>\n",
       "      <th>51278</th>\n",
       "      <td>119668</td>\n",
       "      <td>219275.902554</td>\n",
       "      <td>219507.291054</td>\n",
       "      <td>262074.815163</td>\n",
       "      <td>240973.583988</td>\n",
       "    </tr>\n",
       "    <tr>\n",
       "      <th>30633</th>\n",
       "      <td>919553</td>\n",
       "      <td>510356.373916</td>\n",
       "      <td>510308.889580</td>\n",
       "      <td>459169.716997</td>\n",
       "      <td>496893.912532</td>\n",
       "    </tr>\n",
       "    <tr>\n",
       "      <th>1069</th>\n",
       "      <td>390871</td>\n",
       "      <td>357097.176475</td>\n",
       "      <td>357109.819654</td>\n",
       "      <td>357428.971401</td>\n",
       "      <td>343350.488027</td>\n",
       "    </tr>\n",
       "    <tr>\n",
       "      <th>5125</th>\n",
       "      <td>58361</td>\n",
       "      <td>254439.223658</td>\n",
       "      <td>254647.127072</td>\n",
       "      <td>278970.162970</td>\n",
       "      <td>275461.746915</td>\n",
       "    </tr>\n",
       "    <tr>\n",
       "      <th>15166</th>\n",
       "      <td>396326</td>\n",
       "      <td>312163.109509</td>\n",
       "      <td>312247.995664</td>\n",
       "      <td>322882.704340</td>\n",
       "      <td>304300.172492</td>\n",
       "    </tr>\n",
       "  </tbody>\n",
       "</table>\n",
       "</div>"
      ],
      "text/plain": [
       "       taxvaluedollarcnt    tax_pred_lm  tax_pred_lars   tax_pred_glm  \\\n",
       "51278             119668  219275.902554  219507.291054  262074.815163   \n",
       "30633             919553  510356.373916  510308.889580  459169.716997   \n",
       "1069              390871  357097.176475  357109.819654  357428.971401   \n",
       "5125               58361  254439.223658  254647.127072  278970.162970   \n",
       "15166             396326  312163.109509  312247.995664  322882.704340   \n",
       "\n",
       "        tax_pred_lm2  \n",
       "51278  240973.583988  \n",
       "30633  496893.912532  \n",
       "1069   343350.488027  \n",
       "5125   275461.746915  \n",
       "15166  304300.172492  "
      ]
     },
     "execution_count": 15,
     "metadata": {},
     "output_type": "execute_result"
    }
   ],
   "source": [
    "y_train.head()"
   ]
  },
  {
   "cell_type": "markdown",
   "id": "deff4da6",
   "metadata": {},
   "source": [
    "###   Lets Recap!"
   ]
  },
  {
   "cell_type": "markdown",
   "id": "98398431",
   "metadata": {},
   "source": [
    "When modeling we want to find a model that has the lowest RMSE aka the lowest ammount of errors\n",
    "- The best model for this was the 2nd degree polynimoal mode with the lowest root mean squared error \n",
    "- This is the best model out all four models used at predicting a property value (AKA taxvaluedollarcount) "
   ]
  },
  {
   "cell_type": "markdown",
   "id": "64b8bd4d",
   "metadata": {},
   "source": [
    "# Conclusion "
   ]
  },
  {
   "cell_type": "markdown",
   "id": "971a5223",
   "metadata": {},
   "source": [
    "In conclusion what we did today was \n",
    "- we wrangled the data\n",
    "- explored the data with our bedrroms and bathrooms - found that there is more of a realtionship with home value with the number of bathrooms\n",
    "- The best model to predict home value is 2nd degree polynomial model "
   ]
  },
  {
   "cell_type": "markdown",
   "id": "1e900f98",
   "metadata": {},
   "source": [
    "### Recomendations "
   ]
  },
  {
   "cell_type": "markdown",
   "id": "16e0ac9d",
   "metadata": {},
   "source": [
    "- My recomendation is to use 2nd degree polynomial when working with the data to predict home value\n",
    "- Looking at other features that could increase home value such as shools, parks, libaries, churches, diffrent establishments.\n",
    "- looking at the diffrent social econimic issues in the area tha couls efect home prices "
   ]
  },
  {
   "cell_type": "markdown",
   "id": "f4f74a40",
   "metadata": {},
   "source": [
    "## Next Steps"
   ]
  },
  {
   "cell_type": "markdown",
   "id": "4a624e0c",
   "metadata": {},
   "source": [
    "- My next stps are to try diffrent models and maybe try diffrent features I was unable to try.\n",
    "- maybe use the same models but try diffrent  features of the models such as powers, alphas, etc.. \n"
   ]
  },
  {
   "cell_type": "code",
   "execution_count": null,
   "id": "4b99f67e",
   "metadata": {},
   "outputs": [],
   "source": []
  }
 ],
 "metadata": {
  "kernelspec": {
   "display_name": "Python 3 (ipykernel)",
   "language": "python",
   "name": "python3"
  },
  "language_info": {
   "codemirror_mode": {
    "name": "ipython",
    "version": 3
   },
   "file_extension": ".py",
   "mimetype": "text/x-python",
   "name": "python",
   "nbconvert_exporter": "python",
   "pygments_lexer": "ipython3",
   "version": "3.9.12"
  }
 },
 "nbformat": 4,
 "nbformat_minor": 5
}
