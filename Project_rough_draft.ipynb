{
 "cells": [
  {
   "cell_type": "code",
   "execution_count": 1,
   "id": "192a8b6f",
   "metadata": {},
   "outputs": [],
   "source": [
    "import pandas as pd\n",
    "import numpy as np\n",
    "import seaborn as sns\n",
    "import matplotlib.pyplot as plt\n",
    "from env import user, password, host\n",
    "from wrangle import wrangle_zillow\n",
    "from prepare import train_validate_test_split\n",
    "from sklearn.model_selection import train_test_split\n",
    "import warnings\n",
    "warnings.filterwarnings(\"ignore\")\n",
    "from sklearn.linear_model import LinearRegression, LassoLars, TweedieRegressor"
   ]
  },
  {
   "cell_type": "code",
   "execution_count": null,
   "id": "c6c7f7fe",
   "metadata": {},
   "outputs": [],
   "source": [
    " "
   ]
  },
  {
   "cell_type": "code",
   "execution_count": 2,
   "id": "d6da1ff5",
   "metadata": {},
   "outputs": [
    {
     "data": {
      "text/html": [
       "<div>\n",
       "<style scoped>\n",
       "    .dataframe tbody tr th:only-of-type {\n",
       "        vertical-align: middle;\n",
       "    }\n",
       "\n",
       "    .dataframe tbody tr th {\n",
       "        vertical-align: top;\n",
       "    }\n",
       "\n",
       "    .dataframe thead th {\n",
       "        text-align: right;\n",
       "    }\n",
       "</style>\n",
       "<table border=\"1\" class=\"dataframe\">\n",
       "  <thead>\n",
       "    <tr style=\"text-align: right;\">\n",
       "      <th></th>\n",
       "      <th>bathroomcnt</th>\n",
       "      <th>bedroomcnt</th>\n",
       "      <th>calculatedfinishedsquarefeet</th>\n",
       "      <th>taxvaluedollarcnt</th>\n",
       "      <th>yearbuilt</th>\n",
       "      <th>fips</th>\n",
       "      <th>transactiondate</th>\n",
       "      <th>County</th>\n",
       "    </tr>\n",
       "  </thead>\n",
       "  <tbody>\n",
       "    <tr>\n",
       "      <th>0</th>\n",
       "      <td>2.0</td>\n",
       "      <td>3</td>\n",
       "      <td>1048</td>\n",
       "      <td>380118</td>\n",
       "      <td>1952</td>\n",
       "      <td>6037</td>\n",
       "      <td>2017-01-13</td>\n",
       "      <td>Los Angeles County</td>\n",
       "    </tr>\n",
       "    <tr>\n",
       "      <th>1</th>\n",
       "      <td>2.0</td>\n",
       "      <td>3</td>\n",
       "      <td>1324</td>\n",
       "      <td>518089</td>\n",
       "      <td>1963</td>\n",
       "      <td>6037</td>\n",
       "      <td>2017-01-13</td>\n",
       "      <td>Los Angeles County</td>\n",
       "    </tr>\n",
       "    <tr>\n",
       "      <th>3</th>\n",
       "      <td>3.0</td>\n",
       "      <td>4</td>\n",
       "      <td>2519</td>\n",
       "      <td>106406</td>\n",
       "      <td>1965</td>\n",
       "      <td>6037</td>\n",
       "      <td>2017-01-13</td>\n",
       "      <td>Los Angeles County</td>\n",
       "    </tr>\n",
       "    <tr>\n",
       "      <th>4</th>\n",
       "      <td>2.0</td>\n",
       "      <td>3</td>\n",
       "      <td>1285</td>\n",
       "      <td>369853</td>\n",
       "      <td>1955</td>\n",
       "      <td>6037</td>\n",
       "      <td>2017-01-13</td>\n",
       "      <td>Los Angeles County</td>\n",
       "    </tr>\n",
       "    <tr>\n",
       "      <th>5</th>\n",
       "      <td>1.0</td>\n",
       "      <td>3</td>\n",
       "      <td>1254</td>\n",
       "      <td>65848</td>\n",
       "      <td>1954</td>\n",
       "      <td>6037</td>\n",
       "      <td>2017-01-13</td>\n",
       "      <td>Los Angeles County</td>\n",
       "    </tr>\n",
       "  </tbody>\n",
       "</table>\n",
       "</div>"
      ],
      "text/plain": [
       "   bathroomcnt  bedroomcnt  calculatedfinishedsquarefeet  taxvaluedollarcnt  \\\n",
       "0          2.0           3                          1048             380118   \n",
       "1          2.0           3                          1324             518089   \n",
       "3          3.0           4                          2519             106406   \n",
       "4          2.0           3                          1285             369853   \n",
       "5          1.0           3                          1254              65848   \n",
       "\n",
       "   yearbuilt  fips transactiondate              County  \n",
       "0       1952  6037      2017-01-13  Los Angeles County  \n",
       "1       1963  6037      2017-01-13  Los Angeles County  \n",
       "3       1965  6037      2017-01-13  Los Angeles County  \n",
       "4       1955  6037      2017-01-13  Los Angeles County  \n",
       "5       1954  6037      2017-01-13  Los Angeles County  "
      ]
     },
     "execution_count": 2,
     "metadata": {},
     "output_type": "execute_result"
    }
   ],
   "source": [
    "df = wrangle_zillow()\n",
    "\n",
    "df.head()"
   ]
  },
  {
   "cell_type": "code",
   "execution_count": 3,
   "id": "e9f00114",
   "metadata": {},
   "outputs": [
    {
     "data": {
      "text/plain": [
       "((27773, 8), (11903, 8), (9920, 8))"
      ]
     },
     "execution_count": 3,
     "metadata": {},
     "output_type": "execute_result"
    }
   ],
   "source": [
    "train, validate, test = train_validate_test_split(df)\n",
    "\n",
    "train.shape, validate.shape, test.shape"
   ]
  },
  {
   "cell_type": "code",
   "execution_count": 4,
   "id": "8b618e96",
   "metadata": {},
   "outputs": [
    {
     "data": {
      "text/html": [
       "<div>\n",
       "<style scoped>\n",
       "    .dataframe tbody tr th:only-of-type {\n",
       "        vertical-align: middle;\n",
       "    }\n",
       "\n",
       "    .dataframe tbody tr th {\n",
       "        vertical-align: top;\n",
       "    }\n",
       "\n",
       "    .dataframe thead th {\n",
       "        text-align: right;\n",
       "    }\n",
       "</style>\n",
       "<table border=\"1\" class=\"dataframe\">\n",
       "  <thead>\n",
       "    <tr style=\"text-align: right;\">\n",
       "      <th></th>\n",
       "      <th>bathroomcnt</th>\n",
       "      <th>bedroomcnt</th>\n",
       "      <th>calculatedfinishedsquarefeet</th>\n",
       "      <th>taxvaluedollarcnt</th>\n",
       "      <th>yearbuilt</th>\n",
       "      <th>fips</th>\n",
       "      <th>transactiondate</th>\n",
       "      <th>County</th>\n",
       "    </tr>\n",
       "  </thead>\n",
       "  <tbody>\n",
       "    <tr>\n",
       "      <th>51278</th>\n",
       "      <td>1.0</td>\n",
       "      <td>3</td>\n",
       "      <td>944</td>\n",
       "      <td>119668</td>\n",
       "      <td>1960</td>\n",
       "      <td>6111</td>\n",
       "      <td>2017-08-31</td>\n",
       "      <td>Ventura County</td>\n",
       "    </tr>\n",
       "    <tr>\n",
       "      <th>30633</th>\n",
       "      <td>2.0</td>\n",
       "      <td>4</td>\n",
       "      <td>2395</td>\n",
       "      <td>919553</td>\n",
       "      <td>1922</td>\n",
       "      <td>6037</td>\n",
       "      <td>2017-06-13</td>\n",
       "      <td>Los Angeles County</td>\n",
       "    </tr>\n",
       "    <tr>\n",
       "      <th>1069</th>\n",
       "      <td>2.5</td>\n",
       "      <td>3</td>\n",
       "      <td>1438</td>\n",
       "      <td>390871</td>\n",
       "      <td>1964</td>\n",
       "      <td>6059</td>\n",
       "      <td>2017-01-06</td>\n",
       "      <td>Orange County</td>\n",
       "    </tr>\n",
       "    <tr>\n",
       "      <th>5125</th>\n",
       "      <td>1.0</td>\n",
       "      <td>3</td>\n",
       "      <td>1142</td>\n",
       "      <td>58361</td>\n",
       "      <td>1947</td>\n",
       "      <td>6037</td>\n",
       "      <td>2017-02-15</td>\n",
       "      <td>Los Angeles County</td>\n",
       "    </tr>\n",
       "    <tr>\n",
       "      <th>15166</th>\n",
       "      <td>2.0</td>\n",
       "      <td>3</td>\n",
       "      <td>1279</td>\n",
       "      <td>396326</td>\n",
       "      <td>1956</td>\n",
       "      <td>6037</td>\n",
       "      <td>2017-03-24</td>\n",
       "      <td>Los Angeles County</td>\n",
       "    </tr>\n",
       "  </tbody>\n",
       "</table>\n",
       "</div>"
      ],
      "text/plain": [
       "       bathroomcnt  bedroomcnt  calculatedfinishedsquarefeet  \\\n",
       "51278          1.0           3                           944   \n",
       "30633          2.0           4                          2395   \n",
       "1069           2.5           3                          1438   \n",
       "5125           1.0           3                          1142   \n",
       "15166          2.0           3                          1279   \n",
       "\n",
       "       taxvaluedollarcnt  yearbuilt  fips transactiondate              County  \n",
       "51278             119668       1960  6111      2017-08-31      Ventura County  \n",
       "30633             919553       1922  6037      2017-06-13  Los Angeles County  \n",
       "1069              390871       1964  6059      2017-01-06       Orange County  \n",
       "5125               58361       1947  6037      2017-02-15  Los Angeles County  \n",
       "15166             396326       1956  6037      2017-03-24  Los Angeles County  "
      ]
     },
     "execution_count": 4,
     "metadata": {},
     "output_type": "execute_result"
    }
   ],
   "source": [
    "train.head()"
   ]
  },
  {
   "cell_type": "code",
   "execution_count": 5,
   "id": "d4d08093",
   "metadata": {},
   "outputs": [
    {
     "data": {
      "text/html": [
       "<div>\n",
       "<style scoped>\n",
       "    .dataframe tbody tr th:only-of-type {\n",
       "        vertical-align: middle;\n",
       "    }\n",
       "\n",
       "    .dataframe tbody tr th {\n",
       "        vertical-align: top;\n",
       "    }\n",
       "\n",
       "    .dataframe thead th {\n",
       "        text-align: right;\n",
       "    }\n",
       "</style>\n",
       "<table border=\"1\" class=\"dataframe\">\n",
       "  <thead>\n",
       "    <tr style=\"text-align: right;\">\n",
       "      <th></th>\n",
       "      <th>bathroomcnt</th>\n",
       "      <th>bedroomcnt</th>\n",
       "      <th>calculatedfinishedsquarefeet</th>\n",
       "    </tr>\n",
       "  </thead>\n",
       "  <tbody>\n",
       "    <tr>\n",
       "      <th>51278</th>\n",
       "      <td>1.0</td>\n",
       "      <td>3</td>\n",
       "      <td>944</td>\n",
       "    </tr>\n",
       "    <tr>\n",
       "      <th>30633</th>\n",
       "      <td>2.0</td>\n",
       "      <td>4</td>\n",
       "      <td>2395</td>\n",
       "    </tr>\n",
       "    <tr>\n",
       "      <th>1069</th>\n",
       "      <td>2.5</td>\n",
       "      <td>3</td>\n",
       "      <td>1438</td>\n",
       "    </tr>\n",
       "    <tr>\n",
       "      <th>5125</th>\n",
       "      <td>1.0</td>\n",
       "      <td>3</td>\n",
       "      <td>1142</td>\n",
       "    </tr>\n",
       "    <tr>\n",
       "      <th>15166</th>\n",
       "      <td>2.0</td>\n",
       "      <td>3</td>\n",
       "      <td>1279</td>\n",
       "    </tr>\n",
       "  </tbody>\n",
       "</table>\n",
       "</div>"
      ],
      "text/plain": [
       "       bathroomcnt  bedroomcnt  calculatedfinishedsquarefeet\n",
       "51278          1.0           3                           944\n",
       "30633          2.0           4                          2395\n",
       "1069           2.5           3                          1438\n",
       "5125           1.0           3                          1142\n",
       "15166          2.0           3                          1279"
      ]
     },
     "execution_count": 5,
     "metadata": {},
     "output_type": "execute_result"
    }
   ],
   "source": [
    "X_train = train.drop(columns=['yearbuilt', 'fips', 'transactiondate','County', 'taxvaluedollarcnt'])\n",
    "X_train.head()"
   ]
  },
  {
   "cell_type": "code",
   "execution_count": 6,
   "id": "28c74888",
   "metadata": {},
   "outputs": [],
   "source": [
    "#im going to try and scale the data \n",
    "import sklearn.preprocessing"
   ]
  },
  {
   "cell_type": "code",
   "execution_count": 7,
   "id": "ef0b93b6",
   "metadata": {},
   "outputs": [],
   "source": [
    "#Assign the scaler to a variable, and fit/transform the training data\n",
    "mms = sklearn.preprocessing.MinMaxScaler()\n",
    "\n",
    "mms.fit(X_train)\n",
    "\n",
    "train_mms = mms.transform(X_train)"
   ]
  },
  {
   "cell_type": "code",
   "execution_count": 8,
   "id": "b39b3baa",
   "metadata": {},
   "outputs": [
    {
     "data": {
      "text/html": [
       "<div>\n",
       "<style scoped>\n",
       "    .dataframe tbody tr th:only-of-type {\n",
       "        vertical-align: middle;\n",
       "    }\n",
       "\n",
       "    .dataframe tbody tr th {\n",
       "        vertical-align: top;\n",
       "    }\n",
       "\n",
       "    .dataframe thead th {\n",
       "        text-align: right;\n",
       "    }\n",
       "</style>\n",
       "<table border=\"1\" class=\"dataframe\">\n",
       "  <thead>\n",
       "    <tr style=\"text-align: right;\">\n",
       "      <th></th>\n",
       "      <th>bathroomcnt</th>\n",
       "      <th>bedroomcnt</th>\n",
       "      <th>calculatedfinishedsquarefeet</th>\n",
       "    </tr>\n",
       "  </thead>\n",
       "  <tbody>\n",
       "    <tr>\n",
       "      <th>0</th>\n",
       "      <td>0.0</td>\n",
       "      <td>0.4</td>\n",
       "      <td>0.108761</td>\n",
       "    </tr>\n",
       "    <tr>\n",
       "      <th>1</th>\n",
       "      <td>0.2</td>\n",
       "      <td>0.6</td>\n",
       "      <td>0.308020</td>\n",
       "    </tr>\n",
       "    <tr>\n",
       "      <th>2</th>\n",
       "      <td>0.3</td>\n",
       "      <td>0.4</td>\n",
       "      <td>0.176600</td>\n",
       "    </tr>\n",
       "    <tr>\n",
       "      <th>3</th>\n",
       "      <td>0.0</td>\n",
       "      <td>0.4</td>\n",
       "      <td>0.135952</td>\n",
       "    </tr>\n",
       "    <tr>\n",
       "      <th>4</th>\n",
       "      <td>0.2</td>\n",
       "      <td>0.4</td>\n",
       "      <td>0.154765</td>\n",
       "    </tr>\n",
       "  </tbody>\n",
       "</table>\n",
       "</div>"
      ],
      "text/plain": [
       "   bathroomcnt  bedroomcnt  calculatedfinishedsquarefeet\n",
       "0          0.0         0.4                      0.108761\n",
       "1          0.2         0.6                      0.308020\n",
       "2          0.3         0.4                      0.176600\n",
       "3          0.0         0.4                      0.135952\n",
       "4          0.2         0.4                      0.154765"
      ]
     },
     "execution_count": 8,
     "metadata": {},
     "output_type": "execute_result"
    }
   ],
   "source": [
    "#Is there a mistake here?\n",
    "pd.DataFrame(train_mms, columns=list(X_train.columns)).head()"
   ]
  },
  {
   "cell_type": "code",
   "execution_count": 9,
   "id": "c282735a",
   "metadata": {},
   "outputs": [
    {
     "data": {
      "text/plain": [
       "Text(0.5, 1.0, 'Scaled')"
      ]
     },
     "execution_count": 9,
     "metadata": {},
     "output_type": "execute_result"
    },
    {
     "data": {
      "image/png": "[encoded data removed]",
      "text/plain": [
       "<Figure size 936x432 with 2 Axes>"
      ]
     },
     "metadata": {
      "needs_background": "light"
     },
     "output_type": "display_data"
    }
   ],
   "source": [
    "plt.figure(figsize=(13, 6))\n",
    "plt.subplot(121)\n",
    "plt.hist(train['calculatedfinishedsquarefeet'], bins=25, ec='black')\n",
    "plt.title('Original')\n",
    "plt.subplot(122)\n",
    "plt.hist(train_mms[:,2], bins=25, ec='black')\n",
    "plt.title('Scaled')"
   ]
  },
  {
   "cell_type": "code",
   "execution_count": null,
   "id": "a990be00",
   "metadata": {},
   "outputs": [],
   "source": [
    "ss = sklearn.preprocessing.StandardScaler()\n",
    "\n",
    "ss.fit(X_train)\n",
    "\n",
    "train_ss = ss.transform(X_train)"
   ]
  },
  {
   "cell_type": "code",
   "execution_count": null,
   "id": "bc49b7c5",
   "metadata": {},
   "outputs": [],
   "source": [
    "pd.DataFrame(train_ss, columns=list(X_train.columns)).head()"
   ]
  },
  {
   "cell_type": "code",
   "execution_count": null,
   "id": "17178b01",
   "metadata": {},
   "outputs": [],
   "source": [
    "#Visualize the difference\n",
    "plt.figure(figsize=(13, 6))\n",
    "plt.subplot(121)\n",
    "plt.hist(train['calculatedfinishedsquarefeet'], bins=25, ec='black')\n",
    "plt.title('Original')\n",
    "plt.subplot(122)\n",
    "plt.hist(train_ss[:,2], bins=25, ec='black')\n",
    "plt.title('Scaled')"
   ]
  },
  {
   "cell_type": "code",
   "execution_count": null,
   "id": "823e169f",
   "metadata": {},
   "outputs": [],
   "source": [
    "rs = sklearn.preprocessing.RobustScaler()\n",
    "\n",
    "rs.fit(X_train)\n",
    "\n",
    "train_rs = rs.transform(X_train)"
   ]
  },
  {
   "cell_type": "code",
   "execution_count": null,
   "id": "f59abed4",
   "metadata": {},
   "outputs": [],
   "source": [
    "pd.DataFrame(train_rs, columns=list(X_train.columns)).head()"
   ]
  },
  {
   "cell_type": "code",
   "execution_count": null,
   "id": "aa5682ae",
   "metadata": {},
   "outputs": [],
   "source": [
    "#Visualize the data before and after robust scaling\n",
    "plt.figure(figsize=(13, 6))\n",
    "plt.subplot(121)\n",
    "plt.hist(train['bathroomcnt'], bins=25, ec='black')\n",
    "plt.title('Original')\n",
    "plt.subplot(122)\n",
    "plt.hist(train_rs[:,1], bins=25, ec='black')\n",
    "plt.title('Scaled')"
   ]
  },
  {
   "cell_type": "code",
   "execution_count": null,
   "id": "60d31e78",
   "metadata": {},
   "outputs": [],
   "source": [
    "mms.inverse_transform(train_mms)"
   ]
  },
  {
   "cell_type": "code",
   "execution_count": null,
   "id": "c54269f8",
   "metadata": {},
   "outputs": [],
   "source": [
    "pd.DataFrame(mms.inverse_transform(train_mms))"
   ]
  },
  {
   "cell_type": "code",
   "execution_count": null,
   "id": "ac2ea054",
   "metadata": {},
   "outputs": [],
   "source": [
    "train.head()"
   ]
  },
  {
   "cell_type": "code",
   "execution_count": null,
   "id": "d08a7431",
   "metadata": {},
   "outputs": [],
   "source": [
    "X_train.head()"
   ]
  },
  {
   "cell_type": "code",
   "execution_count": 12,
   "id": "eb98c34f",
   "metadata": {},
   "outputs": [],
   "source": [
    "from sklearn.preprocessing import MinMaxScaler\n",
    "\n",
    "#Define function to scale all data based on the train subset\n",
    "def scale_data(train, validate, test):\n",
    "    \n",
    "    scale_columns = ['bedroomcnt', 'bathroomcnt', 'calculatedfinishedsquarefeet']\n",
    "    \n",
    "    train_scaled = train.copy()\n",
    "    validate_scaled = validate.copy()\n",
    "    test_scaled = test.copy()\n",
    "    \n",
    "    mms = MinMaxScaler()\n",
    "    \n",
    "    mms.fit(train[scale_columns])\n",
    "    \n",
    "    train_scaled[scale_columns] = mms.transform(train[scale_columns])\n",
    "    validate_scaled[scale_columns] = mms.transform(validate[scale_columns])\n",
    "    test_scaled[scale_columns] = mms.transform(test[scale_columns])\n",
    "    \n",
    "    return train_scaled, validate_scaled, test_scaled"
   ]
  },
  {
   "cell_type": "code",
   "execution_count": 13,
   "id": "756bb58d",
   "metadata": {},
   "outputs": [],
   "source": [
    "train_s, valid_s, test_s = scale_data(train, validate, test)"
   ]
  },
  {
   "cell_type": "code",
   "execution_count": 14,
   "id": "5da50163",
   "metadata": {},
   "outputs": [
    {
     "data": {
      "text/html": [
       "<div>\n",
       "<style scoped>\n",
       "    .dataframe tbody tr th:only-of-type {\n",
       "        vertical-align: middle;\n",
       "    }\n",
       "\n",
       "    .dataframe tbody tr th {\n",
       "        vertical-align: top;\n",
       "    }\n",
       "\n",
       "    .dataframe thead th {\n",
       "        text-align: right;\n",
       "    }\n",
       "</style>\n",
       "<table border=\"1\" class=\"dataframe\">\n",
       "  <thead>\n",
       "    <tr style=\"text-align: right;\">\n",
       "      <th></th>\n",
       "      <th>bathroomcnt</th>\n",
       "      <th>bedroomcnt</th>\n",
       "      <th>calculatedfinishedsquarefeet</th>\n",
       "      <th>taxvaluedollarcnt</th>\n",
       "      <th>yearbuilt</th>\n",
       "      <th>fips</th>\n",
       "      <th>transactiondate</th>\n",
       "      <th>County</th>\n",
       "    </tr>\n",
       "  </thead>\n",
       "  <tbody>\n",
       "    <tr>\n",
       "      <th>51278</th>\n",
       "      <td>0.0</td>\n",
       "      <td>0.4</td>\n",
       "      <td>0.108761</td>\n",
       "      <td>119668</td>\n",
       "      <td>1960</td>\n",
       "      <td>6111</td>\n",
       "      <td>2017-08-31</td>\n",
       "      <td>Ventura County</td>\n",
       "    </tr>\n",
       "    <tr>\n",
       "      <th>30633</th>\n",
       "      <td>0.2</td>\n",
       "      <td>0.6</td>\n",
       "      <td>0.308020</td>\n",
       "      <td>919553</td>\n",
       "      <td>1922</td>\n",
       "      <td>6037</td>\n",
       "      <td>2017-06-13</td>\n",
       "      <td>Los Angeles County</td>\n",
       "    </tr>\n",
       "    <tr>\n",
       "      <th>1069</th>\n",
       "      <td>0.3</td>\n",
       "      <td>0.4</td>\n",
       "      <td>0.176600</td>\n",
       "      <td>390871</td>\n",
       "      <td>1964</td>\n",
       "      <td>6059</td>\n",
       "      <td>2017-01-06</td>\n",
       "      <td>Orange County</td>\n",
       "    </tr>\n",
       "    <tr>\n",
       "      <th>5125</th>\n",
       "      <td>0.0</td>\n",
       "      <td>0.4</td>\n",
       "      <td>0.135952</td>\n",
       "      <td>58361</td>\n",
       "      <td>1947</td>\n",
       "      <td>6037</td>\n",
       "      <td>2017-02-15</td>\n",
       "      <td>Los Angeles County</td>\n",
       "    </tr>\n",
       "    <tr>\n",
       "      <th>15166</th>\n",
       "      <td>0.2</td>\n",
       "      <td>0.4</td>\n",
       "      <td>0.154765</td>\n",
       "      <td>396326</td>\n",
       "      <td>1956</td>\n",
       "      <td>6037</td>\n",
       "      <td>2017-03-24</td>\n",
       "      <td>Los Angeles County</td>\n",
       "    </tr>\n",
       "  </tbody>\n",
       "</table>\n",
       "</div>"
      ],
      "text/plain": [
       "       bathroomcnt  bedroomcnt  calculatedfinishedsquarefeet  \\\n",
       "51278          0.0         0.4                      0.108761   \n",
       "30633          0.2         0.6                      0.308020   \n",
       "1069           0.3         0.4                      0.176600   \n",
       "5125           0.0         0.4                      0.135952   \n",
       "15166          0.2         0.4                      0.154765   \n",
       "\n",
       "       taxvaluedollarcnt  yearbuilt  fips transactiondate              County  \n",
       "51278             119668       1960  6111      2017-08-31      Ventura County  \n",
       "30633             919553       1922  6037      2017-06-13  Los Angeles County  \n",
       "1069              390871       1964  6059      2017-01-06       Orange County  \n",
       "5125               58361       1947  6037      2017-02-15  Los Angeles County  \n",
       "15166             396326       1956  6037      2017-03-24  Los Angeles County  "
      ]
     },
     "execution_count": 14,
     "metadata": {},
     "output_type": "execute_result"
    }
   ],
   "source": [
    "train_s.head()"
   ]
  },
  {
   "cell_type": "markdown",
   "id": "a72c0157",
   "metadata": {},
   "source": [
    "# Exploring the data "
   ]
  },
  {
   "cell_type": "markdown",
   "id": "a3a771e8",
   "metadata": {},
   "source": [
    "What are we looking for innitally ?\n",
    "\n",
    "We want to be able to predict the property tax assessed values `('taxvaluedollarcnt')` of Single Family Properties that had a transaction during 2017.\n",
    "\n",
    "We have a model already, but we are hoping your insights can help us improve it. I need recommendations on a way to make a better model. Maybe you will create a new feature out of existing ones that works better, try a non-linear regression algorithm, or try to create a different model for each county. Whatever you find that works (or doesn't work) will be useful. Given you have just joined our team, we are excited to see your outside perspective.\n",
    "\n",
    "One last thing, Zach lost the email that told us where these properties were located. Ugh, Zach :-/. Because property taxes are assessed at the county level, we would like to know what states and counties these are located in."
   ]
  },
  {
   "cell_type": "code",
   "execution_count": null,
   "id": "1448d007",
   "metadata": {
    "scrolled": true
   },
   "outputs": [],
   "source": [
    "train.info()"
   ]
  },
  {
   "cell_type": "code",
   "execution_count": null,
   "id": "5b6034a0",
   "metadata": {},
   "outputs": [],
   "source": [
    "fig, ax =plt.subplots(1,2, figsize=(12,6))\n",
    "sns.countplot(train['bathroomcnt'], ax=ax[0])\n",
    "sns.countplot(train['bedroomcnt'], ax=ax[1])\n",
    "fig.show()"
   ]
  },
  {
   "cell_type": "code",
   "execution_count": null,
   "id": "dd58b930",
   "metadata": {},
   "outputs": [],
   "source": [
    "sns.histplot(data=train, x= 'calculatedfinishedsquarefeet')"
   ]
  },
  {
   "cell_type": "code",
   "execution_count": null,
   "id": "e4ed0b0f",
   "metadata": {},
   "outputs": [],
   "source": [
    "sns.histplot(data=train, x= 'calculatedfinishedsquarefeet')"
   ]
  },
  {
   "cell_type": "code",
   "execution_count": null,
   "id": "748a8a8f",
   "metadata": {},
   "outputs": [],
   "source": [
    "sns.histplot(data=train, x= 'County')"
   ]
  },
  {
   "cell_type": "code",
   "execution_count": null,
   "id": "23a617f9",
   "metadata": {},
   "outputs": [],
   "source": [
    "train.describe().T"
   ]
  },
  {
   "cell_type": "code",
   "execution_count": null,
   "id": "bbb880a1",
   "metadata": {},
   "outputs": [],
   "source": [
    "train.corr()"
   ]
  },
  {
   "cell_type": "code",
   "execution_count": null,
   "id": "15bfe019",
   "metadata": {},
   "outputs": [],
   "source": [
    "sns.heatmap(train.corr(), cmap='mako', center=0, annot=True)\n",
    "plt.show()"
   ]
  },
  {
   "cell_type": "code",
   "execution_count": null,
   "id": "d8e6de04",
   "metadata": {},
   "outputs": [],
   "source": [
    "train.head()"
   ]
  },
  {
   "cell_type": "markdown",
   "id": "83bb31f2",
   "metadata": {},
   "source": [
    "Question 1- Is there a relationship with the number of bathrroms a property has and the property value ?\n",
    " - categorical & Quantative \n",
    " - T TEST OR ANOVA\n",
    "Question 2 - does a prperty with a certain number of bathrooms cause an increase in property value?\n",
    " - categorical & quant \n",
    " - CHI SQARED \n",
    "Question 3- does the number of square feet have a relationship with the county the property is in?\n",
    "- categorical and cont\n",
    "- t test or anova\n",
    "question 4- does the year the home was built have a relationship with area it is in ?\n",
    "- cont& categorical \n",
    "- t test or anova \n",
    "\n"
   ]
  },
  {
   "cell_type": "code",
   "execution_count": null,
   "id": "a8f82803",
   "metadata": {},
   "outputs": [],
   "source": []
  },
  {
   "cell_type": "markdown",
   "id": "197c12a5",
   "metadata": {},
   "source": [
    "##  Question 1- Is there a relationship with the number of bathrroms a property has and the county the property is in ?\n",
    " - categorical & Quantative \n",
    " - T TEST OR ANOVA"
   ]
  },
  {
   "cell_type": "code",
   "execution_count": null,
   "id": "54adef0f",
   "metadata": {
    "scrolled": true
   },
   "outputs": [],
   "source": [
    "\n",
    "sns.countplot(x= 'bathroomcnt', hue = \"County\", data=train)\n",
    "fig.show()"
   ]
  },
  {
   "cell_type": "code",
   "execution_count": null,
   "id": "ca81fd57",
   "metadata": {},
   "outputs": [],
   "source": [
    "from scipy import stats"
   ]
  },
  {
   "cell_type": "markdown",
   "id": "3bb43201",
   "metadata": {},
   "source": [
    "$H_o$ : bathroom coutn and county are independant \n",
    "\n",
    "$H_a$ : There is a relationship between bathroom count and County "
   ]
  },
  {
   "cell_type": "code",
   "execution_count": null,
   "id": "36a29b91",
   "metadata": {},
   "outputs": [],
   "source": [
    "# Let's run a chi squared to compare proportions, to have more confidence\n",
    "alpha = 0.05\n",
    "# Setup a crosstab of observed churn and payment_type \n",
    "#This is the best statistical test becasue we are looking at two categorical variables \n",
    "observed = pd.crosstab(train.bathroomcnt, train.County)\n",
    "\n",
    "chi2, p, degf, expected = stats.chi2_contingency(observed)\n",
    "\n",
    "if p < alpha:\n",
    "    print(\"Reject the null hypothesis\")\n",
    "else:\n",
    "    print(\"Fail to reject the null\")"
   ]
  },
  {
   "cell_type": "code",
   "execution_count": null,
   "id": "220724f9",
   "metadata": {},
   "outputs": [],
   "source": [
    "Main takeaways- There is a realtionship between the number of bathrooms and the area it is in\n",
    "looks like many of the 2 bathrooms properties are located in LA county and for the one bathrrom is also mostly located in LA county as well.\n",
    "\n",
    "Taking an even closer look the majority of all countly propertys seem to have 2 bathrooms."
   ]
  },
  {
   "cell_type": "markdown",
   "id": "923fa747",
   "metadata": {},
   "source": [
    "## Question 2- does a prperty with a certain number of bedrroms cause an increase in property value?\n"
   ]
  },
  {
   "cell_type": "markdown",
   "id": "a23a1f63",
   "metadata": {},
   "source": [
    "$H_o$- There is no linear correlation between bedroom count and property value \n",
    "\n",
    "$H_a$ - there is a linear realtionship between bedrrom and property value "
   ]
  },
  {
   "cell_type": "code",
   "execution_count": null,
   "id": "29254789",
   "metadata": {
    "scrolled": false
   },
   "outputs": [],
   "source": [
    " sns.barplot(x= 'bedroomcnt', y='taxvaluedollarcnt', data=train, palette=\"rocket\")"
   ]
  },
  {
   "cell_type": "code",
   "execution_count": null,
   "id": "4636b3d7",
   "metadata": {},
   "outputs": [],
   "source": [
    "corr, p = stats.pearsonr(train.bedroomcnt, train.taxvaluedollarcnt)\n",
    "\n",
    "if p < alpha:\n",
    "    print(\"We reject the null hypothesis\")\n",
    "else:\n",
    "    print(\"We fail to reject the null hypothesis\")\n",
    "    \n"
   ]
  },
  {
   "cell_type": "code",
   "execution_count": null,
   "id": "543438d5",
   "metadata": {},
   "outputs": [],
   "source": []
  },
  {
   "cell_type": "markdown",
   "id": "1f574880",
   "metadata": {},
   "source": [
    " ## Question 3 - which county has the largest number of bedrooms ?"
   ]
  },
  {
   "cell_type": "code",
   "execution_count": null,
   "id": "dac0dff7",
   "metadata": {
    "scrolled": false
   },
   "outputs": [],
   "source": [
    " sns.countplot(x= 'bedroomcnt', hue = \"County\", data=train)"
   ]
  },
  {
   "cell_type": "code",
   "execution_count": null,
   "id": "bba24ba6",
   "metadata": {},
   "outputs": [],
   "source": [
    "$H_o$ : bedroom coutn and county are independant \n",
    "\n",
    "$H_a$ : There is a relationship between bathroom count and County "
   ]
  },
  {
   "cell_type": "code",
   "execution_count": null,
   "id": "087b7aed",
   "metadata": {
    "scrolled": true
   },
   "outputs": [],
   "source": [
    "# Let's run a chi squared to compare proportions, to have more confidence\n",
    "alpha = 0.05\n",
    "# Setup a crosstab of observed churn and payment_type \n",
    "#This is the best statistical test becasue we are looking at two categorical variables \n",
    "observed = pd.crosstab(train.bedroomcnt, train.County)\n",
    "\n",
    "chi2, p, degf, expected = stats.chi2_contingency(observed)\n",
    "\n",
    "if p < alpha:\n",
    "    print(\"Reject the null hypothesis\")\n",
    "else:\n",
    "    print(\"Fail to reject the null\")"
   ]
  },
  {
   "cell_type": "code",
   "execution_count": null,
   "id": "2e2683d3",
   "metadata": {},
   "outputs": [],
   "source": [
    "Main takeaways from question 3 and 4- "
   ]
  },
  {
   "cell_type": "code",
   "execution_count": null,
   "id": "0b177ed1",
   "metadata": {},
   "outputs": [],
   "source": []
  },
  {
   "cell_type": "markdown",
   "id": "0b33a20d",
   "metadata": {},
   "source": [
    "## Question 4- does the number of square feet have a relationship with the county the property is in?\n",
    "- categorical and cont\n",
    "- t test or anova"
   ]
  },
  {
   "cell_type": "code",
   "execution_count": null,
   "id": "7935c220",
   "metadata": {
    "scrolled": true
   },
   "outputs": [],
   "source": [
    " sns.barplot(y= 'calculatedfinishedsquarefeet', x='County', data=train)"
   ]
  },
  {
   "cell_type": "code",
   "execution_count": null,
   "id": "9f0fa78e",
   "metadata": {
    "scrolled": true
   },
   "outputs": [],
   "source": [
    " sns.violinplot(y= 'calculatedfinishedsquarefeet', x='County', data=train)"
   ]
  },
  {
   "cell_type": "code",
   "execution_count": null,
   "id": "2efa12ef",
   "metadata": {},
   "outputs": [],
   "source": [
    " sns.swarmplot(y= 'calculatedfinishedsquarefeet', x='County', data=train)"
   ]
  },
  {
   "cell_type": "code",
   "execution_count": null,
   "id": "c809a1c7",
   "metadata": {},
   "outputs": [],
   "source": [
    " sns.lmplot(y= 'taxvaluedollarcnt',x = 'calculatedfinishedsquarefeet', hue='County', data=train.sample(1000))"
   ]
  },
  {
   "cell_type": "code",
   "execution_count": null,
   "id": "c7e18742",
   "metadata": {},
   "outputs": [],
   "source": [
    "def plot_variable_pairs():\n",
    "    columns = ['calculatedfinishedsquarefeet']\n",
    "    for col in columns:\n",
    "        sns.lmplot(x= col, y=\"taxvaluedollarcnt\", data=train.sample(3500), col = 'County', hue = 'County', line_kws={'color': 'gray'})\n",
    "        \n",
    "plot_variable_pairs()"
   ]
  },
  {
   "cell_type": "code",
   "execution_count": null,
   "id": "23b0b612",
   "metadata": {},
   "outputs": [],
   "source": [
    "Lest recap!\n",
    "\n",
    "What we saw "
   ]
  },
  {
   "cell_type": "code",
   "execution_count": null,
   "id": "2c36ee15",
   "metadata": {},
   "outputs": [],
   "source": []
  },
  {
   "cell_type": "code",
   "execution_count": null,
   "id": "da3b3a89",
   "metadata": {},
   "outputs": [],
   "source": [
    "train.info()"
   ]
  },
  {
   "cell_type": "markdown",
   "id": "2f19c600",
   "metadata": {},
   "source": [
    "### Feaure Engeneering"
   ]
  },
  {
   "cell_type": "code",
   "execution_count": 17,
   "id": "4dab60e0",
   "metadata": {},
   "outputs": [],
   "source": [
    "from sklearn.feature_selection import SelectKBest, RFE, f_regression, SequentialFeatureSelector"
   ]
  },
  {
   "cell_type": "code",
   "execution_count": null,
   "id": "3bf3b278",
   "metadata": {},
   "outputs": [],
   "source": [
    "X_train = train_s[['bathroomcnt', 'bedroomcnt', 'calculatedfinishedsquarefeet', 'fips']]\n",
    "y_train = train_s.taxvaluedollarcnt\n",
    "X_validate = valid_s[['bathroomcnt', 'bedroomcnt', 'calculatedfinishedsquarefeet', 'fips']]\n",
    "y_validate = valid_s.taxvaluedollarcnt\n",
    "X_test = test_s[['bathroomcnt', 'bedroomcnt', 'calculatedfinishedsquarefeet', 'fips']]\n",
    "y_test = test_s.taxvaluedollarcnt"
   ]
  },
  {
   "cell_type": "code",
   "execution_count": null,
   "id": "f470947f",
   "metadata": {},
   "outputs": [],
   "source": [
    "# Like our other sklearn objects...\n",
    "kbest = SelectKBest(f_regression, k=2)\n",
    "kbest.fit(X_train, y_train)"
   ]
  },
  {
   "cell_type": "code",
   "execution_count": null,
   "id": "da08f242",
   "metadata": {},
   "outputs": [],
   "source": [
    "kbest_results = pd.DataFrame(dict(p=kbest.pvalues_, f=kbest.scores_), index=X_train.columns)\n",
    "kbest_results"
   ]
  },
  {
   "cell_type": "code",
   "execution_count": null,
   "id": "fb72f625",
   "metadata": {},
   "outputs": [],
   "source": [
    "X_train.columns[kbest.get_support()]"
   ]
  },
  {
   "cell_type": "code",
   "execution_count": null,
   "id": "ebaf973d",
   "metadata": {},
   "outputs": [],
   "source": [
    "X_train_transformed = pd.DataFrame(\n",
    "    kbest.transform(X_train),\n",
    "    index=X_train.index,\n",
    "    columns=X_train.columns[kbest.get_support()]\n",
    ")\n",
    "X_train_transformed.head()"
   ]
  },
  {
   "cell_type": "code",
   "execution_count": 18,
   "id": "dc6fa049",
   "metadata": {},
   "outputs": [],
   "source": [
    "from sklearn.linear_model import LinearRegression"
   ]
  },
  {
   "cell_type": "code",
   "execution_count": null,
   "id": "75af3d06",
   "metadata": {},
   "outputs": [],
   "source": [
    "model = LinearRegression()\n",
    "rfe = RFE(model, n_features_to_select=2)\n",
    "rfe.fit(X_train, y_train)"
   ]
  },
  {
   "cell_type": "code",
   "execution_count": null,
   "id": "99419326",
   "metadata": {},
   "outputs": [],
   "source": [
    "pd.DataFrame({'rfe_ranking': rfe.ranking_}, index=X_train.columns)"
   ]
  },
  {
   "cell_type": "code",
   "execution_count": null,
   "id": "8b515afa",
   "metadata": {},
   "outputs": [],
   "source": [
    "X_train.columns[rfe.get_support()]"
   ]
  },
  {
   "cell_type": "code",
   "execution_count": null,
   "id": "9e5d8c86",
   "metadata": {},
   "outputs": [],
   "source": [
    "X_train_transformed = pd.DataFrame(\n",
    "    rfe.transform(X_train),\n",
    "    index=X_train.index,\n",
    "    columns=X_train.columns[rfe.support_]\n",
    ")\n",
    "X_train_transformed.head()"
   ]
  },
  {
   "cell_type": "code",
   "execution_count": null,
   "id": "2fbc0898",
   "metadata": {},
   "outputs": [],
   "source": [
    "model = LinearRegression()\n",
    "sfs = SequentialFeatureSelector(model, n_features_to_select=2, scoring='neg_mean_absolute_error', direction='backward')\n",
    "sfs.fit(X_train, y_train)"
   ]
  },
  {
   "cell_type": "code",
   "execution_count": null,
   "id": "d5619b0a",
   "metadata": {},
   "outputs": [],
   "source": [
    "X_train_transformed = pd.DataFrame(\n",
    "    sfs.transform(X_train),\n",
    "    index=X_train.index,\n",
    "    columns=X_train.columns[sfs.support_]\n",
    ")\n",
    "X_train_transformed.head()"
   ]
  },
  {
   "cell_type": "code",
   "execution_count": null,
   "id": "50a00591",
   "metadata": {},
   "outputs": [],
   "source": []
  },
  {
   "cell_type": "code",
   "execution_count": null,
   "id": "88db3c07",
   "metadata": {},
   "outputs": [],
   "source": []
  },
  {
   "cell_type": "markdown",
   "id": "e815a622",
   "metadata": {},
   "source": [
    "## Modeling "
   ]
  },
  {
   "cell_type": "markdown",
   "id": "30a2a369",
   "metadata": {},
   "source": [
    "estabishing a baseline "
   ]
  },
  {
   "cell_type": "code",
   "execution_count": 15,
   "id": "05ff4641",
   "metadata": {},
   "outputs": [],
   "source": [
    "X_train = train_s[['bathroomcnt', 'bedroomcnt', 'calculatedfinishedsquarefeet']]\n",
    "y_train = train[['taxvaluedollarcnt']]\n",
    "X_validate = valid_s[['bathroomcnt', 'bedroomcnt', 'calculatedfinishedsquarefeet']]\n",
    "y_validate = validate[['taxvaluedollarcnt']]\n",
    "X_test = test_s[['bathroomcnt', 'bedroomcnt', 'calculatedfinishedsquarefeet']]\n",
    "y_test = test[['taxvaluedollarcnt']]"
   ]
  },
  {
   "cell_type": "code",
   "execution_count": 22,
   "id": "bf35a31b",
   "metadata": {},
   "outputs": [],
   "source": [
    "from math import sqrt\n",
    "from sklearn.metrics import mean_squared_error"
   ]
  },
  {
   "cell_type": "code",
   "execution_count": null,
   "id": "471571f3",
   "metadata": {},
   "outputs": [],
   "source": [
    "#making a baseline\n",
    "bbb"
   ]
  },
  {
   "cell_type": "code",
   "execution_count": 23,
   "id": "f895247b",
   "metadata": {
    "scrolled": true
   },
   "outputs": [
    {
     "name": "stdout",
     "output_type": "stream",
     "text": [
      "Train baseline RMSE: 298182.01227437635.\n",
      "Validation baseline RMSE: 302522.8095888484.\n"
     ]
    }
   ],
   "source": [
    "baseline = train.taxvaluedollarcnt.mean()\n",
    "\n",
    "train['baseline'] = baseline\n",
    "validate['baseline'] = baseline\n",
    "\n",
    "train_rmse = sqrt(mean_squared_error(train.taxvaluedollarcnt, train.baseline))\n",
    "valid_rmse = sqrt(mean_squared_error(validate.taxvaluedollarcnt, validate.baseline))\n",
    "\n",
    "print('Train baseline RMSE: {}.'.format(train_rmse))\n",
    "print('Validation baseline RMSE: {}.'.format(valid_rmse))"
   ]
  },
  {
   "cell_type": "code",
   "execution_count": 25,
   "id": "586b1346",
   "metadata": {},
   "outputs": [
    {
     "name": "stdout",
     "output_type": "stream",
     "text": [
      "RMSE for OLS using LinearRegression\n",
      "Training/In-Sample:  248133.54286406754 \n",
      "Validation/Out-of-Sample:  250036.29170658375\n"
     ]
    }
   ],
   "source": [
    "# create the model object\n",
    "lm = LinearRegression(normalize=True)\n",
    "\n",
    "# fit the model to our training data. We must specify the column in y_train, \n",
    "# since we have converted it to a dataframe from a series! \n",
    "lm.fit(X_train, y_train.taxvaluedollarcnt)\n",
    "\n",
    "# predict train\n",
    "y_train['tax_pred_lm'] = lm.predict(X_train)\n",
    "\n",
    "# evaluate: rmse\n",
    "rmse_train = mean_squared_error(y_train.taxvaluedollarcnt, y_train.tax_pred_lm)**(1/2)\n",
    "\n",
    "# predict validate\n",
    "y_validate['tax_pred_lm'] = lm.predict(X_validate)\n",
    "\n",
    "# evaluate: rmse\n",
    "rmse_validate = mean_squared_error(y_validate.taxvaluedollarcnt, y_validate.tax_pred_lm)**(1/2)\n",
    "\n",
    "print(\"RMSE for OLS using LinearRegression\\nTraining/In-Sample: \", rmse_train, \n",
    "      \"\\nValidation/Out-of-Sample: \", rmse_validate)\n"
   ]
  },
  {
   "cell_type": "code",
   "execution_count": 26,
   "id": "f083dfd2",
   "metadata": {},
   "outputs": [
    {
     "name": "stdout",
     "output_type": "stream",
     "text": [
      "RMSE for Lasso + Lars\n",
      "Training/In-Sample:  248133.88635020345 \n",
      "Validation/Out-of-Sample:  250035.59877500831\n"
     ]
    }
   ],
   "source": [
    "# create the model object\n",
    "lars = LassoLars(alpha=1.0)\n",
    "\n",
    "# fit the model to our training data. We must specify the column in y_train, \n",
    "# since we have converted it to a dataframe from a series! \n",
    "lars.fit(X_train, y_train.taxvaluedollarcnt)\n",
    "\n",
    "# predict train\n",
    "y_train['tax_pred_lars'] = lars.predict(X_train)\n",
    "\n",
    "# evaluate: rmse\n",
    "rmse_train = mean_squared_error(y_train.taxvaluedollarcnt, y_train.tax_pred_lars)**(1/2)\n",
    "\n",
    "# predict validate\n",
    "y_validate['tax_pred_lars'] = lars.predict(X_validate)\n",
    "\n",
    "# evaluate: rmse\n",
    "rmse_validate = mean_squared_error(y_validate.taxvaluedollarcnt, y_validate.tax_pred_lars)**(1/2)\n",
    "\n",
    "print(\"RMSE for Lasso + Lars\\nTraining/In-Sample: \", rmse_train, \n",
    "      \"\\nValidation/Out-of-Sample: \", rmse_validate)\n"
   ]
  },
  {
   "cell_type": "code",
   "execution_count": 27,
   "id": "5a8fa3e6",
   "metadata": {
    "scrolled": true
   },
   "outputs": [
    {
     "name": "stdout",
     "output_type": "stream",
     "text": [
      "RMSE for GLM using Tweedie, power=1 & alpha=0\n",
      "Training/In-Sample:  253936.96316438084 \n",
      "Validation/Out-of-Sample:  258211.50071280735\n"
     ]
    }
   ],
   "source": [
    "# create the model object\n",
    "glm = TweedieRegressor(power=1, alpha=0)\n",
    "\n",
    "# fit the model to our training data. We must specify the column in y_train, \n",
    "# since we have converted it to a dataframe from a series! \n",
    "glm.fit(X_train, y_train.taxvaluedollarcnt)\n",
    "\n",
    "# predict train\n",
    "y_train['tax_pred_glm'] = glm.predict(X_train)\n",
    "\n",
    "# evaluate: rmse\n",
    "rmse_train = mean_squared_error(y_train.taxvaluedollarcnt, y_train.tax_pred_glm)**(1/2)\n",
    "\n",
    "# predict validate\n",
    "y_validate['tax_pred_glm'] = glm.predict(X_validate)\n",
    "\n",
    "# evaluate: rmse\n",
    "rmse_validate = mean_squared_error(y_validate.taxvaluedollarcnt, y_validate.tax_pred_glm)**(1/2)\n",
    "\n",
    "print(\"RMSE for GLM using Tweedie, power=1 & alpha=0\\nTraining/In-Sample: \", rmse_train, \n",
    "      \"\\nValidation/Out-of-Sample: \", rmse_validate)\n"
   ]
  },
  {
   "cell_type": "code",
   "execution_count": 29,
   "id": "242f6217",
   "metadata": {},
   "outputs": [],
   "source": [
    "from sklearn.preprocessing import PolynomialFeatures"
   ]
  },
  {
   "cell_type": "code",
   "execution_count": 30,
   "id": "02319f00",
   "metadata": {},
   "outputs": [],
   "source": [
    "# make the polynomial features to get a new set of features\n",
    "pf = PolynomialFeatures(degree=2)\n",
    "\n",
    "# fit and transform X_train_scaled\n",
    "X_train_degree2 = pf.fit_transform(X_train)\n",
    "\n",
    "# transform X_validate_scaled & X_test_scaled\n",
    "X_validate_degree2 = pf.transform(X_validate)\n",
    "X_test_degree2 = pf.transform(X_test)\n"
   ]
  },
  {
   "cell_type": "code",
   "execution_count": 31,
   "id": "558ba3b5",
   "metadata": {},
   "outputs": [
    {
     "name": "stdout",
     "output_type": "stream",
     "text": [
      "RMSE for Polynomial Model, degrees=2\n",
      "Training/In-Sample:  247654.89133377874 \n",
      "Validation/Out-of-Sample:  249682.44163049647\n"
     ]
    }
   ],
   "source": [
    "# create the model object\n",
    "lm2 = LinearRegression(normalize=True)\n",
    "\n",
    "# fit the model to our training data. We must specify the column in y_train, \n",
    "# since we have converted it to a dataframe from a series! \n",
    "lm2.fit(X_train_degree2, y_train.taxvaluedollarcnt)\n",
    "\n",
    "# predict train\n",
    "y_train['tax_pred_lm2'] = lm2.predict(X_train_degree2)\n",
    "\n",
    "# evaluate: rmse\n",
    "rmse_train = mean_squared_error(y_train.taxvaluedollarcnt, y_train.tax_pred_lm2)**(1/2)\n",
    "\n",
    "# predict validate\n",
    "y_validate['tax_pred_lm2'] = lm2.predict(X_validate_degree2)\n",
    "\n",
    "# evaluate: rmse\n",
    "rmse_validate = mean_squared_error(y_validate.taxvaluedollarcnt, y_validate.tax_pred_lm2)**(1/2)\n",
    "\n",
    "print(\"RMSE for Polynomial Model, degrees=2\\nTraining/In-Sample: \", rmse_train, \n",
    "      \"\\nValidation/Out-of-Sample: \", rmse_validate)\n"
   ]
  },
  {
   "cell_type": "code",
   "execution_count": null,
   "id": "03f03502",
   "metadata": {},
   "outputs": [],
   "source": []
  },
  {
   "cell_type": "code",
   "execution_count": null,
   "id": "4c3e3219",
   "metadata": {},
   "outputs": [],
   "source": []
  },
  {
   "cell_type": "code",
   "execution_count": null,
   "id": "1b02806d",
   "metadata": {},
   "outputs": [],
   "source": [
    "lm = LinearRegression()\n",
    "\n",
    "lm.fit(X_train, y_train.taxvaluedollarcnt)"
   ]
  },
  {
   "cell_type": "code",
   "execution_count": null,
   "id": "bd507922",
   "metadata": {},
   "outputs": [],
   "source": [
    "lm.coef_, lm.intercept_"
   ]
  },
  {
   "cell_type": "code",
   "execution_count": null,
   "id": "3116f0fd",
   "metadata": {},
   "outputs": [],
   "source": []
  },
  {
   "cell_type": "code",
   "execution_count": 41,
   "id": "d83e5f7a",
   "metadata": {},
   "outputs": [
    {
     "data": {
      "image/png": "[encoded data removed]",
      "text/plain": [
       "<Figure size 1152x576 with 1 Axes>"
      ]
     },
     "metadata": {
      "needs_background": "light"
     },
     "output_type": "display_data"
    }
   ],
   "source": [
    "# plot to visualize actual vs predicted. \n",
    "plt.figure(figsize=(16,8))\n",
    "plt.hist(y_validate.taxvaluedollarcnt, color='blue', alpha=.5, label=\"Actual Final Grades\")\n",
    "plt.hist(y_validate.tax_pred_lm, color='black', alpha=.5, label=\"Model: LinearRegression\")\n",
    "plt.hist(y_validate.tax_pred_glm, color='yellow', alpha=.5, label=\"Model: TweedieRegressor\")\n",
    "plt.hist(y_validate.tax_pred_lm2, color='green', alpha=.5, label=\"Model 2nd degree Polynomial\")\n",
    "plt.xlabel(\"Final Grade (G3)\")\n",
    "plt.ylabel(\"Number of Students\")\n",
    "plt.title(\"Comparing the Distribution of Actual Grades to Distributions of Predicted Grades for the Top Models\")\n",
    "plt.legend()\n",
    "plt.show()\n"
   ]
  },
  {
   "cell_type": "code",
   "execution_count": 42,
   "id": "aa3bb7a0",
   "metadata": {},
   "outputs": [
    {
     "data": {
      "text/html": [
       "<div>\n",
       "<style scoped>\n",
       "    .dataframe tbody tr th:only-of-type {\n",
       "        vertical-align: middle;\n",
       "    }\n",
       "\n",
       "    .dataframe tbody tr th {\n",
       "        vertical-align: top;\n",
       "    }\n",
       "\n",
       "    .dataframe thead th {\n",
       "        text-align: right;\n",
       "    }\n",
       "</style>\n",
       "<table border=\"1\" class=\"dataframe\">\n",
       "  <thead>\n",
       "    <tr style=\"text-align: right;\">\n",
       "      <th></th>\n",
       "      <th>taxvaluedollarcnt</th>\n",
       "      <th>tax_pred_lm</th>\n",
       "      <th>tax_pred_lars</th>\n",
       "      <th>tax_pred_glm</th>\n",
       "      <th>tax_pred_lm2</th>\n",
       "      <th>LinearRegression(normalize=True)</th>\n",
       "      <th>LassoLars()</th>\n",
       "      <th>TweedieRegressor(alpha=0, power=1)</th>\n",
       "    </tr>\n",
       "  </thead>\n",
       "  <tbody>\n",
       "    <tr>\n",
       "      <th>51278</th>\n",
       "      <td>119668</td>\n",
       "      <td>192158.332503</td>\n",
       "      <td>192672.407137</td>\n",
       "      <td>252202.709899</td>\n",
       "      <td>209528.307813</td>\n",
       "      <td>192158.332503</td>\n",
       "      <td>192672.407137</td>\n",
       "      <td>252202.709899</td>\n",
       "    </tr>\n",
       "    <tr>\n",
       "      <th>30633</th>\n",
       "      <td>919553</td>\n",
       "      <td>479905.599489</td>\n",
       "      <td>480175.548155</td>\n",
       "      <td>433802.187190</td>\n",
       "      <td>479875.337301</td>\n",
       "      <td>479905.599489</td>\n",
       "      <td>480175.548155</td>\n",
       "      <td>433802.187190</td>\n",
       "    </tr>\n",
       "    <tr>\n",
       "      <th>1069</th>\n",
       "      <td>390871</td>\n",
       "      <td>368139.724325</td>\n",
       "      <td>368037.254862</td>\n",
       "      <td>365092.605156</td>\n",
       "      <td>355644.030301</td>\n",
       "      <td>368139.724325</td>\n",
       "      <td>368037.254862</td>\n",
       "      <td>365092.605156</td>\n",
       "    </tr>\n",
       "    <tr>\n",
       "      <th>5125</th>\n",
       "      <td>58361</td>\n",
       "      <td>231798.252370</td>\n",
       "      <td>232242.175774</td>\n",
       "      <td>269998.264763</td>\n",
       "      <td>252439.214085</td>\n",
       "      <td>231798.252370</td>\n",
       "      <td>232242.175774</td>\n",
       "      <td>269998.264763</td>\n",
       "    </tr>\n",
       "    <tr>\n",
       "      <th>15166</th>\n",
       "      <td>396326</td>\n",
       "      <td>310613.736206</td>\n",
       "      <td>310714.773746</td>\n",
       "      <td>323369.756694</td>\n",
       "      <td>301693.865659</td>\n",
       "      <td>310613.736206</td>\n",
       "      <td>310714.773746</td>\n",
       "      <td>323369.756694</td>\n",
       "    </tr>\n",
       "  </tbody>\n",
       "</table>\n",
       "</div>"
      ],
      "text/plain": [
       "       taxvaluedollarcnt    tax_pred_lm  tax_pred_lars   tax_pred_glm  \\\n",
       "51278             119668  192158.332503  192672.407137  252202.709899   \n",
       "30633             919553  479905.599489  480175.548155  433802.187190   \n",
       "1069              390871  368139.724325  368037.254862  365092.605156   \n",
       "5125               58361  231798.252370  232242.175774  269998.264763   \n",
       "15166             396326  310613.736206  310714.773746  323369.756694   \n",
       "\n",
       "        tax_pred_lm2  LinearRegression(normalize=True)    LassoLars()  \\\n",
       "51278  209528.307813                     192158.332503  192672.407137   \n",
       "30633  479875.337301                     479905.599489  480175.548155   \n",
       "1069   355644.030301                     368139.724325  368037.254862   \n",
       "5125   252439.214085                     231798.252370  232242.175774   \n",
       "15166  301693.865659                     310613.736206  310714.773746   \n",
       "\n",
       "       TweedieRegressor(alpha=0, power=1)  \n",
       "51278                       252202.709899  \n",
       "30633                       433802.187190  \n",
       "1069                        365092.605156  \n",
       "5125                        269998.264763  \n",
       "15166                       323369.756694  "
      ]
     },
     "execution_count": 42,
     "metadata": {},
     "output_type": "execute_result"
    }
   ],
   "source": [
    "y_train.head()"
   ]
  },
  {
   "cell_type": "code",
   "execution_count": null,
   "id": "3d03c260",
   "metadata": {},
   "outputs": [],
   "source": [
    "lars = LassoLars(alpha=1.0)\n",
    "\n",
    "lars.fit(X_train, y_train.taxvaluedollarcnt)"
   ]
  },
  {
   "cell_type": "code",
   "execution_count": null,
   "id": "e5f4f21c",
   "metadata": {},
   "outputs": [],
   "source": [
    "#Instantiate TweedieRegressor and fit\n",
    "glm = TweedieRegressor(power=0, alpha=1)\n",
    "\n",
    "glm.fit(X_train, y_train.taxvaluedollarcnt)"
   ]
  },
  {
   "cell_type": "code",
   "execution_count": null,
   "id": "cb274cf1",
   "metadata": {},
   "outputs": [],
   "source": [
    "train.info()"
   ]
  },
  {
   "cell_type": "code",
   "execution_count": null,
   "id": "1e7a69b3",
   "metadata": {
    "scrolled": true
   },
   "outputs": [],
   "source": [
    "y_train.head()"
   ]
  },
  {
   "cell_type": "code",
   "execution_count": null,
   "id": "a63e77f8",
   "metadata": {},
   "outputs": [],
   "source": [
    "X_train.shape, X_validate.shape, X_test.shape"
   ]
  },
  {
   "cell_type": "code",
   "execution_count": 35,
   "id": "e54ee3dc",
   "metadata": {
    "scrolled": true
   },
   "outputs": [
    {
     "name": "stdout",
     "output_type": "stream",
     "text": [
      "RMSE for LassoLars() model on the train dataset: 248133.89.\n",
      "RMSE for LassoLars() model on the validate dataset: 250035.6.\n",
      "\n",
      "RMSE for TweedieRegressor(alpha=0, power=1) model on the train dataset: 253936.96.\n",
      "RMSE for TweedieRegressor(alpha=0, power=1) model on the validate dataset: 258211.5.\n",
      "\n",
      "RMSE for LinearRegression(normalize=True) model on the train dataset: 248133.54.\n",
      "RMSE for LinearRegression(normalize=True) model on the validate dataset: 250036.29.\n",
      "\n"
     ]
    }
   ],
   "source": [
    "models = [lars, glm, lm]\n",
    "\n",
    "for model in models:\n",
    "    y_train[str(model)] = model.predict(X_train)\n",
    "    rmse_train = sqrt(mean_squared_error(y_train['taxvaluedollarcnt'],\n",
    "                                         y_train[str(model)]))\n",
    "    \n",
    "    y_validate[str(model)] = model.predict(X_validate)\n",
    "    rmse_valid = sqrt(mean_squared_error(y_validate['taxvaluedollarcnt'],\n",
    "                                         y_validate[str(model)]))\n",
    "    \n",
    "    print('RMSE for {} model on the train dataset: {}.'.format(model, round(rmse_train, 2)))\n",
    "    print('RMSE for {} model on the validate dataset: {}.'.format(model, round(rmse_valid, 2)))\n",
    "    print()"
   ]
  },
  {
   "cell_type": "code",
   "execution_count": 36,
   "id": "d1378e40",
   "metadata": {},
   "outputs": [],
   "source": [
    "#Rename my columns so they're easier to access\n",
    "y_validate.rename(columns={'LinearRegression()': 'lm', 'LassoLars()': 'lars',\n",
    "                        'TweedieRegressor(alpha=1, power=0)': 'glm'}, inplace=True)"
   ]
  },
  {
   "cell_type": "code",
   "execution_count": 37,
   "id": "218ae161",
   "metadata": {},
   "outputs": [
    {
     "data": {
      "text/plain": [
       "Index(['taxvaluedollarcnt', 'tax_pred_lm', 'tax_pred_lars', 'tax_pred_glm',\n",
       "       'tax_pred_lm2', 'LinearRegression(normalize=True)', 'lars',\n",
       "       'TweedieRegressor(alpha=0, power=1)'],\n",
       "      dtype='object')"
      ]
     },
     "execution_count": 37,
     "metadata": {},
     "output_type": "execute_result"
    }
   ],
   "source": [
    "y_validate.columns"
   ]
  },
  {
   "cell_type": "code",
   "execution_count": 38,
   "id": "1c9abd3a",
   "metadata": {},
   "outputs": [
    {
     "ename": "KeyError",
     "evalue": "'lm'",
     "output_type": "error",
     "traceback": [
      "\u001b[0;31m---------------------------------------------------------------------------\u001b[0m",
      "\u001b[0;31mKeyError\u001b[0m                                  Traceback (most recent call last)",
      "File \u001b[0;32m/opt/homebrew/anaconda3/lib/python3.9/site-packages/pandas/core/indexes/base.py:3621\u001b[0m, in \u001b[0;36mIndex.get_loc\u001b[0;34m(self, key, method, tolerance)\u001b[0m\n\u001b[1;32m   3620\u001b[0m \u001b[38;5;28;01mtry\u001b[39;00m:\n\u001b[0;32m-> 3621\u001b[0m     \u001b[38;5;28;01mreturn\u001b[39;00m \u001b[38;5;28;43mself\u001b[39;49m\u001b[38;5;241;43m.\u001b[39;49m\u001b[43m_engine\u001b[49m\u001b[38;5;241;43m.\u001b[39;49m\u001b[43mget_loc\u001b[49m\u001b[43m(\u001b[49m\u001b[43mcasted_key\u001b[49m\u001b[43m)\u001b[49m\n\u001b[1;32m   3622\u001b[0m \u001b[38;5;28;01mexcept\u001b[39;00m \u001b[38;5;167;01mKeyError\u001b[39;00m \u001b[38;5;28;01mas\u001b[39;00m err:\n",
      "File \u001b[0;32m/opt/homebrew/anaconda3/lib/python3.9/site-packages/pandas/_libs/index.pyx:136\u001b[0m, in \u001b[0;36mpandas._libs.index.IndexEngine.get_loc\u001b[0;34m()\u001b[0m\n",
      "File \u001b[0;32m/opt/homebrew/anaconda3/lib/python3.9/site-packages/pandas/_libs/index.pyx:163\u001b[0m, in \u001b[0;36mpandas._libs.index.IndexEngine.get_loc\u001b[0;34m()\u001b[0m\n",
      "File \u001b[0;32mpandas/_libs/hashtable_class_helper.pxi:5198\u001b[0m, in \u001b[0;36mpandas._libs.hashtable.PyObjectHashTable.get_item\u001b[0;34m()\u001b[0m\n",
      "File \u001b[0;32mpandas/_libs/hashtable_class_helper.pxi:5206\u001b[0m, in \u001b[0;36mpandas._libs.hashtable.PyObjectHashTable.get_item\u001b[0;34m()\u001b[0m\n",
      "\u001b[0;31mKeyError\u001b[0m: 'lm'",
      "\nThe above exception was the direct cause of the following exception:\n",
      "\u001b[0;31mKeyError\u001b[0m                                  Traceback (most recent call last)",
      "Input \u001b[0;32mIn [38]\u001b[0m, in \u001b[0;36m<cell line: 8>\u001b[0;34m()\u001b[0m\n\u001b[1;32m      3\u001b[0m plt\u001b[38;5;241m.\u001b[39mplot(y_validate[\u001b[38;5;124m'\u001b[39m\u001b[38;5;124mtaxvaluedollarcnt\u001b[39m\u001b[38;5;124m'\u001b[39m], validate[\u001b[38;5;124m'\u001b[39m\u001b[38;5;124mbaseline\u001b[39m\u001b[38;5;124m'\u001b[39m], alpha\u001b[38;5;241m=\u001b[39m\u001b[38;5;241m0.5\u001b[39m,\n\u001b[1;32m      4\u001b[0m          color\u001b[38;5;241m=\u001b[39m\u001b[38;5;124m'\u001b[39m\u001b[38;5;124mgray\u001b[39m\u001b[38;5;124m'\u001b[39m, label\u001b[38;5;241m=\u001b[39m\u001b[38;5;124m'\u001b[39m\u001b[38;5;124m_nolegend_\u001b[39m\u001b[38;5;124m'\u001b[39m)\n\u001b[1;32m      5\u001b[0m plt\u001b[38;5;241m.\u001b[39mplot(validate[\u001b[38;5;124m'\u001b[39m\u001b[38;5;124mtaxvaluedollarcnt\u001b[39m\u001b[38;5;124m'\u001b[39m], validate[\u001b[38;5;124m'\u001b[39m\u001b[38;5;124mtaxvaluedollarcnt\u001b[39m\u001b[38;5;124m'\u001b[39m], alpha\u001b[38;5;241m=\u001b[39m\u001b[38;5;241m0.5\u001b[39m,\n\u001b[1;32m      6\u001b[0m          color\u001b[38;5;241m=\u001b[39m\u001b[38;5;124m'\u001b[39m\u001b[38;5;124mblue\u001b[39m\u001b[38;5;124m'\u001b[39m, label\u001b[38;5;241m=\u001b[39m\u001b[38;5;124m'\u001b[39m\u001b[38;5;124m_nolegend_\u001b[39m\u001b[38;5;124m'\u001b[39m)\n\u001b[0;32m----> 8\u001b[0m plt\u001b[38;5;241m.\u001b[39mscatter(y_validate[\u001b[38;5;124m'\u001b[39m\u001b[38;5;124mtaxvaluedollarcnt\u001b[39m\u001b[38;5;124m'\u001b[39m], \u001b[43my_validate\u001b[49m\u001b[43m[\u001b[49m\u001b[38;5;124;43m'\u001b[39;49m\u001b[38;5;124;43mlm\u001b[39;49m\u001b[38;5;124;43m'\u001b[39;49m\u001b[43m]\u001b[49m, alpha\u001b[38;5;241m=\u001b[39m\u001b[38;5;241m0.5\u001b[39m,\n\u001b[1;32m      9\u001b[0m             color\u001b[38;5;241m=\u001b[39m\u001b[38;5;124m'\u001b[39m\u001b[38;5;124mred\u001b[39m\u001b[38;5;124m'\u001b[39m, s\u001b[38;5;241m=\u001b[39m\u001b[38;5;241m100\u001b[39m, label\u001b[38;5;241m=\u001b[39m\u001b[38;5;124m'\u001b[39m\u001b[38;5;124mLinear Regression\u001b[39m\u001b[38;5;124m'\u001b[39m)\n\u001b[1;32m     10\u001b[0m plt\u001b[38;5;241m.\u001b[39mscatter(y_validate[\u001b[38;5;124m'\u001b[39m\u001b[38;5;124mtaxvaluedollarcnt\u001b[39m\u001b[38;5;124m'\u001b[39m], y_validate[\u001b[38;5;124m'\u001b[39m\u001b[38;5;124mlars\u001b[39m\u001b[38;5;124m'\u001b[39m], alpha\u001b[38;5;241m=\u001b[39m\u001b[38;5;241m0.5\u001b[39m,\n\u001b[1;32m     11\u001b[0m             color\u001b[38;5;241m=\u001b[39m\u001b[38;5;124m'\u001b[39m\u001b[38;5;124myellow\u001b[39m\u001b[38;5;124m'\u001b[39m, s\u001b[38;5;241m=\u001b[39m\u001b[38;5;241m100\u001b[39m, label\u001b[38;5;241m=\u001b[39m\u001b[38;5;124m'\u001b[39m\u001b[38;5;124mLasso Lars\u001b[39m\u001b[38;5;124m'\u001b[39m)\n\u001b[1;32m     12\u001b[0m plt\u001b[38;5;241m.\u001b[39mscatter(y_validate[\u001b[38;5;124m'\u001b[39m\u001b[38;5;124mtaxvaluedollarcnt\u001b[39m\u001b[38;5;124m'\u001b[39m], y_validate[\u001b[38;5;124m'\u001b[39m\u001b[38;5;124mglm\u001b[39m\u001b[38;5;124m'\u001b[39m], alpha\u001b[38;5;241m=\u001b[39m\u001b[38;5;241m0.5\u001b[39m,\n\u001b[1;32m     13\u001b[0m             color\u001b[38;5;241m=\u001b[39m\u001b[38;5;124m'\u001b[39m\u001b[38;5;124mgreen\u001b[39m\u001b[38;5;124m'\u001b[39m, s\u001b[38;5;241m=\u001b[39m\u001b[38;5;241m100\u001b[39m, label\u001b[38;5;241m=\u001b[39m\u001b[38;5;124m'\u001b[39m\u001b[38;5;124mTweedie\u001b[39m\u001b[38;5;124m'\u001b[39m)\n",
      "File \u001b[0;32m/opt/homebrew/anaconda3/lib/python3.9/site-packages/pandas/core/frame.py:3505\u001b[0m, in \u001b[0;36mDataFrame.__getitem__\u001b[0;34m(self, key)\u001b[0m\n\u001b[1;32m   3503\u001b[0m \u001b[38;5;28;01mif\u001b[39;00m \u001b[38;5;28mself\u001b[39m\u001b[38;5;241m.\u001b[39mcolumns\u001b[38;5;241m.\u001b[39mnlevels \u001b[38;5;241m>\u001b[39m \u001b[38;5;241m1\u001b[39m:\n\u001b[1;32m   3504\u001b[0m     \u001b[38;5;28;01mreturn\u001b[39;00m \u001b[38;5;28mself\u001b[39m\u001b[38;5;241m.\u001b[39m_getitem_multilevel(key)\n\u001b[0;32m-> 3505\u001b[0m indexer \u001b[38;5;241m=\u001b[39m \u001b[38;5;28;43mself\u001b[39;49m\u001b[38;5;241;43m.\u001b[39;49m\u001b[43mcolumns\u001b[49m\u001b[38;5;241;43m.\u001b[39;49m\u001b[43mget_loc\u001b[49m\u001b[43m(\u001b[49m\u001b[43mkey\u001b[49m\u001b[43m)\u001b[49m\n\u001b[1;32m   3506\u001b[0m \u001b[38;5;28;01mif\u001b[39;00m is_integer(indexer):\n\u001b[1;32m   3507\u001b[0m     indexer \u001b[38;5;241m=\u001b[39m [indexer]\n",
      "File \u001b[0;32m/opt/homebrew/anaconda3/lib/python3.9/site-packages/pandas/core/indexes/base.py:3623\u001b[0m, in \u001b[0;36mIndex.get_loc\u001b[0;34m(self, key, method, tolerance)\u001b[0m\n\u001b[1;32m   3621\u001b[0m     \u001b[38;5;28;01mreturn\u001b[39;00m \u001b[38;5;28mself\u001b[39m\u001b[38;5;241m.\u001b[39m_engine\u001b[38;5;241m.\u001b[39mget_loc(casted_key)\n\u001b[1;32m   3622\u001b[0m \u001b[38;5;28;01mexcept\u001b[39;00m \u001b[38;5;167;01mKeyError\u001b[39;00m \u001b[38;5;28;01mas\u001b[39;00m err:\n\u001b[0;32m-> 3623\u001b[0m     \u001b[38;5;28;01mraise\u001b[39;00m \u001b[38;5;167;01mKeyError\u001b[39;00m(key) \u001b[38;5;28;01mfrom\u001b[39;00m \u001b[38;5;21;01merr\u001b[39;00m\n\u001b[1;32m   3624\u001b[0m \u001b[38;5;28;01mexcept\u001b[39;00m \u001b[38;5;167;01mTypeError\u001b[39;00m:\n\u001b[1;32m   3625\u001b[0m     \u001b[38;5;66;03m# If we have a listlike key, _check_indexing_error will raise\u001b[39;00m\n\u001b[1;32m   3626\u001b[0m     \u001b[38;5;66;03m#  InvalidIndexError. Otherwise we fall through and re-raise\u001b[39;00m\n\u001b[1;32m   3627\u001b[0m     \u001b[38;5;66;03m#  the TypeError.\u001b[39;00m\n\u001b[1;32m   3628\u001b[0m     \u001b[38;5;28mself\u001b[39m\u001b[38;5;241m.\u001b[39m_check_indexing_error(key)\n",
      "\u001b[0;31mKeyError\u001b[0m: 'lm'"
     ]
    },
    {
     "data": {
      "image/png": "[encoded data removed]",
      "text/plain": [
       "<Figure size 1152x576 with 1 Axes>"
      ]
     },
     "metadata": {
      "needs_background": "light"
     },
     "output_type": "display_data"
    }
   ],
   "source": [
    "plt.figure(figsize=(16,8))\n",
    "\n",
    "plt.plot(y_validate['taxvaluedollarcnt'], validate['baseline'], alpha=0.5,\n",
    "         color='gray', label='_nolegend_')\n",
    "plt.plot(validate['taxvaluedollarcnt'], validate['taxvaluedollarcnt'], alpha=0.5,\n",
    "         color='blue', label='_nolegend_')\n",
    "\n",
    "plt.scatter(y_validate['taxvaluedollarcnt'], y_validate['lm'], alpha=0.5,\n",
    "            color='red', s=100, label='Linear Regression')\n",
    "plt.scatter(y_validate['taxvaluedollarcnt'], y_validate['lars'], alpha=0.5,\n",
    "            color='yellow', s=100, label='Lasso Lars')\n",
    "plt.scatter(y_validate['taxvaluedollarcnt'], y_validate['glm'], alpha=0.5,\n",
    "            color='green', s=100, label='Tweedie')\n",
    "\n",
    "plt.legend()\n",
    "plt.xlabel('Actual tip')\n",
    "plt.ylabel('Predicted tip')\n",
    "plt.title('Actual tip vs predicted tip across all models')"
   ]
  },
  {
   "cell_type": "code",
   "execution_count": 39,
   "id": "7c927591",
   "metadata": {},
   "outputs": [
    {
     "ename": "KeyError",
     "evalue": "'lm'",
     "output_type": "error",
     "traceback": [
      "\u001b[0;31m---------------------------------------------------------------------------\u001b[0m",
      "\u001b[0;31mKeyError\u001b[0m                                  Traceback (most recent call last)",
      "File \u001b[0;32m/opt/homebrew/anaconda3/lib/python3.9/site-packages/pandas/core/indexes/base.py:3621\u001b[0m, in \u001b[0;36mIndex.get_loc\u001b[0;34m(self, key, method, tolerance)\u001b[0m\n\u001b[1;32m   3620\u001b[0m \u001b[38;5;28;01mtry\u001b[39;00m:\n\u001b[0;32m-> 3621\u001b[0m     \u001b[38;5;28;01mreturn\u001b[39;00m \u001b[38;5;28;43mself\u001b[39;49m\u001b[38;5;241;43m.\u001b[39;49m\u001b[43m_engine\u001b[49m\u001b[38;5;241;43m.\u001b[39;49m\u001b[43mget_loc\u001b[49m\u001b[43m(\u001b[49m\u001b[43mcasted_key\u001b[49m\u001b[43m)\u001b[49m\n\u001b[1;32m   3622\u001b[0m \u001b[38;5;28;01mexcept\u001b[39;00m \u001b[38;5;167;01mKeyError\u001b[39;00m \u001b[38;5;28;01mas\u001b[39;00m err:\n",
      "File \u001b[0;32m/opt/homebrew/anaconda3/lib/python3.9/site-packages/pandas/_libs/index.pyx:136\u001b[0m, in \u001b[0;36mpandas._libs.index.IndexEngine.get_loc\u001b[0;34m()\u001b[0m\n",
      "File \u001b[0;32m/opt/homebrew/anaconda3/lib/python3.9/site-packages/pandas/_libs/index.pyx:163\u001b[0m, in \u001b[0;36mpandas._libs.index.IndexEngine.get_loc\u001b[0;34m()\u001b[0m\n",
      "File \u001b[0;32mpandas/_libs/hashtable_class_helper.pxi:5198\u001b[0m, in \u001b[0;36mpandas._libs.hashtable.PyObjectHashTable.get_item\u001b[0;34m()\u001b[0m\n",
      "File \u001b[0;32mpandas/_libs/hashtable_class_helper.pxi:5206\u001b[0m, in \u001b[0;36mpandas._libs.hashtable.PyObjectHashTable.get_item\u001b[0;34m()\u001b[0m\n",
      "\u001b[0;31mKeyError\u001b[0m: 'lm'",
      "\nThe above exception was the direct cause of the following exception:\n",
      "\u001b[0;31mKeyError\u001b[0m                                  Traceback (most recent call last)",
      "Input \u001b[0;32mIn [39]\u001b[0m, in \u001b[0;36m<cell line: 5>\u001b[0;34m()\u001b[0m\n\u001b[1;32m      2\u001b[0m plt\u001b[38;5;241m.\u001b[39mfigure(figsize\u001b[38;5;241m=\u001b[39m(\u001b[38;5;241m16\u001b[39m,\u001b[38;5;241m8\u001b[39m))\n\u001b[1;32m      4\u001b[0m plt\u001b[38;5;241m.\u001b[39mhist(y_validate[\u001b[38;5;124m'\u001b[39m\u001b[38;5;124mtaxvaluedollarcnt\u001b[39m\u001b[38;5;124m'\u001b[39m], color\u001b[38;5;241m=\u001b[39m\u001b[38;5;124m'\u001b[39m\u001b[38;5;124mblue\u001b[39m\u001b[38;5;124m'\u001b[39m, alpha\u001b[38;5;241m=\u001b[39m\u001b[38;5;241m0.5\u001b[39m, label\u001b[38;5;241m=\u001b[39m\u001b[38;5;124m'\u001b[39m\u001b[38;5;124mActual Tip\u001b[39m\u001b[38;5;124m'\u001b[39m)\n\u001b[0;32m----> 5\u001b[0m plt\u001b[38;5;241m.\u001b[39mhist(\u001b[43my_validate\u001b[49m\u001b[43m[\u001b[49m\u001b[38;5;124;43m'\u001b[39;49m\u001b[38;5;124;43mlm\u001b[39;49m\u001b[38;5;124;43m'\u001b[39;49m\u001b[43m]\u001b[49m, color\u001b[38;5;241m=\u001b[39m\u001b[38;5;124m'\u001b[39m\u001b[38;5;124mred\u001b[39m\u001b[38;5;124m'\u001b[39m, alpha\u001b[38;5;241m=\u001b[39m\u001b[38;5;241m0.5\u001b[39m, label\u001b[38;5;241m=\u001b[39m\u001b[38;5;124m'\u001b[39m\u001b[38;5;124mLinear Regression\u001b[39m\u001b[38;5;124m'\u001b[39m)\n\u001b[1;32m      6\u001b[0m plt\u001b[38;5;241m.\u001b[39mhist(y_validate[\u001b[38;5;124m'\u001b[39m\u001b[38;5;124mlars\u001b[39m\u001b[38;5;124m'\u001b[39m], color\u001b[38;5;241m=\u001b[39m\u001b[38;5;124m'\u001b[39m\u001b[38;5;124myellow\u001b[39m\u001b[38;5;124m'\u001b[39m, alpha\u001b[38;5;241m=\u001b[39m\u001b[38;5;241m0.5\u001b[39m, label\u001b[38;5;241m=\u001b[39m\u001b[38;5;124m'\u001b[39m\u001b[38;5;124mLasso Lars\u001b[39m\u001b[38;5;124m'\u001b[39m)\n\u001b[1;32m      7\u001b[0m plt\u001b[38;5;241m.\u001b[39mhist(y_validate[\u001b[38;5;124m'\u001b[39m\u001b[38;5;124mglm\u001b[39m\u001b[38;5;124m'\u001b[39m], color\u001b[38;5;241m=\u001b[39m\u001b[38;5;124m'\u001b[39m\u001b[38;5;124mgreen\u001b[39m\u001b[38;5;124m'\u001b[39m, alpha\u001b[38;5;241m=\u001b[39m\u001b[38;5;241m0.5\u001b[39m, label\u001b[38;5;241m=\u001b[39m\u001b[38;5;124m'\u001b[39m\u001b[38;5;124mTweedie\u001b[39m\u001b[38;5;124m'\u001b[39m)\n",
      "File \u001b[0;32m/opt/homebrew/anaconda3/lib/python3.9/site-packages/pandas/core/frame.py:3505\u001b[0m, in \u001b[0;36mDataFrame.__getitem__\u001b[0;34m(self, key)\u001b[0m\n\u001b[1;32m   3503\u001b[0m \u001b[38;5;28;01mif\u001b[39;00m \u001b[38;5;28mself\u001b[39m\u001b[38;5;241m.\u001b[39mcolumns\u001b[38;5;241m.\u001b[39mnlevels \u001b[38;5;241m>\u001b[39m \u001b[38;5;241m1\u001b[39m:\n\u001b[1;32m   3504\u001b[0m     \u001b[38;5;28;01mreturn\u001b[39;00m \u001b[38;5;28mself\u001b[39m\u001b[38;5;241m.\u001b[39m_getitem_multilevel(key)\n\u001b[0;32m-> 3505\u001b[0m indexer \u001b[38;5;241m=\u001b[39m \u001b[38;5;28;43mself\u001b[39;49m\u001b[38;5;241;43m.\u001b[39;49m\u001b[43mcolumns\u001b[49m\u001b[38;5;241;43m.\u001b[39;49m\u001b[43mget_loc\u001b[49m\u001b[43m(\u001b[49m\u001b[43mkey\u001b[49m\u001b[43m)\u001b[49m\n\u001b[1;32m   3506\u001b[0m \u001b[38;5;28;01mif\u001b[39;00m is_integer(indexer):\n\u001b[1;32m   3507\u001b[0m     indexer \u001b[38;5;241m=\u001b[39m [indexer]\n",
      "File \u001b[0;32m/opt/homebrew/anaconda3/lib/python3.9/site-packages/pandas/core/indexes/base.py:3623\u001b[0m, in \u001b[0;36mIndex.get_loc\u001b[0;34m(self, key, method, tolerance)\u001b[0m\n\u001b[1;32m   3621\u001b[0m     \u001b[38;5;28;01mreturn\u001b[39;00m \u001b[38;5;28mself\u001b[39m\u001b[38;5;241m.\u001b[39m_engine\u001b[38;5;241m.\u001b[39mget_loc(casted_key)\n\u001b[1;32m   3622\u001b[0m \u001b[38;5;28;01mexcept\u001b[39;00m \u001b[38;5;167;01mKeyError\u001b[39;00m \u001b[38;5;28;01mas\u001b[39;00m err:\n\u001b[0;32m-> 3623\u001b[0m     \u001b[38;5;28;01mraise\u001b[39;00m \u001b[38;5;167;01mKeyError\u001b[39;00m(key) \u001b[38;5;28;01mfrom\u001b[39;00m \u001b[38;5;21;01merr\u001b[39;00m\n\u001b[1;32m   3624\u001b[0m \u001b[38;5;28;01mexcept\u001b[39;00m \u001b[38;5;167;01mTypeError\u001b[39;00m:\n\u001b[1;32m   3625\u001b[0m     \u001b[38;5;66;03m# If we have a listlike key, _check_indexing_error will raise\u001b[39;00m\n\u001b[1;32m   3626\u001b[0m     \u001b[38;5;66;03m#  InvalidIndexError. Otherwise we fall through and re-raise\u001b[39;00m\n\u001b[1;32m   3627\u001b[0m     \u001b[38;5;66;03m#  the TypeError.\u001b[39;00m\n\u001b[1;32m   3628\u001b[0m     \u001b[38;5;28mself\u001b[39m\u001b[38;5;241m.\u001b[39m_check_indexing_error(key)\n",
      "\u001b[0;31mKeyError\u001b[0m: 'lm'"
     ]
    },
    {
     "data": {
      "image/png": "[encoded data removed]",
      "text/plain": [
       "<Figure size 1152x576 with 1 Axes>"
      ]
     },
     "metadata": {
      "needs_background": "light"
     },
     "output_type": "display_data"
    }
   ],
   "source": [
    "#Distribution of my models' predictions\n",
    "plt.figure(figsize=(16,8))\n",
    "\n",
    "plt.hist(y_validate['taxvaluedollarcnt'], color='blue', alpha=0.5, label='Actual Tip')\n",
    "plt.hist(y_validate['lm'], color='red', alpha=0.5, label='Linear Regression')\n",
    "plt.hist(y_validate['lars'], color='yellow', alpha=0.5, label='Lasso Lars')\n",
    "plt.hist(y_validate['glm'], color='green', alpha=0.5, label='Tweedie')\n",
    "plt.hist(y_validate['lm2'], color='grey', alpha=0.5, label='polynomial')\n",
    "\n",
    "plt.xlabel('Tip')\n",
    "plt.ylabel('Frequency')\n",
    "plt.title('Frequency of tip amounts by model')\n",
    "plt.legend()"
   ]
  },
  {
   "cell_type": "code",
   "execution_count": null,
   "id": "b5203026",
   "metadata": {},
   "outputs": [],
   "source": [
    "#tes the best model on the test dataset \n",
    "\n",
    "#Evaluate the best performing model on the test subset\n",
    "y_test['lm'] = lm.predict(X_test)\n",
    "\n",
    "rmse_test = sqrt(mean_squared_error(y_test['taxvaluedollarcnt'], y_test['lm']))\n",
    "\n",
    "print('RMSE for OLS model on the test dataset: {}.'.format(rmse_test))"
   ]
  },
  {
   "cell_type": "code",
   "execution_count": null,
   "id": "2bdbdc6d",
   "metadata": {},
   "outputs": [],
   "source": []
  },
  {
   "cell_type": "code",
   "execution_count": null,
   "id": "7887cd98",
   "metadata": {},
   "outputs": [],
   "source": []
  },
  {
   "cell_type": "code",
   "execution_count": null,
   "id": "3aa27236",
   "metadata": {},
   "outputs": [],
   "source": []
  },
  {
   "cell_type": "code",
   "execution_count": null,
   "id": "c7223c7e",
   "metadata": {},
   "outputs": [],
   "source": []
  },
  {
   "cell_type": "code",
   "execution_count": null,
   "id": "521b02e2",
   "metadata": {},
   "outputs": [],
   "source": []
  },
  {
   "cell_type": "code",
   "execution_count": null,
   "id": "67407d23",
   "metadata": {},
   "outputs": [],
   "source": []
  }
 ],
 "metadata": {
  "kernelspec": {
   "display_name": "Python 3 (ipykernel)",
   "language": "python",
   "name": "python3"
  },
  "language_info": {
   "codemirror_mode": {
    "name": "ipython",
    "version": 3
   },
   "file_extension": ".py",
   "mimetype": "text/x-python",
   "name": "python",
   "nbconvert_exporter": "python",
   "pygments_lexer": "ipython3",
   "version": "3.9.12"
  }
 },
 "nbformat": 4,
 "nbformat_minor": 5
}
