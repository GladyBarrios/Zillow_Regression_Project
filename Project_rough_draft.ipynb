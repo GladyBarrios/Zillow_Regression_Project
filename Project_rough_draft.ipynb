{
 "cells": [
  {
   "cell_type": "code",
   "execution_count": 167,
   "id": "98203800",
   "metadata": {},
   "outputs": [],
   "source": [
    "import pandas as pd\n",
    "import numpy as np\n",
    "import seaborn as sns\n",
    "import matplotlib.pyplot as plt\n",
    "from env import user, password, host\n",
    "from wrangle import wrangle_zillow\n",
    "from prepare import train_validate_test_split\n",
    "from sklearn.model_selection import train_test_split\n",
    "import warnings\n",
    "warnings.filterwarnings(\"ignore\")\n",
    "from sklearn.linear_model import LinearRegression, LassoLars, TweedieRegressor"
   ]
  },
  {
   "cell_type": "code",
   "execution_count": null,
   "id": "38ccea77",
   "metadata": {},
   "outputs": [],
   "source": [
    " "
   ]
  },
  {
   "cell_type": "code",
   "execution_count": 2,
   "id": "f266140e",
   "metadata": {},
   "outputs": [
    {
     "data": {
      "text/html": [
       "<div>\n",
       "<style scoped>\n",
       "    .dataframe tbody tr th:only-of-type {\n",
       "        vertical-align: middle;\n",
       "    }\n",
       "\n",
       "    .dataframe tbody tr th {\n",
       "        vertical-align: top;\n",
       "    }\n",
       "\n",
       "    .dataframe thead th {\n",
       "        text-align: right;\n",
       "    }\n",
       "</style>\n",
       "<table border=\"1\" class=\"dataframe\">\n",
       "  <thead>\n",
       "    <tr style=\"text-align: right;\">\n",
       "      <th></th>\n",
       "      <th>bathroomcnt</th>\n",
       "      <th>bedroomcnt</th>\n",
       "      <th>calculatedfinishedsquarefeet</th>\n",
       "      <th>taxvaluedollarcnt</th>\n",
       "      <th>yearbuilt</th>\n",
       "      <th>fips</th>\n",
       "      <th>transactiondate</th>\n",
       "      <th>County</th>\n",
       "    </tr>\n",
       "  </thead>\n",
       "  <tbody>\n",
       "    <tr>\n",
       "      <th>0</th>\n",
       "      <td>2.0</td>\n",
       "      <td>3</td>\n",
       "      <td>1048</td>\n",
       "      <td>380118</td>\n",
       "      <td>1952</td>\n",
       "      <td>6037</td>\n",
       "      <td>2017-01-13</td>\n",
       "      <td>Los Angeles County</td>\n",
       "    </tr>\n",
       "    <tr>\n",
       "      <th>1</th>\n",
       "      <td>2.0</td>\n",
       "      <td>3</td>\n",
       "      <td>1324</td>\n",
       "      <td>518089</td>\n",
       "      <td>1963</td>\n",
       "      <td>6037</td>\n",
       "      <td>2017-01-13</td>\n",
       "      <td>Los Angeles County</td>\n",
       "    </tr>\n",
       "    <tr>\n",
       "      <th>3</th>\n",
       "      <td>3.0</td>\n",
       "      <td>4</td>\n",
       "      <td>2519</td>\n",
       "      <td>106406</td>\n",
       "      <td>1965</td>\n",
       "      <td>6037</td>\n",
       "      <td>2017-01-13</td>\n",
       "      <td>Los Angeles County</td>\n",
       "    </tr>\n",
       "    <tr>\n",
       "      <th>4</th>\n",
       "      <td>2.0</td>\n",
       "      <td>3</td>\n",
       "      <td>1285</td>\n",
       "      <td>369853</td>\n",
       "      <td>1955</td>\n",
       "      <td>6037</td>\n",
       "      <td>2017-01-13</td>\n",
       "      <td>Los Angeles County</td>\n",
       "    </tr>\n",
       "    <tr>\n",
       "      <th>5</th>\n",
       "      <td>1.0</td>\n",
       "      <td>3</td>\n",
       "      <td>1254</td>\n",
       "      <td>65848</td>\n",
       "      <td>1954</td>\n",
       "      <td>6037</td>\n",
       "      <td>2017-01-13</td>\n",
       "      <td>Los Angeles County</td>\n",
       "    </tr>\n",
       "  </tbody>\n",
       "</table>\n",
       "</div>"
      ],
      "text/plain": [
       "   bathroomcnt  bedroomcnt  calculatedfinishedsquarefeet  taxvaluedollarcnt  \\\n",
       "0          2.0           3                          1048             380118   \n",
       "1          2.0           3                          1324             518089   \n",
       "3          3.0           4                          2519             106406   \n",
       "4          2.0           3                          1285             369853   \n",
       "5          1.0           3                          1254              65848   \n",
       "\n",
       "   yearbuilt  fips transactiondate              County  \n",
       "0       1952  6037      2017-01-13  Los Angeles County  \n",
       "1       1963  6037      2017-01-13  Los Angeles County  \n",
       "3       1965  6037      2017-01-13  Los Angeles County  \n",
       "4       1955  6037      2017-01-13  Los Angeles County  \n",
       "5       1954  6037      2017-01-13  Los Angeles County  "
      ]
     },
     "execution_count": 2,
     "metadata": {},
     "output_type": "execute_result"
    }
   ],
   "source": [
    "df = wrangle_zillow()\n",
    "\n",
    "df.head()"
   ]
  },
  {
   "cell_type": "code",
   "execution_count": 3,
   "id": "21a6c39d",
   "metadata": {},
   "outputs": [
    {
     "data": {
      "text/plain": [
       "((27773, 8), (11903, 8), (9920, 8))"
      ]
     },
     "execution_count": 3,
     "metadata": {},
     "output_type": "execute_result"
    }
   ],
   "source": [
    "train, validate, test = train_validate_test_split(df)\n",
    "\n",
    "train.shape, validate.shape, test.shape"
   ]
  },
  {
   "cell_type": "code",
   "execution_count": 5,
   "id": "770609d2",
   "metadata": {},
   "outputs": [
    {
     "data": {
      "text/html": [
       "<div>\n",
       "<style scoped>\n",
       "    .dataframe tbody tr th:only-of-type {\n",
       "        vertical-align: middle;\n",
       "    }\n",
       "\n",
       "    .dataframe tbody tr th {\n",
       "        vertical-align: top;\n",
       "    }\n",
       "\n",
       "    .dataframe thead th {\n",
       "        text-align: right;\n",
       "    }\n",
       "</style>\n",
       "<table border=\"1\" class=\"dataframe\">\n",
       "  <thead>\n",
       "    <tr style=\"text-align: right;\">\n",
       "      <th></th>\n",
       "      <th>bathroomcnt</th>\n",
       "      <th>bedroomcnt</th>\n",
       "      <th>calculatedfinishedsquarefeet</th>\n",
       "      <th>taxvaluedollarcnt</th>\n",
       "      <th>yearbuilt</th>\n",
       "      <th>fips</th>\n",
       "      <th>transactiondate</th>\n",
       "      <th>County</th>\n",
       "    </tr>\n",
       "  </thead>\n",
       "  <tbody>\n",
       "    <tr>\n",
       "      <th>51278</th>\n",
       "      <td>1.0</td>\n",
       "      <td>3</td>\n",
       "      <td>944</td>\n",
       "      <td>119668</td>\n",
       "      <td>1960</td>\n",
       "      <td>6111</td>\n",
       "      <td>2017-08-31</td>\n",
       "      <td>Ventura County</td>\n",
       "    </tr>\n",
       "    <tr>\n",
       "      <th>30633</th>\n",
       "      <td>2.0</td>\n",
       "      <td>4</td>\n",
       "      <td>2395</td>\n",
       "      <td>919553</td>\n",
       "      <td>1922</td>\n",
       "      <td>6037</td>\n",
       "      <td>2017-06-13</td>\n",
       "      <td>Los Angeles County</td>\n",
       "    </tr>\n",
       "    <tr>\n",
       "      <th>1069</th>\n",
       "      <td>2.5</td>\n",
       "      <td>3</td>\n",
       "      <td>1438</td>\n",
       "      <td>390871</td>\n",
       "      <td>1964</td>\n",
       "      <td>6059</td>\n",
       "      <td>2017-01-06</td>\n",
       "      <td>Orange County</td>\n",
       "    </tr>\n",
       "    <tr>\n",
       "      <th>5125</th>\n",
       "      <td>1.0</td>\n",
       "      <td>3</td>\n",
       "      <td>1142</td>\n",
       "      <td>58361</td>\n",
       "      <td>1947</td>\n",
       "      <td>6037</td>\n",
       "      <td>2017-02-15</td>\n",
       "      <td>Los Angeles County</td>\n",
       "    </tr>\n",
       "    <tr>\n",
       "      <th>15166</th>\n",
       "      <td>2.0</td>\n",
       "      <td>3</td>\n",
       "      <td>1279</td>\n",
       "      <td>396326</td>\n",
       "      <td>1956</td>\n",
       "      <td>6037</td>\n",
       "      <td>2017-03-24</td>\n",
       "      <td>Los Angeles County</td>\n",
       "    </tr>\n",
       "  </tbody>\n",
       "</table>\n",
       "</div>"
      ],
      "text/plain": [
       "       bathroomcnt  bedroomcnt  calculatedfinishedsquarefeet  \\\n",
       "51278          1.0           3                           944   \n",
       "30633          2.0           4                          2395   \n",
       "1069           2.5           3                          1438   \n",
       "5125           1.0           3                          1142   \n",
       "15166          2.0           3                          1279   \n",
       "\n",
       "       taxvaluedollarcnt  yearbuilt  fips transactiondate              County  \n",
       "51278             119668       1960  6111      2017-08-31      Ventura County  \n",
       "30633             919553       1922  6037      2017-06-13  Los Angeles County  \n",
       "1069              390871       1964  6059      2017-01-06       Orange County  \n",
       "5125               58361       1947  6037      2017-02-15  Los Angeles County  \n",
       "15166             396326       1956  6037      2017-03-24  Los Angeles County  "
      ]
     },
     "execution_count": 5,
     "metadata": {},
     "output_type": "execute_result"
    }
   ],
   "source": [
    "train.head()"
   ]
  },
  {
   "cell_type": "code",
   "execution_count": 40,
   "id": "6c528cde",
   "metadata": {},
   "outputs": [
    {
     "data": {
      "text/html": [
       "<div>\n",
       "<style scoped>\n",
       "    .dataframe tbody tr th:only-of-type {\n",
       "        vertical-align: middle;\n",
       "    }\n",
       "\n",
       "    .dataframe tbody tr th {\n",
       "        vertical-align: top;\n",
       "    }\n",
       "\n",
       "    .dataframe thead th {\n",
       "        text-align: right;\n",
       "    }\n",
       "</style>\n",
       "<table border=\"1\" class=\"dataframe\">\n",
       "  <thead>\n",
       "    <tr style=\"text-align: right;\">\n",
       "      <th></th>\n",
       "      <th>bathroomcnt</th>\n",
       "      <th>bedroomcnt</th>\n",
       "      <th>calculatedfinishedsquarefeet</th>\n",
       "    </tr>\n",
       "  </thead>\n",
       "  <tbody>\n",
       "    <tr>\n",
       "      <th>51278</th>\n",
       "      <td>1.0</td>\n",
       "      <td>3</td>\n",
       "      <td>944</td>\n",
       "    </tr>\n",
       "    <tr>\n",
       "      <th>30633</th>\n",
       "      <td>2.0</td>\n",
       "      <td>4</td>\n",
       "      <td>2395</td>\n",
       "    </tr>\n",
       "    <tr>\n",
       "      <th>1069</th>\n",
       "      <td>2.5</td>\n",
       "      <td>3</td>\n",
       "      <td>1438</td>\n",
       "    </tr>\n",
       "    <tr>\n",
       "      <th>5125</th>\n",
       "      <td>1.0</td>\n",
       "      <td>3</td>\n",
       "      <td>1142</td>\n",
       "    </tr>\n",
       "    <tr>\n",
       "      <th>15166</th>\n",
       "      <td>2.0</td>\n",
       "      <td>3</td>\n",
       "      <td>1279</td>\n",
       "    </tr>\n",
       "  </tbody>\n",
       "</table>\n",
       "</div>"
      ],
      "text/plain": [
       "       bathroomcnt  bedroomcnt  calculatedfinishedsquarefeet\n",
       "51278          1.0           3                           944\n",
       "30633          2.0           4                          2395\n",
       "1069           2.5           3                          1438\n",
       "5125           1.0           3                          1142\n",
       "15166          2.0           3                          1279"
      ]
     },
     "execution_count": 40,
     "metadata": {},
     "output_type": "execute_result"
    }
   ],
   "source": [
    "X_train = train.drop(columns=['yearbuilt', 'fips', 'transactiondate','County', 'taxvaluedollarcnt'])\n",
    "X_train.head()"
   ]
  },
  {
   "cell_type": "code",
   "execution_count": 41,
   "id": "f7d97a4a",
   "metadata": {},
   "outputs": [],
   "source": [
    "#im going to try and scale the data \n",
    "import sklearn.preprocessing"
   ]
  },
  {
   "cell_type": "code",
   "execution_count": 42,
   "id": "84f0e9fb",
   "metadata": {},
   "outputs": [],
   "source": [
    "#Assign the scaler to a variable, and fit/transform the training data\n",
    "mms = sklearn.preprocessing.MinMaxScaler()\n",
    "\n",
    "mms.fit(X_train)\n",
    "\n",
    "train_mms = mms.transform(X_train)"
   ]
  },
  {
   "cell_type": "code",
   "execution_count": 43,
   "id": "ff1f13ba",
   "metadata": {},
   "outputs": [
    {
     "data": {
      "text/html": [
       "<div>\n",
       "<style scoped>\n",
       "    .dataframe tbody tr th:only-of-type {\n",
       "        vertical-align: middle;\n",
       "    }\n",
       "\n",
       "    .dataframe tbody tr th {\n",
       "        vertical-align: top;\n",
       "    }\n",
       "\n",
       "    .dataframe thead th {\n",
       "        text-align: right;\n",
       "    }\n",
       "</style>\n",
       "<table border=\"1\" class=\"dataframe\">\n",
       "  <thead>\n",
       "    <tr style=\"text-align: right;\">\n",
       "      <th></th>\n",
       "      <th>bathroomcnt</th>\n",
       "      <th>bedroomcnt</th>\n",
       "      <th>calculatedfinishedsquarefeet</th>\n",
       "    </tr>\n",
       "  </thead>\n",
       "  <tbody>\n",
       "    <tr>\n",
       "      <th>0</th>\n",
       "      <td>0.0</td>\n",
       "      <td>0.4</td>\n",
       "      <td>0.108761</td>\n",
       "    </tr>\n",
       "    <tr>\n",
       "      <th>1</th>\n",
       "      <td>0.2</td>\n",
       "      <td>0.6</td>\n",
       "      <td>0.308020</td>\n",
       "    </tr>\n",
       "    <tr>\n",
       "      <th>2</th>\n",
       "      <td>0.3</td>\n",
       "      <td>0.4</td>\n",
       "      <td>0.176600</td>\n",
       "    </tr>\n",
       "    <tr>\n",
       "      <th>3</th>\n",
       "      <td>0.0</td>\n",
       "      <td>0.4</td>\n",
       "      <td>0.135952</td>\n",
       "    </tr>\n",
       "    <tr>\n",
       "      <th>4</th>\n",
       "      <td>0.2</td>\n",
       "      <td>0.4</td>\n",
       "      <td>0.154765</td>\n",
       "    </tr>\n",
       "  </tbody>\n",
       "</table>\n",
       "</div>"
      ],
      "text/plain": [
       "   bathroomcnt  bedroomcnt  calculatedfinishedsquarefeet\n",
       "0          0.0         0.4                      0.108761\n",
       "1          0.2         0.6                      0.308020\n",
       "2          0.3         0.4                      0.176600\n",
       "3          0.0         0.4                      0.135952\n",
       "4          0.2         0.4                      0.154765"
      ]
     },
     "execution_count": 43,
     "metadata": {},
     "output_type": "execute_result"
    }
   ],
   "source": [
    "#Is there a mistake here?\n",
    "pd.DataFrame(train_mms, columns=list(X_train.columns)).head()"
   ]
  },
  {
   "cell_type": "code",
   "execution_count": 58,
   "id": "724ee0c3",
   "metadata": {},
   "outputs": [
    {
     "data": {
      "text/plain": [
       "Text(0.5, 1.0, 'Scaled')"
      ]
     },
     "execution_count": 58,
     "metadata": {},
     "output_type": "execute_result"
    },
    {
     "data": {
      "image/png": "[encoded data removed]",
      "text/plain": [
       "<Figure size 936x432 with 2 Axes>"
      ]
     },
     "metadata": {
      "needs_background": "light"
     },
     "output_type": "display_data"
    }
   ],
   "source": [
    "plt.figure(figsize=(13, 6))\n",
    "plt.subplot(121)\n",
    "plt.hist(train['calculatedfinishedsquarefeet'], bins=25, ec='black')\n",
    "plt.title('Original')\n",
    "plt.subplot(122)\n",
    "plt.hist(train_mms[:,2], bins=25, ec='black')\n",
    "plt.title('Scaled')"
   ]
  },
  {
   "cell_type": "code",
   "execution_count": 45,
   "id": "713ca47f",
   "metadata": {},
   "outputs": [],
   "source": [
    "ss = sklearn.preprocessing.StandardScaler()\n",
    "\n",
    "ss.fit(X_train)\n",
    "\n",
    "train_ss = ss.transform(X_train)"
   ]
  },
  {
   "cell_type": "code",
   "execution_count": 46,
   "id": "1e5ee8e8",
   "metadata": {},
   "outputs": [
    {
     "data": {
      "text/html": [
       "<div>\n",
       "<style scoped>\n",
       "    .dataframe tbody tr th:only-of-type {\n",
       "        vertical-align: middle;\n",
       "    }\n",
       "\n",
       "    .dataframe tbody tr th {\n",
       "        vertical-align: top;\n",
       "    }\n",
       "\n",
       "    .dataframe thead th {\n",
       "        text-align: right;\n",
       "    }\n",
       "</style>\n",
       "<table border=\"1\" class=\"dataframe\">\n",
       "  <thead>\n",
       "    <tr style=\"text-align: right;\">\n",
       "      <th></th>\n",
       "      <th>bathroomcnt</th>\n",
       "      <th>bedroomcnt</th>\n",
       "      <th>calculatedfinishedsquarefeet</th>\n",
       "    </tr>\n",
       "  </thead>\n",
       "  <tbody>\n",
       "    <tr>\n",
       "      <th>0</th>\n",
       "      <td>-1.404694</td>\n",
       "      <td>-0.296815</td>\n",
       "      <td>-1.122393</td>\n",
       "    </tr>\n",
       "    <tr>\n",
       "      <th>1</th>\n",
       "      <td>-0.238643</td>\n",
       "      <td>0.838802</td>\n",
       "      <td>0.757239</td>\n",
       "    </tr>\n",
       "    <tr>\n",
       "      <th>2</th>\n",
       "      <td>0.344382</td>\n",
       "      <td>-0.296815</td>\n",
       "      <td>-0.482464</td>\n",
       "    </tr>\n",
       "    <tr>\n",
       "      <th>3</th>\n",
       "      <td>-1.404694</td>\n",
       "      <td>-0.296815</td>\n",
       "      <td>-0.865903</td>\n",
       "    </tr>\n",
       "    <tr>\n",
       "      <th>4</th>\n",
       "      <td>-0.238643</td>\n",
       "      <td>-0.296815</td>\n",
       "      <td>-0.688433</td>\n",
       "    </tr>\n",
       "  </tbody>\n",
       "</table>\n",
       "</div>"
      ],
      "text/plain": [
       "   bathroomcnt  bedroomcnt  calculatedfinishedsquarefeet\n",
       "0    -1.404694   -0.296815                     -1.122393\n",
       "1    -0.238643    0.838802                      0.757239\n",
       "2     0.344382   -0.296815                     -0.482464\n",
       "3    -1.404694   -0.296815                     -0.865903\n",
       "4    -0.238643   -0.296815                     -0.688433"
      ]
     },
     "execution_count": 46,
     "metadata": {},
     "output_type": "execute_result"
    }
   ],
   "source": [
    "pd.DataFrame(train_ss, columns=list(X_train.columns)).head()"
   ]
  },
  {
   "cell_type": "code",
   "execution_count": 59,
   "id": "0d830070",
   "metadata": {},
   "outputs": [
    {
     "data": {
      "text/plain": [
       "Text(0.5, 1.0, 'Scaled')"
      ]
     },
     "execution_count": 59,
     "metadata": {},
     "output_type": "execute_result"
    },
    {
     "data": {
      "image/png": "[encoded data removed]",
      "text/plain": [
       "<Figure size 936x432 with 2 Axes>"
      ]
     },
     "metadata": {
      "needs_background": "light"
     },
     "output_type": "display_data"
    }
   ],
   "source": [
    "#Visualize the difference\n",
    "plt.figure(figsize=(13, 6))\n",
    "plt.subplot(121)\n",
    "plt.hist(train['calculatedfinishedsquarefeet'], bins=25, ec='black')\n",
    "plt.title('Original')\n",
    "plt.subplot(122)\n",
    "plt.hist(train_ss[:,2], bins=25, ec='black')\n",
    "plt.title('Scaled')"
   ]
  },
  {
   "cell_type": "code",
   "execution_count": 48,
   "id": "1bb10f14",
   "metadata": {},
   "outputs": [],
   "source": [
    "rs = sklearn.preprocessing.RobustScaler()\n",
    "\n",
    "rs.fit(X_train)\n",
    "\n",
    "train_rs = rs.transform(X_train)"
   ]
  },
  {
   "cell_type": "code",
   "execution_count": 49,
   "id": "bdf507fd",
   "metadata": {},
   "outputs": [
    {
     "data": {
      "text/html": [
       "<div>\n",
       "<style scoped>\n",
       "    .dataframe tbody tr th:only-of-type {\n",
       "        vertical-align: middle;\n",
       "    }\n",
       "\n",
       "    .dataframe tbody tr th {\n",
       "        vertical-align: top;\n",
       "    }\n",
       "\n",
       "    .dataframe thead th {\n",
       "        text-align: right;\n",
       "    }\n",
       "</style>\n",
       "<table border=\"1\" class=\"dataframe\">\n",
       "  <thead>\n",
       "    <tr style=\"text-align: right;\">\n",
       "      <th></th>\n",
       "      <th>bathroomcnt</th>\n",
       "      <th>bedroomcnt</th>\n",
       "      <th>calculatedfinishedsquarefeet</th>\n",
       "    </tr>\n",
       "  </thead>\n",
       "  <tbody>\n",
       "    <tr>\n",
       "      <th>0</th>\n",
       "      <td>-1.0</td>\n",
       "      <td>0.0</td>\n",
       "      <td>-0.725910</td>\n",
       "    </tr>\n",
       "    <tr>\n",
       "      <th>1</th>\n",
       "      <td>0.0</td>\n",
       "      <td>1.0</td>\n",
       "      <td>0.827623</td>\n",
       "    </tr>\n",
       "    <tr>\n",
       "      <th>2</th>\n",
       "      <td>0.5</td>\n",
       "      <td>0.0</td>\n",
       "      <td>-0.197002</td>\n",
       "    </tr>\n",
       "    <tr>\n",
       "      <th>3</th>\n",
       "      <td>-1.0</td>\n",
       "      <td>0.0</td>\n",
       "      <td>-0.513919</td>\n",
       "    </tr>\n",
       "    <tr>\n",
       "      <th>4</th>\n",
       "      <td>0.0</td>\n",
       "      <td>0.0</td>\n",
       "      <td>-0.367238</td>\n",
       "    </tr>\n",
       "  </tbody>\n",
       "</table>\n",
       "</div>"
      ],
      "text/plain": [
       "   bathroomcnt  bedroomcnt  calculatedfinishedsquarefeet\n",
       "0         -1.0         0.0                     -0.725910\n",
       "1          0.0         1.0                      0.827623\n",
       "2          0.5         0.0                     -0.197002\n",
       "3         -1.0         0.0                     -0.513919\n",
       "4          0.0         0.0                     -0.367238"
      ]
     },
     "execution_count": 49,
     "metadata": {},
     "output_type": "execute_result"
    }
   ],
   "source": [
    "pd.DataFrame(train_rs, columns=list(X_train.columns)).head()"
   ]
  },
  {
   "cell_type": "code",
   "execution_count": 50,
   "id": "91ba39ee",
   "metadata": {},
   "outputs": [
    {
     "data": {
      "text/plain": [
       "Text(0.5, 1.0, 'Scaled')"
      ]
     },
     "execution_count": 50,
     "metadata": {},
     "output_type": "execute_result"
    },
    {
     "data": {
      "image/png": "[encoded data removed]",
      "text/plain": [
       "<Figure size 936x432 with 2 Axes>"
      ]
     },
     "metadata": {
      "needs_background": "light"
     },
     "output_type": "display_data"
    }
   ],
   "source": [
    "#Visualize the data before and after robust scaling\n",
    "plt.figure(figsize=(13, 6))\n",
    "plt.subplot(121)\n",
    "plt.hist(train['bathroomcnt'], bins=25, ec='black')\n",
    "plt.title('Original')\n",
    "plt.subplot(122)\n",
    "plt.hist(train_rs[:,1], bins=25, ec='black')\n",
    "plt.title('Scaled')"
   ]
  },
  {
   "cell_type": "code",
   "execution_count": 51,
   "id": "0953f778",
   "metadata": {},
   "outputs": [
    {
     "data": {
      "text/plain": [
       "array([[1.000e+00, 3.000e+00, 9.440e+02],\n",
       "       [2.000e+00, 4.000e+00, 2.395e+03],\n",
       "       [2.500e+00, 3.000e+00, 1.438e+03],\n",
       "       ...,\n",
       "       [2.000e+00, 4.000e+00, 1.485e+03],\n",
       "       [2.000e+00, 3.000e+00, 1.512e+03],\n",
       "       [1.000e+00, 3.000e+00, 1.180e+03]])"
      ]
     },
     "execution_count": 51,
     "metadata": {},
     "output_type": "execute_result"
    }
   ],
   "source": [
    "mms.inverse_transform(train_mms)"
   ]
  },
  {
   "cell_type": "code",
   "execution_count": 52,
   "id": "ea388d99",
   "metadata": {},
   "outputs": [
    {
     "data": {
      "text/html": [
       "<div>\n",
       "<style scoped>\n",
       "    .dataframe tbody tr th:only-of-type {\n",
       "        vertical-align: middle;\n",
       "    }\n",
       "\n",
       "    .dataframe tbody tr th {\n",
       "        vertical-align: top;\n",
       "    }\n",
       "\n",
       "    .dataframe thead th {\n",
       "        text-align: right;\n",
       "    }\n",
       "</style>\n",
       "<table border=\"1\" class=\"dataframe\">\n",
       "  <thead>\n",
       "    <tr style=\"text-align: right;\">\n",
       "      <th></th>\n",
       "      <th>0</th>\n",
       "      <th>1</th>\n",
       "      <th>2</th>\n",
       "    </tr>\n",
       "  </thead>\n",
       "  <tbody>\n",
       "    <tr>\n",
       "      <th>0</th>\n",
       "      <td>1.0</td>\n",
       "      <td>3.0</td>\n",
       "      <td>944.0</td>\n",
       "    </tr>\n",
       "    <tr>\n",
       "      <th>1</th>\n",
       "      <td>2.0</td>\n",
       "      <td>4.0</td>\n",
       "      <td>2395.0</td>\n",
       "    </tr>\n",
       "    <tr>\n",
       "      <th>2</th>\n",
       "      <td>2.5</td>\n",
       "      <td>3.0</td>\n",
       "      <td>1438.0</td>\n",
       "    </tr>\n",
       "    <tr>\n",
       "      <th>3</th>\n",
       "      <td>1.0</td>\n",
       "      <td>3.0</td>\n",
       "      <td>1142.0</td>\n",
       "    </tr>\n",
       "    <tr>\n",
       "      <th>4</th>\n",
       "      <td>2.0</td>\n",
       "      <td>3.0</td>\n",
       "      <td>1279.0</td>\n",
       "    </tr>\n",
       "    <tr>\n",
       "      <th>...</th>\n",
       "      <td>...</td>\n",
       "      <td>...</td>\n",
       "      <td>...</td>\n",
       "    </tr>\n",
       "    <tr>\n",
       "      <th>27768</th>\n",
       "      <td>3.0</td>\n",
       "      <td>6.0</td>\n",
       "      <td>3345.0</td>\n",
       "    </tr>\n",
       "    <tr>\n",
       "      <th>27769</th>\n",
       "      <td>2.0</td>\n",
       "      <td>3.0</td>\n",
       "      <td>1383.0</td>\n",
       "    </tr>\n",
       "    <tr>\n",
       "      <th>27770</th>\n",
       "      <td>2.0</td>\n",
       "      <td>4.0</td>\n",
       "      <td>1485.0</td>\n",
       "    </tr>\n",
       "    <tr>\n",
       "      <th>27771</th>\n",
       "      <td>2.0</td>\n",
       "      <td>3.0</td>\n",
       "      <td>1512.0</td>\n",
       "    </tr>\n",
       "    <tr>\n",
       "      <th>27772</th>\n",
       "      <td>1.0</td>\n",
       "      <td>3.0</td>\n",
       "      <td>1180.0</td>\n",
       "    </tr>\n",
       "  </tbody>\n",
       "</table>\n",
       "<p>27773 rows × 3 columns</p>\n",
       "</div>"
      ],
      "text/plain": [
       "         0    1       2\n",
       "0      1.0  3.0   944.0\n",
       "1      2.0  4.0  2395.0\n",
       "2      2.5  3.0  1438.0\n",
       "3      1.0  3.0  1142.0\n",
       "4      2.0  3.0  1279.0\n",
       "...    ...  ...     ...\n",
       "27768  3.0  6.0  3345.0\n",
       "27769  2.0  3.0  1383.0\n",
       "27770  2.0  4.0  1485.0\n",
       "27771  2.0  3.0  1512.0\n",
       "27772  1.0  3.0  1180.0\n",
       "\n",
       "[27773 rows x 3 columns]"
      ]
     },
     "execution_count": 52,
     "metadata": {},
     "output_type": "execute_result"
    }
   ],
   "source": [
    "pd.DataFrame(mms.inverse_transform(train_mms))"
   ]
  },
  {
   "cell_type": "code",
   "execution_count": 53,
   "id": "6d70beab",
   "metadata": {},
   "outputs": [
    {
     "data": {
      "text/html": [
       "<div>\n",
       "<style scoped>\n",
       "    .dataframe tbody tr th:only-of-type {\n",
       "        vertical-align: middle;\n",
       "    }\n",
       "\n",
       "    .dataframe tbody tr th {\n",
       "        vertical-align: top;\n",
       "    }\n",
       "\n",
       "    .dataframe thead th {\n",
       "        text-align: right;\n",
       "    }\n",
       "</style>\n",
       "<table border=\"1\" class=\"dataframe\">\n",
       "  <thead>\n",
       "    <tr style=\"text-align: right;\">\n",
       "      <th></th>\n",
       "      <th>bathroomcnt</th>\n",
       "      <th>bedroomcnt</th>\n",
       "      <th>calculatedfinishedsquarefeet</th>\n",
       "      <th>taxvaluedollarcnt</th>\n",
       "      <th>yearbuilt</th>\n",
       "      <th>fips</th>\n",
       "      <th>transactiondate</th>\n",
       "      <th>County</th>\n",
       "    </tr>\n",
       "  </thead>\n",
       "  <tbody>\n",
       "    <tr>\n",
       "      <th>51278</th>\n",
       "      <td>1.0</td>\n",
       "      <td>3</td>\n",
       "      <td>944</td>\n",
       "      <td>119668</td>\n",
       "      <td>1960</td>\n",
       "      <td>6111</td>\n",
       "      <td>2017-08-31</td>\n",
       "      <td>Ventura County</td>\n",
       "    </tr>\n",
       "    <tr>\n",
       "      <th>30633</th>\n",
       "      <td>2.0</td>\n",
       "      <td>4</td>\n",
       "      <td>2395</td>\n",
       "      <td>919553</td>\n",
       "      <td>1922</td>\n",
       "      <td>6037</td>\n",
       "      <td>2017-06-13</td>\n",
       "      <td>Los Angeles County</td>\n",
       "    </tr>\n",
       "    <tr>\n",
       "      <th>1069</th>\n",
       "      <td>2.5</td>\n",
       "      <td>3</td>\n",
       "      <td>1438</td>\n",
       "      <td>390871</td>\n",
       "      <td>1964</td>\n",
       "      <td>6059</td>\n",
       "      <td>2017-01-06</td>\n",
       "      <td>Orange County</td>\n",
       "    </tr>\n",
       "    <tr>\n",
       "      <th>5125</th>\n",
       "      <td>1.0</td>\n",
       "      <td>3</td>\n",
       "      <td>1142</td>\n",
       "      <td>58361</td>\n",
       "      <td>1947</td>\n",
       "      <td>6037</td>\n",
       "      <td>2017-02-15</td>\n",
       "      <td>Los Angeles County</td>\n",
       "    </tr>\n",
       "    <tr>\n",
       "      <th>15166</th>\n",
       "      <td>2.0</td>\n",
       "      <td>3</td>\n",
       "      <td>1279</td>\n",
       "      <td>396326</td>\n",
       "      <td>1956</td>\n",
       "      <td>6037</td>\n",
       "      <td>2017-03-24</td>\n",
       "      <td>Los Angeles County</td>\n",
       "    </tr>\n",
       "  </tbody>\n",
       "</table>\n",
       "</div>"
      ],
      "text/plain": [
       "       bathroomcnt  bedroomcnt  calculatedfinishedsquarefeet  \\\n",
       "51278          1.0           3                           944   \n",
       "30633          2.0           4                          2395   \n",
       "1069           2.5           3                          1438   \n",
       "5125           1.0           3                          1142   \n",
       "15166          2.0           3                          1279   \n",
       "\n",
       "       taxvaluedollarcnt  yearbuilt  fips transactiondate              County  \n",
       "51278             119668       1960  6111      2017-08-31      Ventura County  \n",
       "30633             919553       1922  6037      2017-06-13  Los Angeles County  \n",
       "1069              390871       1964  6059      2017-01-06       Orange County  \n",
       "5125               58361       1947  6037      2017-02-15  Los Angeles County  \n",
       "15166             396326       1956  6037      2017-03-24  Los Angeles County  "
      ]
     },
     "execution_count": 53,
     "metadata": {},
     "output_type": "execute_result"
    }
   ],
   "source": [
    "train.head()"
   ]
  },
  {
   "cell_type": "code",
   "execution_count": 54,
   "id": "72803284",
   "metadata": {},
   "outputs": [
    {
     "data": {
      "text/html": [
       "<div>\n",
       "<style scoped>\n",
       "    .dataframe tbody tr th:only-of-type {\n",
       "        vertical-align: middle;\n",
       "    }\n",
       "\n",
       "    .dataframe tbody tr th {\n",
       "        vertical-align: top;\n",
       "    }\n",
       "\n",
       "    .dataframe thead th {\n",
       "        text-align: right;\n",
       "    }\n",
       "</style>\n",
       "<table border=\"1\" class=\"dataframe\">\n",
       "  <thead>\n",
       "    <tr style=\"text-align: right;\">\n",
       "      <th></th>\n",
       "      <th>bathroomcnt</th>\n",
       "      <th>bedroomcnt</th>\n",
       "      <th>calculatedfinishedsquarefeet</th>\n",
       "    </tr>\n",
       "  </thead>\n",
       "  <tbody>\n",
       "    <tr>\n",
       "      <th>51278</th>\n",
       "      <td>1.0</td>\n",
       "      <td>3</td>\n",
       "      <td>944</td>\n",
       "    </tr>\n",
       "    <tr>\n",
       "      <th>30633</th>\n",
       "      <td>2.0</td>\n",
       "      <td>4</td>\n",
       "      <td>2395</td>\n",
       "    </tr>\n",
       "    <tr>\n",
       "      <th>1069</th>\n",
       "      <td>2.5</td>\n",
       "      <td>3</td>\n",
       "      <td>1438</td>\n",
       "    </tr>\n",
       "    <tr>\n",
       "      <th>5125</th>\n",
       "      <td>1.0</td>\n",
       "      <td>3</td>\n",
       "      <td>1142</td>\n",
       "    </tr>\n",
       "    <tr>\n",
       "      <th>15166</th>\n",
       "      <td>2.0</td>\n",
       "      <td>3</td>\n",
       "      <td>1279</td>\n",
       "    </tr>\n",
       "  </tbody>\n",
       "</table>\n",
       "</div>"
      ],
      "text/plain": [
       "       bathroomcnt  bedroomcnt  calculatedfinishedsquarefeet\n",
       "51278          1.0           3                           944\n",
       "30633          2.0           4                          2395\n",
       "1069           2.5           3                          1438\n",
       "5125           1.0           3                          1142\n",
       "15166          2.0           3                          1279"
      ]
     },
     "execution_count": 54,
     "metadata": {},
     "output_type": "execute_result"
    }
   ],
   "source": [
    "X_train.head()"
   ]
  },
  {
   "cell_type": "code",
   "execution_count": 28,
   "id": "b5f9b956",
   "metadata": {},
   "outputs": [],
   "source": [
    "from sklearn.preprocessing import MinMaxScaler\n",
    "\n",
    "#Define function to scale all data based on the train subset\n",
    "def scale_data(train, validate, test):\n",
    "    \n",
    "    scale_columns = ['bedroomcnt', 'bathroomcnt', 'calculatedfinishedsquarefeet']\n",
    "    \n",
    "    train_scaled = train.copy()\n",
    "    validate_scaled = validate.copy()\n",
    "    test_scaled = test.copy()\n",
    "    \n",
    "    mms = MinMaxScaler()\n",
    "    \n",
    "    mms.fit(train[scale_columns])\n",
    "    \n",
    "    train_scaled[scale_columns] = mms.transform(train[scale_columns])\n",
    "    validate_scaled[scale_columns] = mms.transform(validate[scale_columns])\n",
    "    test_scaled[scale_columns] = mms.transform(test[scale_columns])\n",
    "    \n",
    "    return train_scaled, validate_scaled, test_scaled"
   ]
  },
  {
   "cell_type": "code",
   "execution_count": 33,
   "id": "151e2cd5",
   "metadata": {},
   "outputs": [],
   "source": [
    "train_s, valid_s, test_s = scale_data(train, validate, test)"
   ]
  },
  {
   "cell_type": "code",
   "execution_count": 34,
   "id": "833e6472",
   "metadata": {},
   "outputs": [
    {
     "data": {
      "text/html": [
       "<div>\n",
       "<style scoped>\n",
       "    .dataframe tbody tr th:only-of-type {\n",
       "        vertical-align: middle;\n",
       "    }\n",
       "\n",
       "    .dataframe tbody tr th {\n",
       "        vertical-align: top;\n",
       "    }\n",
       "\n",
       "    .dataframe thead th {\n",
       "        text-align: right;\n",
       "    }\n",
       "</style>\n",
       "<table border=\"1\" class=\"dataframe\">\n",
       "  <thead>\n",
       "    <tr style=\"text-align: right;\">\n",
       "      <th></th>\n",
       "      <th>bathroomcnt</th>\n",
       "      <th>bedroomcnt</th>\n",
       "      <th>calculatedfinishedsquarefeet</th>\n",
       "      <th>taxvaluedollarcnt</th>\n",
       "      <th>yearbuilt</th>\n",
       "      <th>fips</th>\n",
       "      <th>transactiondate</th>\n",
       "      <th>County</th>\n",
       "    </tr>\n",
       "  </thead>\n",
       "  <tbody>\n",
       "    <tr>\n",
       "      <th>51278</th>\n",
       "      <td>0.0</td>\n",
       "      <td>0.4</td>\n",
       "      <td>0.108761</td>\n",
       "      <td>119668</td>\n",
       "      <td>1960</td>\n",
       "      <td>6111</td>\n",
       "      <td>2017-08-31</td>\n",
       "      <td>Ventura County</td>\n",
       "    </tr>\n",
       "    <tr>\n",
       "      <th>30633</th>\n",
       "      <td>0.2</td>\n",
       "      <td>0.6</td>\n",
       "      <td>0.308020</td>\n",
       "      <td>919553</td>\n",
       "      <td>1922</td>\n",
       "      <td>6037</td>\n",
       "      <td>2017-06-13</td>\n",
       "      <td>Los Angeles County</td>\n",
       "    </tr>\n",
       "    <tr>\n",
       "      <th>1069</th>\n",
       "      <td>0.3</td>\n",
       "      <td>0.4</td>\n",
       "      <td>0.176600</td>\n",
       "      <td>390871</td>\n",
       "      <td>1964</td>\n",
       "      <td>6059</td>\n",
       "      <td>2017-01-06</td>\n",
       "      <td>Orange County</td>\n",
       "    </tr>\n",
       "    <tr>\n",
       "      <th>5125</th>\n",
       "      <td>0.0</td>\n",
       "      <td>0.4</td>\n",
       "      <td>0.135952</td>\n",
       "      <td>58361</td>\n",
       "      <td>1947</td>\n",
       "      <td>6037</td>\n",
       "      <td>2017-02-15</td>\n",
       "      <td>Los Angeles County</td>\n",
       "    </tr>\n",
       "    <tr>\n",
       "      <th>15166</th>\n",
       "      <td>0.2</td>\n",
       "      <td>0.4</td>\n",
       "      <td>0.154765</td>\n",
       "      <td>396326</td>\n",
       "      <td>1956</td>\n",
       "      <td>6037</td>\n",
       "      <td>2017-03-24</td>\n",
       "      <td>Los Angeles County</td>\n",
       "    </tr>\n",
       "  </tbody>\n",
       "</table>\n",
       "</div>"
      ],
      "text/plain": [
       "       bathroomcnt  bedroomcnt  calculatedfinishedsquarefeet  \\\n",
       "51278          0.0         0.4                      0.108761   \n",
       "30633          0.2         0.6                      0.308020   \n",
       "1069           0.3         0.4                      0.176600   \n",
       "5125           0.0         0.4                      0.135952   \n",
       "15166          0.2         0.4                      0.154765   \n",
       "\n",
       "       taxvaluedollarcnt  yearbuilt  fips transactiondate              County  \n",
       "51278             119668       1960  6111      2017-08-31      Ventura County  \n",
       "30633             919553       1922  6037      2017-06-13  Los Angeles County  \n",
       "1069              390871       1964  6059      2017-01-06       Orange County  \n",
       "5125               58361       1947  6037      2017-02-15  Los Angeles County  \n",
       "15166             396326       1956  6037      2017-03-24  Los Angeles County  "
      ]
     },
     "execution_count": 34,
     "metadata": {},
     "output_type": "execute_result"
    }
   ],
   "source": [
    "train_s.head()"
   ]
  },
  {
   "cell_type": "markdown",
   "id": "b2c9daf0",
   "metadata": {},
   "source": [
    "# Exploring the data "
   ]
  },
  {
   "cell_type": "markdown",
   "id": "696d8fbd",
   "metadata": {},
   "source": [
    "What are we looking for innitally ?\n",
    "\n",
    "We want to be able to predict the property tax assessed values `('taxvaluedollarcnt')` of Single Family Properties that had a transaction during 2017.\n",
    "\n",
    "We have a model already, but we are hoping your insights can help us improve it. I need recommendations on a way to make a better model. Maybe you will create a new feature out of existing ones that works better, try a non-linear regression algorithm, or try to create a different model for each county. Whatever you find that works (or doesn't work) will be useful. Given you have just joined our team, we are excited to see your outside perspective.\n",
    "\n",
    "One last thing, Zach lost the email that told us where these properties were located. Ugh, Zach :-/. Because property taxes are assessed at the county level, we would like to know what states and counties these are located in."
   ]
  },
  {
   "cell_type": "code",
   "execution_count": 35,
   "id": "cd8c46f2",
   "metadata": {
    "scrolled": true
   },
   "outputs": [
    {
     "name": "stdout",
     "output_type": "stream",
     "text": [
      "<class 'pandas.core.frame.DataFrame'>\n",
      "Int64Index: 27773 entries, 51278 to 48531\n",
      "Data columns (total 8 columns):\n",
      " #   Column                        Non-Null Count  Dtype  \n",
      "---  ------                        --------------  -----  \n",
      " 0   bathroomcnt                   27773 non-null  float64\n",
      " 1   bedroomcnt                    27773 non-null  int64  \n",
      " 2   calculatedfinishedsquarefeet  27773 non-null  int64  \n",
      " 3   taxvaluedollarcnt             27773 non-null  int64  \n",
      " 4   yearbuilt                     27773 non-null  int64  \n",
      " 5   fips                          27773 non-null  int64  \n",
      " 6   transactiondate               27773 non-null  object \n",
      " 7   County                        27773 non-null  object \n",
      "dtypes: float64(1), int64(5), object(2)\n",
      "memory usage: 1.9+ MB\n"
     ]
    }
   ],
   "source": [
    "train.info()"
   ]
  },
  {
   "cell_type": "code",
   "execution_count": 36,
   "id": "dfaa8789",
   "metadata": {},
   "outputs": [
    {
     "data": {
      "image/png": "[encoded data removed]",
      "text/plain": [
       "<Figure size 864x432 with 2 Axes>"
      ]
     },
     "metadata": {
      "needs_background": "light"
     },
     "output_type": "display_data"
    }
   ],
   "source": [
    "fig, ax =plt.subplots(1,2, figsize=(12,6))\n",
    "sns.countplot(train['bathroomcnt'], ax=ax[0])\n",
    "sns.countplot(train['bedroomcnt'], ax=ax[1])\n",
    "fig.show()"
   ]
  },
  {
   "cell_type": "code",
   "execution_count": 37,
   "id": "70d3ea3c",
   "metadata": {},
   "outputs": [
    {
     "data": {
      "text/plain": [
       "<AxesSubplot:xlabel='calculatedfinishedsquarefeet', ylabel='Count'>"
      ]
     },
     "execution_count": 37,
     "metadata": {},
     "output_type": "execute_result"
    },
    {
     "data": {
      "image/png": "[encoded data removed]",
      "text/plain": [
       "<Figure size 432x288 with 1 Axes>"
      ]
     },
     "metadata": {
      "needs_background": "light"
     },
     "output_type": "display_data"
    }
   ],
   "source": [
    "sns.histplot(data=train, x= 'calculatedfinishedsquarefeet')"
   ]
  },
  {
   "cell_type": "code",
   "execution_count": null,
   "id": "ad0b77d0",
   "metadata": {},
   "outputs": [],
   "source": [
    "sns.histplot(data=train, x= 'calculatedfinishedsquarefeet')"
   ]
  },
  {
   "cell_type": "code",
   "execution_count": 38,
   "id": "02015f16",
   "metadata": {},
   "outputs": [
    {
     "data": {
      "text/plain": [
       "<AxesSubplot:xlabel='County', ylabel='Count'>"
      ]
     },
     "execution_count": 38,
     "metadata": {},
     "output_type": "execute_result"
    },
    {
     "data": {
      "image/png": "[encoded data removed]",
      "text/plain": [
       "<Figure size 432x288 with 1 Axes>"
      ]
     },
     "metadata": {
      "needs_background": "light"
     },
     "output_type": "display_data"
    }
   ],
   "source": [
    "sns.histplot(data=train, x= 'County')"
   ]
  },
  {
   "cell_type": "code",
   "execution_count": 39,
   "id": "a3df9f9e",
   "metadata": {},
   "outputs": [
    {
     "data": {
      "text/html": [
       "<div>\n",
       "<style scoped>\n",
       "    .dataframe tbody tr th:only-of-type {\n",
       "        vertical-align: middle;\n",
       "    }\n",
       "\n",
       "    .dataframe tbody tr th {\n",
       "        vertical-align: top;\n",
       "    }\n",
       "\n",
       "    .dataframe thead th {\n",
       "        text-align: right;\n",
       "    }\n",
       "</style>\n",
       "<table border=\"1\" class=\"dataframe\">\n",
       "  <thead>\n",
       "    <tr style=\"text-align: right;\">\n",
       "      <th></th>\n",
       "      <th>count</th>\n",
       "      <th>mean</th>\n",
       "      <th>std</th>\n",
       "      <th>min</th>\n",
       "      <th>25%</th>\n",
       "      <th>50%</th>\n",
       "      <th>75%</th>\n",
       "      <th>max</th>\n",
       "    </tr>\n",
       "  </thead>\n",
       "  <tbody>\n",
       "    <tr>\n",
       "      <th>bathroomcnt</th>\n",
       "      <td>27773.0</td>\n",
       "      <td>2.204659</td>\n",
       "      <td>0.857611</td>\n",
       "      <td>1.0</td>\n",
       "      <td>2.0</td>\n",
       "      <td>2.0</td>\n",
       "      <td>3.0</td>\n",
       "      <td>6.0</td>\n",
       "    </tr>\n",
       "    <tr>\n",
       "      <th>bedroomcnt</th>\n",
       "      <td>27773.0</td>\n",
       "      <td>3.261369</td>\n",
       "      <td>0.880595</td>\n",
       "      <td>1.0</td>\n",
       "      <td>3.0</td>\n",
       "      <td>3.0</td>\n",
       "      <td>4.0</td>\n",
       "      <td>6.0</td>\n",
       "    </tr>\n",
       "    <tr>\n",
       "      <th>calculatedfinishedsquarefeet</th>\n",
       "      <td>27773.0</td>\n",
       "      <td>1810.442408</td>\n",
       "      <td>771.973503</td>\n",
       "      <td>152.0</td>\n",
       "      <td>1256.0</td>\n",
       "      <td>1622.0</td>\n",
       "      <td>2190.0</td>\n",
       "      <td>7434.0</td>\n",
       "    </tr>\n",
       "    <tr>\n",
       "      <th>taxvaluedollarcnt</th>\n",
       "      <td>27773.0</td>\n",
       "      <td>413377.641594</td>\n",
       "      <td>298187.380619</td>\n",
       "      <td>1000.0</td>\n",
       "      <td>184267.0</td>\n",
       "      <td>355000.0</td>\n",
       "      <td>564000.0</td>\n",
       "      <td>1498479.0</td>\n",
       "    </tr>\n",
       "    <tr>\n",
       "      <th>yearbuilt</th>\n",
       "      <td>27773.0</td>\n",
       "      <td>1962.948619</td>\n",
       "      <td>22.620826</td>\n",
       "      <td>1878.0</td>\n",
       "      <td>1950.0</td>\n",
       "      <td>1960.0</td>\n",
       "      <td>1978.0</td>\n",
       "      <td>2016.0</td>\n",
       "    </tr>\n",
       "    <tr>\n",
       "      <th>fips</th>\n",
       "      <td>27773.0</td>\n",
       "      <td>6049.210924</td>\n",
       "      <td>21.167338</td>\n",
       "      <td>6037.0</td>\n",
       "      <td>6037.0</td>\n",
       "      <td>6037.0</td>\n",
       "      <td>6059.0</td>\n",
       "      <td>6111.0</td>\n",
       "    </tr>\n",
       "  </tbody>\n",
       "</table>\n",
       "</div>"
      ],
      "text/plain": [
       "                                count           mean            std     min  \\\n",
       "bathroomcnt                   27773.0       2.204659       0.857611     1.0   \n",
       "bedroomcnt                    27773.0       3.261369       0.880595     1.0   \n",
       "calculatedfinishedsquarefeet  27773.0    1810.442408     771.973503   152.0   \n",
       "taxvaluedollarcnt             27773.0  413377.641594  298187.380619  1000.0   \n",
       "yearbuilt                     27773.0    1962.948619      22.620826  1878.0   \n",
       "fips                          27773.0    6049.210924      21.167338  6037.0   \n",
       "\n",
       "                                   25%       50%       75%        max  \n",
       "bathroomcnt                        2.0       2.0       3.0        6.0  \n",
       "bedroomcnt                         3.0       3.0       4.0        6.0  \n",
       "calculatedfinishedsquarefeet    1256.0    1622.0    2190.0     7434.0  \n",
       "taxvaluedollarcnt             184267.0  355000.0  564000.0  1498479.0  \n",
       "yearbuilt                       1950.0    1960.0    1978.0     2016.0  \n",
       "fips                            6037.0    6037.0    6059.0     6111.0  "
      ]
     },
     "execution_count": 39,
     "metadata": {},
     "output_type": "execute_result"
    }
   ],
   "source": [
    "train.describe().T"
   ]
  },
  {
   "cell_type": "code",
   "execution_count": null,
   "id": "15ea48f7",
   "metadata": {},
   "outputs": [],
   "source": [
    "train.corr()"
   ]
  },
  {
   "cell_type": "code",
   "execution_count": null,
   "id": "135282a8",
   "metadata": {},
   "outputs": [],
   "source": [
    "sns.heatmap(train.corr(), cmap='mako', center=0, annot=True)\n",
    "plt.show()"
   ]
  },
  {
   "cell_type": "code",
   "execution_count": 60,
   "id": "cd346c36",
   "metadata": {},
   "outputs": [
    {
     "data": {
      "text/html": [
       "<div>\n",
       "<style scoped>\n",
       "    .dataframe tbody tr th:only-of-type {\n",
       "        vertical-align: middle;\n",
       "    }\n",
       "\n",
       "    .dataframe tbody tr th {\n",
       "        vertical-align: top;\n",
       "    }\n",
       "\n",
       "    .dataframe thead th {\n",
       "        text-align: right;\n",
       "    }\n",
       "</style>\n",
       "<table border=\"1\" class=\"dataframe\">\n",
       "  <thead>\n",
       "    <tr style=\"text-align: right;\">\n",
       "      <th></th>\n",
       "      <th>bathroomcnt</th>\n",
       "      <th>bedroomcnt</th>\n",
       "      <th>calculatedfinishedsquarefeet</th>\n",
       "      <th>taxvaluedollarcnt</th>\n",
       "      <th>yearbuilt</th>\n",
       "      <th>fips</th>\n",
       "      <th>transactiondate</th>\n",
       "      <th>County</th>\n",
       "    </tr>\n",
       "  </thead>\n",
       "  <tbody>\n",
       "    <tr>\n",
       "      <th>51278</th>\n",
       "      <td>1.0</td>\n",
       "      <td>3</td>\n",
       "      <td>944</td>\n",
       "      <td>119668</td>\n",
       "      <td>1960</td>\n",
       "      <td>6111</td>\n",
       "      <td>2017-08-31</td>\n",
       "      <td>Ventura County</td>\n",
       "    </tr>\n",
       "    <tr>\n",
       "      <th>30633</th>\n",
       "      <td>2.0</td>\n",
       "      <td>4</td>\n",
       "      <td>2395</td>\n",
       "      <td>919553</td>\n",
       "      <td>1922</td>\n",
       "      <td>6037</td>\n",
       "      <td>2017-06-13</td>\n",
       "      <td>Los Angeles County</td>\n",
       "    </tr>\n",
       "    <tr>\n",
       "      <th>1069</th>\n",
       "      <td>2.5</td>\n",
       "      <td>3</td>\n",
       "      <td>1438</td>\n",
       "      <td>390871</td>\n",
       "      <td>1964</td>\n",
       "      <td>6059</td>\n",
       "      <td>2017-01-06</td>\n",
       "      <td>Orange County</td>\n",
       "    </tr>\n",
       "    <tr>\n",
       "      <th>5125</th>\n",
       "      <td>1.0</td>\n",
       "      <td>3</td>\n",
       "      <td>1142</td>\n",
       "      <td>58361</td>\n",
       "      <td>1947</td>\n",
       "      <td>6037</td>\n",
       "      <td>2017-02-15</td>\n",
       "      <td>Los Angeles County</td>\n",
       "    </tr>\n",
       "    <tr>\n",
       "      <th>15166</th>\n",
       "      <td>2.0</td>\n",
       "      <td>3</td>\n",
       "      <td>1279</td>\n",
       "      <td>396326</td>\n",
       "      <td>1956</td>\n",
       "      <td>6037</td>\n",
       "      <td>2017-03-24</td>\n",
       "      <td>Los Angeles County</td>\n",
       "    </tr>\n",
       "  </tbody>\n",
       "</table>\n",
       "</div>"
      ],
      "text/plain": [
       "       bathroomcnt  bedroomcnt  calculatedfinishedsquarefeet  \\\n",
       "51278          1.0           3                           944   \n",
       "30633          2.0           4                          2395   \n",
       "1069           2.5           3                          1438   \n",
       "5125           1.0           3                          1142   \n",
       "15166          2.0           3                          1279   \n",
       "\n",
       "       taxvaluedollarcnt  yearbuilt  fips transactiondate              County  \n",
       "51278             119668       1960  6111      2017-08-31      Ventura County  \n",
       "30633             919553       1922  6037      2017-06-13  Los Angeles County  \n",
       "1069              390871       1964  6059      2017-01-06       Orange County  \n",
       "5125               58361       1947  6037      2017-02-15  Los Angeles County  \n",
       "15166             396326       1956  6037      2017-03-24  Los Angeles County  "
      ]
     },
     "execution_count": 60,
     "metadata": {},
     "output_type": "execute_result"
    }
   ],
   "source": [
    "train.head()"
   ]
  },
  {
   "cell_type": "markdown",
   "id": "de5640eb",
   "metadata": {},
   "source": [
    "Question 1- Is there a relationship with the number of bathrroms a property has and the property value ?\n",
    " - categorical & Quantative \n",
    " - T TEST OR ANOVA\n",
    "Question 2 - does a prperty with a certain number of bathrooms cause an increase in property value?\n",
    " - categorical & quant \n",
    " - CHI SQARED \n",
    "Question 3- does the number of square feet have a relationship with the county the property is in?\n",
    "- categorical and cont\n",
    "- t test or anova\n",
    "question 4- does the year the home was built have a relationship with area it is in ?\n",
    "- cont& categorical \n",
    "- t test or anova \n",
    "\n"
   ]
  },
  {
   "cell_type": "code",
   "execution_count": null,
   "id": "9297bcc5",
   "metadata": {},
   "outputs": [],
   "source": []
  },
  {
   "cell_type": "markdown",
   "id": "4d68f7d2",
   "metadata": {},
   "source": [
    "##  Question 1- Is there a relationship with the number of bathrroms a property has and the county the property is in ?\n",
    " - categorical & Quantative \n",
    " - T TEST OR ANOVA"
   ]
  },
  {
   "cell_type": "code",
   "execution_count": 93,
   "id": "ed65a22a",
   "metadata": {},
   "outputs": [
    {
     "data": {
      "image/png": "[encoded data removed]",
      "text/plain": [
       "<Figure size 720x648 with 2 Axes>"
      ]
     },
     "metadata": {
      "needs_background": "light"
     },
     "output_type": "display_data"
    }
   ],
   "source": [
    "fig, ax =plt.subplots(2,1, figsize=(10,9))\n",
    "sns.barplot(x= 'bathroomcnt', y='taxvaluedollarcnt', data=train, ax=ax[0], palette=\"rocket\")\n",
    "sns.countplot(x= 'bathroomcnt', hue = \"County\", data=train)\n",
    "fig.show()"
   ]
  },
  {
   "cell_type": "code",
   "execution_count": null,
   "id": "17a82bff",
   "metadata": {},
   "outputs": [],
   "source": []
  },
  {
   "cell_type": "code",
   "execution_count": null,
   "id": "582b0022",
   "metadata": {},
   "outputs": [],
   "source": []
  },
  {
   "cell_type": "markdown",
   "id": "b36f35f3",
   "metadata": {},
   "source": [
    "## Question 2 - does a prperty with a certain number of bedrroms cause an increase in property value?\n",
    " - categorical and quantaive \n",
    " - t-test"
   ]
  },
  {
   "cell_type": "code",
   "execution_count": 92,
   "id": "35622848",
   "metadata": {},
   "outputs": [
    {
     "data": {
      "text/plain": [
       "<AxesSubplot:xlabel='bedroomcnt', ylabel='taxvaluedollarcnt'>"
      ]
     },
     "execution_count": 92,
     "metadata": {},
     "output_type": "execute_result"
    },
    {
     "data": {
      "image/png": "[encoded data removed]",
      "text/plain": [
       "<Figure size 432x288 with 1 Axes>"
      ]
     },
     "metadata": {
      "needs_background": "light"
     },
     "output_type": "display_data"
    }
   ],
   "source": [
    " sns.barplot(x= 'bedroomcnt', y='taxvaluedollarcnt', data=train, palette=\"rocket\")"
   ]
  },
  {
   "cell_type": "markdown",
   "id": "b3106c46",
   "metadata": {},
   "source": [
    " which county hass the largest number of bedrooms ?"
   ]
  },
  {
   "cell_type": "code",
   "execution_count": 72,
   "id": "9106c7f4",
   "metadata": {},
   "outputs": [
    {
     "data": {
      "text/plain": [
       "<AxesSubplot:xlabel='bedroomcnt', ylabel='count'>"
      ]
     },
     "execution_count": 72,
     "metadata": {},
     "output_type": "execute_result"
    },
    {
     "data": {
      "image/png": "[encoded data removed]",
      "text/plain": [
       "<Figure size 432x288 with 1 Axes>"
      ]
     },
     "metadata": {
      "needs_background": "light"
     },
     "output_type": "display_data"
    }
   ],
   "source": [
    " sns.countplot(x= 'bedroomcnt', hue = \"County\", data=train)"
   ]
  },
  {
   "cell_type": "code",
   "execution_count": null,
   "id": "69aaa2de",
   "metadata": {},
   "outputs": [],
   "source": []
  },
  {
   "cell_type": "markdown",
   "id": "ce1f3ea3",
   "metadata": {},
   "source": [
    "## Question 3- does the number of square feet have a relationship with the county the property is in?\n",
    "- categorical and cont\n",
    "- t test or anova"
   ]
  },
  {
   "cell_type": "code",
   "execution_count": 112,
   "id": "4d845ada",
   "metadata": {
    "scrolled": true
   },
   "outputs": [
    {
     "data": {
      "text/plain": [
       "<AxesSubplot:xlabel='County', ylabel='calculatedfinishedsquarefeet'>"
      ]
     },
     "execution_count": 112,
     "metadata": {},
     "output_type": "execute_result"
    },
    {
     "data": {
      "image/png": "[encoded data removed]",
      "text/plain": [
       "<Figure size 432x288 with 1 Axes>"
      ]
     },
     "metadata": {
      "needs_background": "light"
     },
     "output_type": "display_data"
    }
   ],
   "source": [
    " sns.barplot(y= 'calculatedfinishedsquarefeet', x='County', data=train)"
   ]
  },
  {
   "cell_type": "code",
   "execution_count": 120,
   "id": "58a9ab53",
   "metadata": {},
   "outputs": [
    {
     "data": {
      "text/plain": [
       "<seaborn.axisgrid.FacetGrid at 0x176a17850>"
      ]
     },
     "execution_count": 120,
     "metadata": {},
     "output_type": "execute_result"
    },
    {
     "data": {
      "image/png": "[encoded data removed]",
      "text/plain": [
       "<Figure size 494.25x360 with 1 Axes>"
      ]
     },
     "metadata": {
      "needs_background": "light"
     },
     "output_type": "display_data"
    }
   ],
   "source": [
    " sns.lmplot(y= 'taxvaluedollarcnt',x = 'calculatedfinishedsquarefeet', hue='County', data=train)"
   ]
  },
  {
   "cell_type": "code",
   "execution_count": 116,
   "id": "869fe562",
   "metadata": {},
   "outputs": [
    {
     "data": {
      "image/png": "[encoded data removed]",
      "text/plain": [
       "<Figure size 1080x360 with 3 Axes>"
      ]
     },
     "metadata": {
      "needs_background": "light"
     },
     "output_type": "display_data"
    }
   ],
   "source": [
    "def plot_variable_pairs():\n",
    "    columns = ['calculatedfinishedsquarefeet']\n",
    "    for col in columns:\n",
    "        sns.lmplot(x= col, y=\"taxvaluedollarcnt\", data=train.sample(3500), col = 'County', hue = 'County', line_kws={'color': 'gray'})\n",
    "        \n",
    "plot_variable_pairs()"
   ]
  },
  {
   "cell_type": "code",
   "execution_count": null,
   "id": "6a7cc2de",
   "metadata": {},
   "outputs": [],
   "source": []
  },
  {
   "cell_type": "markdown",
   "id": "0dc51b33",
   "metadata": {},
   "source": [
    "question 4- does the year the home was built have a relationship with area it is in ?\n",
    "- cont& categorical \n",
    "- t test or anova \n"
   ]
  },
  {
   "cell_type": "code",
   "execution_count": 125,
   "id": "d7819d90",
   "metadata": {},
   "outputs": [
    {
     "name": "stdout",
     "output_type": "stream",
     "text": [
      "<class 'pandas.core.frame.DataFrame'>\n",
      "Int64Index: 27773 entries, 51278 to 48531\n",
      "Data columns (total 8 columns):\n",
      " #   Column                        Non-Null Count  Dtype  \n",
      "---  ------                        --------------  -----  \n",
      " 0   bathroomcnt                   27773 non-null  float64\n",
      " 1   bedroomcnt                    27773 non-null  int64  \n",
      " 2   calculatedfinishedsquarefeet  27773 non-null  int64  \n",
      " 3   taxvaluedollarcnt             27773 non-null  int64  \n",
      " 4   yearbuilt                     27773 non-null  int64  \n",
      " 5   fips                          27773 non-null  int64  \n",
      " 6   transactiondate               27773 non-null  object \n",
      " 7   County                        27773 non-null  object \n",
      "dtypes: float64(1), int64(5), object(2)\n",
      "memory usage: 2.9+ MB\n"
     ]
    }
   ],
   "source": [
    "train.info()"
   ]
  },
  {
   "cell_type": "markdown",
   "id": "f39a483b",
   "metadata": {},
   "source": [
    "### Feaure Engeneering"
   ]
  },
  {
   "cell_type": "code",
   "execution_count": 121,
   "id": "b18dbc07",
   "metadata": {},
   "outputs": [],
   "source": [
    "from sklearn.feature_selection import SelectKBest, RFE, f_regression, SequentialFeatureSelector"
   ]
  },
  {
   "cell_type": "code",
   "execution_count": 139,
   "id": "43753bc3",
   "metadata": {},
   "outputs": [],
   "source": [
    "X_train = train_s[['bathroomcnt', 'bedroomcnt', 'calculatedfinishedsquarefeet', 'fips']]\n",
    "y_train = train_s.taxvaluedollarcnt\n",
    "X_validate = valid_s[['bathroomcnt', 'bedroomcnt', 'calculatedfinishedsquarefeet', 'fips']]\n",
    "y_validate = valid_s.taxvaluedollarcnt\n",
    "X_test = test_s[['bathroomcnt', 'bedroomcnt', 'calculatedfinishedsquarefeet', 'fips']]\n",
    "y_test = test_s.taxvaluedollarcnt"
   ]
  },
  {
   "cell_type": "code",
   "execution_count": 140,
   "id": "09402671",
   "metadata": {},
   "outputs": [
    {
     "data": {
      "text/plain": [
       "SelectKBest(k=2, score_func=<function f_regression at 0x176b71af0>)"
      ]
     },
     "execution_count": 140,
     "metadata": {},
     "output_type": "execute_result"
    }
   ],
   "source": [
    "# Like our other sklearn objects...\n",
    "kbest = SelectKBest(f_regression, k=2)\n",
    "kbest.fit(X_train, y_train)"
   ]
  },
  {
   "cell_type": "code",
   "execution_count": 141,
   "id": "a31a97e5",
   "metadata": {},
   "outputs": [
    {
     "data": {
      "text/html": [
       "<div>\n",
       "<style scoped>\n",
       "    .dataframe tbody tr th:only-of-type {\n",
       "        vertical-align: middle;\n",
       "    }\n",
       "\n",
       "    .dataframe tbody tr th {\n",
       "        vertical-align: top;\n",
       "    }\n",
       "\n",
       "    .dataframe thead th {\n",
       "        text-align: right;\n",
       "    }\n",
       "</style>\n",
       "<table border=\"1\" class=\"dataframe\">\n",
       "  <thead>\n",
       "    <tr style=\"text-align: right;\">\n",
       "      <th></th>\n",
       "      <th>p</th>\n",
       "      <th>f</th>\n",
       "    </tr>\n",
       "  </thead>\n",
       "  <tbody>\n",
       "    <tr>\n",
       "      <th>bathroomcnt</th>\n",
       "      <td>0.000000e+00</td>\n",
       "      <td>8007.694874</td>\n",
       "    </tr>\n",
       "    <tr>\n",
       "      <th>bedroomcnt</th>\n",
       "      <td>0.000000e+00</td>\n",
       "      <td>2008.928770</td>\n",
       "    </tr>\n",
       "    <tr>\n",
       "      <th>calculatedfinishedsquarefeet</th>\n",
       "      <td>0.000000e+00</td>\n",
       "      <td>11343.871085</td>\n",
       "    </tr>\n",
       "    <tr>\n",
       "      <th>fips</th>\n",
       "      <td>1.308526e-98</td>\n",
       "      <td>447.796415</td>\n",
       "    </tr>\n",
       "  </tbody>\n",
       "</table>\n",
       "</div>"
      ],
      "text/plain": [
       "                                         p             f\n",
       "bathroomcnt                   0.000000e+00   8007.694874\n",
       "bedroomcnt                    0.000000e+00   2008.928770\n",
       "calculatedfinishedsquarefeet  0.000000e+00  11343.871085\n",
       "fips                          1.308526e-98    447.796415"
      ]
     },
     "execution_count": 141,
     "metadata": {},
     "output_type": "execute_result"
    }
   ],
   "source": [
    "kbest_results = pd.DataFrame(dict(p=kbest.pvalues_, f=kbest.scores_), index=X_train.columns)\n",
    "kbest_results"
   ]
  },
  {
   "cell_type": "code",
   "execution_count": 142,
   "id": "dd5a5ca1",
   "metadata": {},
   "outputs": [
    {
     "data": {
      "text/plain": [
       "Index(['bathroomcnt', 'calculatedfinishedsquarefeet'], dtype='object')"
      ]
     },
     "execution_count": 142,
     "metadata": {},
     "output_type": "execute_result"
    }
   ],
   "source": [
    "X_train.columns[kbest.get_support()]"
   ]
  },
  {
   "cell_type": "code",
   "execution_count": 143,
   "id": "082593f1",
   "metadata": {},
   "outputs": [
    {
     "data": {
      "text/html": [
       "<div>\n",
       "<style scoped>\n",
       "    .dataframe tbody tr th:only-of-type {\n",
       "        vertical-align: middle;\n",
       "    }\n",
       "\n",
       "    .dataframe tbody tr th {\n",
       "        vertical-align: top;\n",
       "    }\n",
       "\n",
       "    .dataframe thead th {\n",
       "        text-align: right;\n",
       "    }\n",
       "</style>\n",
       "<table border=\"1\" class=\"dataframe\">\n",
       "  <thead>\n",
       "    <tr style=\"text-align: right;\">\n",
       "      <th></th>\n",
       "      <th>bathroomcnt</th>\n",
       "      <th>calculatedfinishedsquarefeet</th>\n",
       "    </tr>\n",
       "  </thead>\n",
       "  <tbody>\n",
       "    <tr>\n",
       "      <th>51278</th>\n",
       "      <td>0.0</td>\n",
       "      <td>0.108761</td>\n",
       "    </tr>\n",
       "    <tr>\n",
       "      <th>30633</th>\n",
       "      <td>0.2</td>\n",
       "      <td>0.308020</td>\n",
       "    </tr>\n",
       "    <tr>\n",
       "      <th>1069</th>\n",
       "      <td>0.3</td>\n",
       "      <td>0.176600</td>\n",
       "    </tr>\n",
       "    <tr>\n",
       "      <th>5125</th>\n",
       "      <td>0.0</td>\n",
       "      <td>0.135952</td>\n",
       "    </tr>\n",
       "    <tr>\n",
       "      <th>15166</th>\n",
       "      <td>0.2</td>\n",
       "      <td>0.154765</td>\n",
       "    </tr>\n",
       "  </tbody>\n",
       "</table>\n",
       "</div>"
      ],
      "text/plain": [
       "       bathroomcnt  calculatedfinishedsquarefeet\n",
       "51278          0.0                      0.108761\n",
       "30633          0.2                      0.308020\n",
       "1069           0.3                      0.176600\n",
       "5125           0.0                      0.135952\n",
       "15166          0.2                      0.154765"
      ]
     },
     "execution_count": 143,
     "metadata": {},
     "output_type": "execute_result"
    }
   ],
   "source": [
    "X_train_transformed = pd.DataFrame(\n",
    "    kbest.transform(X_train),\n",
    "    index=X_train.index,\n",
    "    columns=X_train.columns[kbest.get_support()]\n",
    ")\n",
    "X_train_transformed.head()"
   ]
  },
  {
   "cell_type": "code",
   "execution_count": 144,
   "id": "1a8f88de",
   "metadata": {},
   "outputs": [],
   "source": [
    "from sklearn.linear_model import LinearRegression"
   ]
  },
  {
   "cell_type": "code",
   "execution_count": 145,
   "id": "c0efa4d7",
   "metadata": {},
   "outputs": [
    {
     "data": {
      "text/plain": [
       "RFE(estimator=LinearRegression(), n_features_to_select=2)"
      ]
     },
     "execution_count": 145,
     "metadata": {},
     "output_type": "execute_result"
    }
   ],
   "source": [
    "model = LinearRegression()\n",
    "rfe = RFE(model, n_features_to_select=2)\n",
    "rfe.fit(X_train, y_train)"
   ]
  },
  {
   "cell_type": "code",
   "execution_count": 146,
   "id": "31dfe226",
   "metadata": {},
   "outputs": [
    {
     "data": {
      "text/html": [
       "<div>\n",
       "<style scoped>\n",
       "    .dataframe tbody tr th:only-of-type {\n",
       "        vertical-align: middle;\n",
       "    }\n",
       "\n",
       "    .dataframe tbody tr th {\n",
       "        vertical-align: top;\n",
       "    }\n",
       "\n",
       "    .dataframe thead th {\n",
       "        text-align: right;\n",
       "    }\n",
       "</style>\n",
       "<table border=\"1\" class=\"dataframe\">\n",
       "  <thead>\n",
       "    <tr style=\"text-align: right;\">\n",
       "      <th></th>\n",
       "      <th>rfe_ranking</th>\n",
       "    </tr>\n",
       "  </thead>\n",
       "  <tbody>\n",
       "    <tr>\n",
       "      <th>bathroomcnt</th>\n",
       "      <td>2</td>\n",
       "    </tr>\n",
       "    <tr>\n",
       "      <th>bedroomcnt</th>\n",
       "      <td>1</td>\n",
       "    </tr>\n",
       "    <tr>\n",
       "      <th>calculatedfinishedsquarefeet</th>\n",
       "      <td>1</td>\n",
       "    </tr>\n",
       "    <tr>\n",
       "      <th>fips</th>\n",
       "      <td>3</td>\n",
       "    </tr>\n",
       "  </tbody>\n",
       "</table>\n",
       "</div>"
      ],
      "text/plain": [
       "                              rfe_ranking\n",
       "bathroomcnt                             2\n",
       "bedroomcnt                              1\n",
       "calculatedfinishedsquarefeet            1\n",
       "fips                                    3"
      ]
     },
     "execution_count": 146,
     "metadata": {},
     "output_type": "execute_result"
    }
   ],
   "source": [
    "pd.DataFrame({'rfe_ranking': rfe.ranking_}, index=X_train.columns)"
   ]
  },
  {
   "cell_type": "code",
   "execution_count": 147,
   "id": "50d00f09",
   "metadata": {},
   "outputs": [
    {
     "data": {
      "text/plain": [
       "Index(['bedroomcnt', 'calculatedfinishedsquarefeet'], dtype='object')"
      ]
     },
     "execution_count": 147,
     "metadata": {},
     "output_type": "execute_result"
    }
   ],
   "source": [
    "X_train.columns[rfe.get_support()]"
   ]
  },
  {
   "cell_type": "code",
   "execution_count": 148,
   "id": "2042aa1d",
   "metadata": {},
   "outputs": [
    {
     "data": {
      "text/html": [
       "<div>\n",
       "<style scoped>\n",
       "    .dataframe tbody tr th:only-of-type {\n",
       "        vertical-align: middle;\n",
       "    }\n",
       "\n",
       "    .dataframe tbody tr th {\n",
       "        vertical-align: top;\n",
       "    }\n",
       "\n",
       "    .dataframe thead th {\n",
       "        text-align: right;\n",
       "    }\n",
       "</style>\n",
       "<table border=\"1\" class=\"dataframe\">\n",
       "  <thead>\n",
       "    <tr style=\"text-align: right;\">\n",
       "      <th></th>\n",
       "      <th>bedroomcnt</th>\n",
       "      <th>calculatedfinishedsquarefeet</th>\n",
       "    </tr>\n",
       "  </thead>\n",
       "  <tbody>\n",
       "    <tr>\n",
       "      <th>51278</th>\n",
       "      <td>0.4</td>\n",
       "      <td>0.108761</td>\n",
       "    </tr>\n",
       "    <tr>\n",
       "      <th>30633</th>\n",
       "      <td>0.6</td>\n",
       "      <td>0.308020</td>\n",
       "    </tr>\n",
       "    <tr>\n",
       "      <th>1069</th>\n",
       "      <td>0.4</td>\n",
       "      <td>0.176600</td>\n",
       "    </tr>\n",
       "    <tr>\n",
       "      <th>5125</th>\n",
       "      <td>0.4</td>\n",
       "      <td>0.135952</td>\n",
       "    </tr>\n",
       "    <tr>\n",
       "      <th>15166</th>\n",
       "      <td>0.4</td>\n",
       "      <td>0.154765</td>\n",
       "    </tr>\n",
       "  </tbody>\n",
       "</table>\n",
       "</div>"
      ],
      "text/plain": [
       "       bedroomcnt  calculatedfinishedsquarefeet\n",
       "51278         0.4                      0.108761\n",
       "30633         0.6                      0.308020\n",
       "1069          0.4                      0.176600\n",
       "5125          0.4                      0.135952\n",
       "15166         0.4                      0.154765"
      ]
     },
     "execution_count": 148,
     "metadata": {},
     "output_type": "execute_result"
    }
   ],
   "source": [
    "X_train_transformed = pd.DataFrame(\n",
    "    rfe.transform(X_train),\n",
    "    index=X_train.index,\n",
    "    columns=X_train.columns[rfe.support_]\n",
    ")\n",
    "X_train_transformed.head()"
   ]
  },
  {
   "cell_type": "code",
   "execution_count": 149,
   "id": "cbea70bc",
   "metadata": {},
   "outputs": [
    {
     "data": {
      "text/plain": [
       "SequentialFeatureSelector(direction='backward', estimator=LinearRegression(),\n",
       "                          n_features_to_select=2,\n",
       "                          scoring='neg_mean_absolute_error')"
      ]
     },
     "execution_count": 149,
     "metadata": {},
     "output_type": "execute_result"
    }
   ],
   "source": [
    "model = LinearRegression()\n",
    "sfs = SequentialFeatureSelector(model, n_features_to_select=2, scoring='neg_mean_absolute_error', direction='backward')\n",
    "sfs.fit(X_train, y_train)"
   ]
  },
  {
   "cell_type": "code",
   "execution_count": 150,
   "id": "cb60ea3e",
   "metadata": {},
   "outputs": [
    {
     "data": {
      "text/html": [
       "<div>\n",
       "<style scoped>\n",
       "    .dataframe tbody tr th:only-of-type {\n",
       "        vertical-align: middle;\n",
       "    }\n",
       "\n",
       "    .dataframe tbody tr th {\n",
       "        vertical-align: top;\n",
       "    }\n",
       "\n",
       "    .dataframe thead th {\n",
       "        text-align: right;\n",
       "    }\n",
       "</style>\n",
       "<table border=\"1\" class=\"dataframe\">\n",
       "  <thead>\n",
       "    <tr style=\"text-align: right;\">\n",
       "      <th></th>\n",
       "      <th>bedroomcnt</th>\n",
       "      <th>calculatedfinishedsquarefeet</th>\n",
       "    </tr>\n",
       "  </thead>\n",
       "  <tbody>\n",
       "    <tr>\n",
       "      <th>51278</th>\n",
       "      <td>0.4</td>\n",
       "      <td>0.108761</td>\n",
       "    </tr>\n",
       "    <tr>\n",
       "      <th>30633</th>\n",
       "      <td>0.6</td>\n",
       "      <td>0.308020</td>\n",
       "    </tr>\n",
       "    <tr>\n",
       "      <th>1069</th>\n",
       "      <td>0.4</td>\n",
       "      <td>0.176600</td>\n",
       "    </tr>\n",
       "    <tr>\n",
       "      <th>5125</th>\n",
       "      <td>0.4</td>\n",
       "      <td>0.135952</td>\n",
       "    </tr>\n",
       "    <tr>\n",
       "      <th>15166</th>\n",
       "      <td>0.4</td>\n",
       "      <td>0.154765</td>\n",
       "    </tr>\n",
       "  </tbody>\n",
       "</table>\n",
       "</div>"
      ],
      "text/plain": [
       "       bedroomcnt  calculatedfinishedsquarefeet\n",
       "51278         0.4                      0.108761\n",
       "30633         0.6                      0.308020\n",
       "1069          0.4                      0.176600\n",
       "5125          0.4                      0.135952\n",
       "15166         0.4                      0.154765"
      ]
     },
     "execution_count": 150,
     "metadata": {},
     "output_type": "execute_result"
    }
   ],
   "source": [
    "X_train_transformed = pd.DataFrame(\n",
    "    sfs.transform(X_train),\n",
    "    index=X_train.index,\n",
    "    columns=X_train.columns[sfs.support_]\n",
    ")\n",
    "X_train_transformed.head()"
   ]
  },
  {
   "cell_type": "code",
   "execution_count": null,
   "id": "df414ff7",
   "metadata": {},
   "outputs": [],
   "source": []
  },
  {
   "cell_type": "code",
   "execution_count": null,
   "id": "d229f592",
   "metadata": {},
   "outputs": [],
   "source": []
  },
  {
   "cell_type": "markdown",
   "id": "db6fcca3",
   "metadata": {},
   "source": [
    "## Modeling "
   ]
  },
  {
   "cell_type": "code",
   "execution_count": null,
   "id": "4b1132db",
   "metadata": {},
   "outputs": [],
   "source": [
    "estabishing a baseline "
   ]
  },
  {
   "cell_type": "code",
   "execution_count": null,
   "id": "b1899f89",
   "metadata": {},
   "outputs": [],
   "source": [
    "X_train = train_s[['bathroomcnt', 'bedroomcnt', 'calculatedfinishedsquarefeet']]\n",
    "y_train = train_s.taxvaluedollarcnt\n",
    "X_validate = valid_s[['bathroomcnt', 'bedroomcnt', 'calculatedfinishedsquarefeet']]\n",
    "y_validate = valid_s.taxvaluedollarcnt\n",
    "X_test = test_s[['bathroomcnt', 'bedroomcnt', 'calculatedfinishedsquarefeet']]\n",
    "y_test = test_s.taxvaluedollarcnt"
   ]
  },
  {
   "cell_type": "code",
   "execution_count": 154,
   "id": "cf7c1902",
   "metadata": {},
   "outputs": [],
   "source": [
    "#making a baseline\n",
    "from math import sqrt\n",
    "from sklearn.metrics import mean_squared_error"
   ]
  },
  {
   "cell_type": "code",
   "execution_count": 163,
   "id": "05daaaf1",
   "metadata": {},
   "outputs": [
    {
     "name": "stdout",
     "output_type": "stream",
     "text": [
      "Train baseline RMSE: 298182.01227437635.\n",
      "Validation baseline RMSE: 302522.8095888484.\n"
     ]
    }
   ],
   "source": [
    "baseline = train.taxvaluedollarcnt.mean()\n",
    "\n",
    "train['baseline'] = baseline\n",
    "validate['baseline'] = baseline\n",
    "\n",
    "train_rmse = sqrt(mean_squared_error(train.taxvaluedollarcnt, train.baseline))\n",
    "valid_rmse = sqrt(mean_squared_error(validate.taxvaluedollarcnt, validate.baseline))\n",
    "\n",
    "print('Train baseline RMSE: {}.'.format(train_rmse))\n",
    "print('Validation baseline RMSE: {}.'.format(valid_rmse))"
   ]
  },
  {
   "cell_type": "code",
   "execution_count": 165,
   "id": "518adba6",
   "metadata": {},
   "outputs": [
    {
     "data": {
      "text/plain": [
       "LinearRegression()"
      ]
     },
     "execution_count": 165,
     "metadata": {},
     "output_type": "execute_result"
    }
   ],
   "source": [
    "lm = LinearRegression()\n",
    "\n",
    "lm.fit(X_train, y_train)"
   ]
  },
  {
   "cell_type": "code",
   "execution_count": 185,
   "id": "9227576a",
   "metadata": {},
   "outputs": [
    {
     "data": {
      "text/plain": [
       "(array([ 2.53851012e+05, -2.79395578e+05,  1.44833723e+06,  7.90300935e+02]),\n",
       " -4631969.127222786)"
      ]
     },
     "execution_count": 185,
     "metadata": {},
     "output_type": "execute_result"
    }
   ],
   "source": [
    "lm.coef_, lm.intercept_"
   ]
  },
  {
   "cell_type": "code",
   "execution_count": null,
   "id": "9d78985b",
   "metadata": {},
   "outputs": [],
   "source": []
  },
  {
   "cell_type": "code",
   "execution_count": null,
   "id": "b6e698d7",
   "metadata": {},
   "outputs": [],
   "source": []
  },
  {
   "cell_type": "code",
   "execution_count": null,
   "id": "74ec6a57",
   "metadata": {},
   "outputs": [],
   "source": []
  },
  {
   "cell_type": "code",
   "execution_count": 168,
   "id": "74267911",
   "metadata": {},
   "outputs": [
    {
     "data": {
      "text/plain": [
       "LassoLars()"
      ]
     },
     "execution_count": 168,
     "metadata": {},
     "output_type": "execute_result"
    }
   ],
   "source": [
    "lars = LassoLars(alpha=1.0)\n",
    "\n",
    "lars.fit(X_train, y_train)"
   ]
  },
  {
   "cell_type": "code",
   "execution_count": 170,
   "id": "17532301",
   "metadata": {},
   "outputs": [
    {
     "data": {
      "text/plain": [
       "TweedieRegressor(alpha=1, power=0)"
      ]
     },
     "execution_count": 170,
     "metadata": {},
     "output_type": "execute_result"
    }
   ],
   "source": [
    "#Instantiate TweedieRegressor and fit\n",
    "glm = TweedieRegressor(power=0, alpha=1)\n",
    "\n",
    "glm.fit(X_train, y_train)"
   ]
  },
  {
   "cell_type": "code",
   "execution_count": 179,
   "id": "11b07819",
   "metadata": {},
   "outputs": [
    {
     "name": "stdout",
     "output_type": "stream",
     "text": [
      "<class 'pandas.core.frame.DataFrame'>\n",
      "Int64Index: 27773 entries, 51278 to 48531\n",
      "Data columns (total 9 columns):\n",
      " #   Column                        Non-Null Count  Dtype  \n",
      "---  ------                        --------------  -----  \n",
      " 0   bathroomcnt                   27773 non-null  float64\n",
      " 1   bedroomcnt                    27773 non-null  int64  \n",
      " 2   calculatedfinishedsquarefeet  27773 non-null  int64  \n",
      " 3   taxvaluedollarcnt             27773 non-null  int64  \n",
      " 4   yearbuilt                     27773 non-null  int64  \n",
      " 5   fips                          27773 non-null  int64  \n",
      " 6   transactiondate               27773 non-null  object \n",
      " 7   County                        27773 non-null  object \n",
      " 8   baseline                      27773 non-null  float64\n",
      "dtypes: float64(2), int64(5), object(2)\n",
      "memory usage: 3.1+ MB\n"
     ]
    }
   ],
   "source": [
    "train.info()"
   ]
  },
  {
   "cell_type": "code",
   "execution_count": null,
   "id": "c1b94ce1",
   "metadata": {},
   "outputs": [],
   "source": [
    "X_train = train_s[['bathroomcnt', 'bedroomcnt', 'calculatedfinishedsquarefeet']]\n",
    "y_train = train_s.taxvaluedollarcnt\n",
    "X_validate = valid_s[['bathroomcnt', 'bedroomcnt', 'calculatedfinishedsquarefeet']]\n",
    "y_validate = valid_s.taxvaluedollarcnt\n",
    "X_test = test_s[['bathroomcnt', 'bedroomcnt', 'calculatedfinishedsquarefeet']]\n",
    "y_test = test_s.taxvaluedollarcnt"
   ]
  },
  {
   "cell_type": "code",
   "execution_count": 177,
   "id": "5ecd31d1",
   "metadata": {
    "scrolled": true
   },
   "outputs": [
    {
     "data": {
      "text/plain": [
       "51278    119668\n",
       "30633    919553\n",
       "1069     390871\n",
       "5125      58361\n",
       "15166    396326\n",
       "Name: taxvaluedollarcnt, dtype: object"
      ]
     },
     "execution_count": 177,
     "metadata": {},
     "output_type": "execute_result"
    }
   ],
   "source": [
    "y_train.head()"
   ]
  },
  {
   "cell_type": "code",
   "execution_count": 182,
   "id": "2353fa2c",
   "metadata": {},
   "outputs": [
    {
     "data": {
      "text/plain": [
       "((27773, 4), (11903, 4), (9920, 4))"
      ]
     },
     "execution_count": 182,
     "metadata": {},
     "output_type": "execute_result"
    }
   ],
   "source": [
    "X_train.shape, X_validate.shape, X_test.shape"
   ]
  },
  {
   "cell_type": "code",
   "execution_count": null,
   "id": "b5fe7581",
   "metadata": {
    "scrolled": true
   },
   "outputs": [],
   "source": []
  },
  {
   "cell_type": "code",
   "execution_count": null,
   "id": "01c0512e",
   "metadata": {},
   "outputs": [],
   "source": []
  },
  {
   "cell_type": "code",
   "execution_count": null,
   "id": "1a123632",
   "metadata": {},
   "outputs": [],
   "source": []
  },
  {
   "cell_type": "code",
   "execution_count": null,
   "id": "bd9cb8c7",
   "metadata": {},
   "outputs": [],
   "source": []
  },
  {
   "cell_type": "code",
   "execution_count": null,
   "id": "e4e7f41b",
   "metadata": {},
   "outputs": [],
   "source": []
  },
  {
   "cell_type": "code",
   "execution_count": null,
   "id": "cd958972",
   "metadata": {},
   "outputs": [],
   "source": []
  },
  {
   "cell_type": "code",
   "execution_count": null,
   "id": "3a709209",
   "metadata": {},
   "outputs": [],
   "source": []
  },
  {
   "cell_type": "code",
   "execution_count": null,
   "id": "208d8645",
   "metadata": {},
   "outputs": [],
   "source": []
  },
  {
   "cell_type": "code",
   "execution_count": null,
   "id": "3aef223a",
   "metadata": {},
   "outputs": [],
   "source": []
  },
  {
   "cell_type": "code",
   "execution_count": null,
   "id": "176f7f18",
   "metadata": {},
   "outputs": [],
   "source": []
  },
  {
   "cell_type": "code",
   "execution_count": null,
   "id": "b591b1a3",
   "metadata": {},
   "outputs": [],
   "source": []
  },
  {
   "cell_type": "code",
   "execution_count": null,
   "id": "2796ad7e",
   "metadata": {},
   "outputs": [],
   "source": []
  }
 ],
 "metadata": {
  "kernelspec": {
   "display_name": "Python 3 (ipykernel)",
   "language": "python",
   "name": "python3"
  },
  "language_info": {
   "codemirror_mode": {
    "name": "ipython",
    "version": 3
   },
   "file_extension": ".py",
   "mimetype": "text/x-python",
   "name": "python",
   "nbconvert_exporter": "python",
   "pygments_lexer": "ipython3",
   "version": "3.9.12"
  }
 },
 "nbformat": 4,
 "nbformat_minor": 5
}
